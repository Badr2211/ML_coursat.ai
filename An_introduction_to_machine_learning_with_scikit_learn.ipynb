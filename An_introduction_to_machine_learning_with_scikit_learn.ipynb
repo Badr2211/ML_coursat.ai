{
  "nbformat": 4,
  "nbformat_minor": 0,
  "metadata": {
    "anaconda-cloud": {},
    "kernelspec": {
      "display_name": "Python [conda root]",
      "language": "python",
      "name": "conda-root-py"
    },
    "language_info": {
      "codemirror_mode": {
        "name": "ipython",
        "version": 3
      },
      "file_extension": ".py",
      "mimetype": "text/x-python",
      "name": "python",
      "nbconvert_exporter": "python",
      "pygments_lexer": "ipython3",
      "version": "3.5.2"
    },
    "colab": {
      "provenance": [],
      "include_colab_link": true
    }
  },
  "cells": [
    {
      "cell_type": "markdown",
      "metadata": {
        "id": "view-in-github",
        "colab_type": "text"
      },
      "source": [
        "<a href=\"https://colab.research.google.com/github/Badr2211/ML_coursat.ai/blob/main/An_introduction_to_machine_learning_with_scikit_learn.ipynb\" target=\"_parent\"><img src=\"https://colab.research.google.com/assets/colab-badge.svg\" alt=\"Open In Colab\"/></a>"
      ]
    },
    {
      "cell_type": "markdown",
      "metadata": {
        "id": "-_lrFtuY_dhh"
      },
      "source": [
        "# 1. Data"
      ]
    },
    {
      "cell_type": "markdown",
      "metadata": {
        "id": "3cZmsFqd_dhi"
      },
      "source": [
        "# Load data"
      ]
    },
    {
      "cell_type": "markdown",
      "metadata": {
        "id": "vHRS0iNl_dhj"
      },
      "source": [
        "Sample datasets:\n",
        "    scikit-learn comes with a few standard datasets, for instance the iris and digits datasets for classification and the boston house prices dataset for regression."
      ]
    },
    {
      "cell_type": "code",
      "metadata": {
        "id": "ZI5iHGyN_dhj"
      },
      "source": [
        "\n",
        "from sklearn import datasets\n",
        "iris = datasets.load_iris()\n",
        "digits = datasets.load_digits()\n",
        "boston = datasets.load_boston()"
      ],
      "execution_count": null,
      "outputs": []
    },
    {
      "cell_type": "markdown",
      "metadata": {
        "id": "FKT2ayDW_dho"
      },
      "source": [
        "## Digits"
      ]
    },
    {
      "cell_type": "markdown",
      "metadata": {
        "id": "I-gqoZxq_dhp"
      },
      "source": [
        "### Simple Exploratory Data Analysis (EDA)"
      ]
    },
    {
      "cell_type": "markdown",
      "metadata": {
        "id": "rYuQq3YX_dhq"
      },
      "source": [
        "Any dataset contains:\n",
        "    - data: [n_samples, n_features]\n",
        "    - target: [n_samples,]"
      ]
    },
    {
      "cell_type": "code",
      "metadata": {
        "id": "owC6-ovs_dhq",
        "colab": {
          "base_uri": "https://localhost:8080/",
          "height": 151
        },
        "outputId": "70f34562-bca4-49d1-b469-79b64078d848"
      },
      "source": [
        "print(digits.data)\n",
        "print(digits.data.shape)#(n_samples, n_features)"
      ],
      "execution_count": null,
      "outputs": [
        {
          "output_type": "stream",
          "text": [
            "[[ 0.  0.  5. ...  0.  0.  0.]\n",
            " [ 0.  0.  0. ... 10.  0.  0.]\n",
            " [ 0.  0.  0. ... 16.  9.  0.]\n",
            " ...\n",
            " [ 0.  0.  1. ...  6.  0.  0.]\n",
            " [ 0.  0.  2. ... 12.  0.  0.]\n",
            " [ 0.  0. 10. ... 12.  1.  0.]]\n",
            "(1797, 64)\n"
          ],
          "name": "stdout"
        }
      ]
    },
    {
      "cell_type": "code",
      "metadata": {
        "id": "xWZ0-Ono_dhu",
        "colab": {
          "base_uri": "https://localhost:8080/",
          "height": 282
        },
        "outputId": "fa78a343-2797-4b97-da18-6f6c658e1449"
      },
      "source": [
        "import matplotlib.pyplot as plt\n",
        "%matplotlib inline\n",
        "\n",
        "plt.imshow(digits.images[0])"
      ],
      "execution_count": null,
      "outputs": [
        {
          "output_type": "execute_result",
          "data": {
            "text/plain": [
              "<matplotlib.image.AxesImage at 0x7fd1defb2240>"
            ]
          },
          "metadata": {
            "tags": []
          },
          "execution_count": 3
        },
        {
          "output_type": "display_data",
          "data": {
            "image/png": "[encoded data removed]",
            "text/plain": [
              "<Figure size 432x288 with 1 Axes>"
            ]
          },
          "metadata": {
            "tags": [],
            "needs_background": "light"
          }
        }
      ]
    },
    {
      "cell_type": "markdown",
      "metadata": {
        "id": "lMANpHhT_dhx"
      },
      "source": [
        "### You could plot from data directly"
      ]
    },
    {
      "cell_type": "code",
      "metadata": {
        "id": "oR6P40yU_dhy",
        "colab": {
          "base_uri": "https://localhost:8080/",
          "height": 282
        },
        "outputId": "0036177d-6f7d-4f24-c519-8c1198ba2372"
      },
      "source": [
        "import matplotlib.pyplot as plt\n",
        "%matplotlib inline\n",
        "import numpy as np\n",
        "\n",
        "plt.imshow(np.reshape(digits.data[0], [8, 8]))"
      ],
      "execution_count": null,
      "outputs": [
        {
          "output_type": "execute_result",
          "data": {
            "text/plain": [
              "<matplotlib.image.AxesImage at 0x7fd1def55b70>"
            ]
          },
          "metadata": {
            "tags": []
          },
          "execution_count": 4
        },
        {
          "output_type": "display_data",
          "data": {
            "image/png": "[encoded data removed]",
            "text/plain": [
              "<Figure size 432x288 with 1 Axes>"
            ]
          },
          "metadata": {
            "tags": [],
            "needs_background": "light"
          }
        }
      ]
    },
    {
      "cell_type": "code",
      "metadata": {
        "id": "3czvXMnO_dh1",
        "colab": {
          "base_uri": "https://localhost:8080/",
          "height": 67
        },
        "outputId": "0be77e87-c72f-4843-f783-254316e36344"
      },
      "source": [
        "print(digits.target)\n",
        "print(digits.target.shape)\n",
        "print(digits.images.shape)\n"
      ],
      "execution_count": null,
      "outputs": [
        {
          "output_type": "stream",
          "text": [
            "[0 1 2 ... 8 9 8]\n",
            "(1797,)\n",
            "(1797, 8, 8)\n"
          ],
          "name": "stdout"
        }
      ]
    },
    {
      "cell_type": "markdown",
      "metadata": {
        "id": "XKSscOy7_dh5"
      },
      "source": [
        "## Iris"
      ]
    },
    {
      "cell_type": "markdown",
      "metadata": {
        "id": "bAXTznRS_dh6"
      },
      "source": [
        "### Simple Exploratory Data Analysis (EDA)"
      ]
    },
    {
      "cell_type": "code",
      "metadata": {
        "id": "LFDcf5oI_dh7",
        "colab": {
          "base_uri": "https://localhost:8080/",
          "height": 50
        },
        "outputId": "2cb9a5e3-2487-4914-abf3-536d972c5532"
      },
      "source": [
        "dataset = iris\n",
        "#print(dataset.data)\n",
        "print(dataset.data.shape)#(n_samples, n_features)\n",
        "#print(dataset.target)\n",
        "print(dataset.target.shape)"
      ],
      "execution_count": null,
      "outputs": [
        {
          "output_type": "stream",
          "text": [
            "(150, 4)\n",
            "(150,)\n"
          ],
          "name": "stdout"
        }
      ]
    },
    {
      "cell_type": "markdown",
      "metadata": {
        "id": "OYiacr37_diA"
      },
      "source": [
        "## Boston"
      ]
    },
    {
      "cell_type": "markdown",
      "metadata": {
        "id": "XIz3Njto_diB"
      },
      "source": [
        "### Simple Exploratory Data Analysis (EDA)"
      ]
    },
    {
      "cell_type": "code",
      "metadata": {
        "id": "-OXGBF_S_diC",
        "colab": {
          "base_uri": "https://localhost:8080/",
          "height": 50
        },
        "outputId": "d69e61b3-5cca-4e77-bc45-d4f1f26dd3b4"
      },
      "source": [
        "dataset = boston\n",
        "#print(dataset.data)\n",
        "print(dataset.data.shape)#(n_samples, n_features)\n",
        "#print(dataset.target)\n",
        "print(dataset.target.shape)"
      ],
      "execution_count": null,
      "outputs": [
        {
          "output_type": "stream",
          "text": [
            "(506, 13)\n",
            "(506,)\n"
          ],
          "name": "stdout"
        }
      ]
    },
    {
      "cell_type": "markdown",
      "metadata": {
        "id": "1UchZkn8_diE"
      },
      "source": [
        "# Machine learning with sklearn"
      ]
    },
    {
      "cell_type": "markdown",
      "metadata": {
        "id": "UhNXmp1n_diG"
      },
      "source": [
        "- Load and prepare data\n",
        "- Model selection\n",
        "- Model fitting\n",
        "- Evaluation"
      ]
    },
    {
      "cell_type": "markdown",
      "metadata": {
        "id": "P1QlwF0p_diH"
      },
      "source": [
        "# Simple Classification example"
      ]
    },
    {
      "cell_type": "markdown",
      "metadata": {
        "id": "0C7V-ndR_diI"
      },
      "source": [
        "## Model = SVM"
      ]
    },
    {
      "cell_type": "markdown",
      "metadata": {
        "id": "ZNyUYdeA_qUq"
      },
      "source": [
        "In sklearn, we have:\n",
        "    - SVC --> SVM Classifier\n",
        "    - SVR --> SVM Regressor\n",
        "    "
      ]
    },
    {
      "cell_type": "code",
      "metadata": {
        "id": "lPS88C-x_diT"
      },
      "source": [
        "from sklearn import svm\n",
        "model = svm.SVC(gamma=0.001, C=100.)"
      ],
      "execution_count": null,
      "outputs": []
    },
    {
      "cell_type": "markdown",
      "metadata": {
        "id": "egJz6Er2_diX"
      },
      "source": [
        "Fit ao all data except the last example--> keep for test"
      ]
    },
    {
      "cell_type": "code",
      "metadata": {
        "id": "scWD98ro_diX",
        "colab": {
          "base_uri": "https://localhost:8080/",
          "height": 84
        },
        "outputId": "755c02bb-98e0-48bd-a337-4428b84252c0"
      },
      "source": [
        "model.fit(digits.data[:-1], digits.target[:-1])\n"
      ],
      "execution_count": null,
      "outputs": [
        {
          "output_type": "execute_result",
          "data": {
            "text/plain": [
              "SVC(C=100.0, break_ties=False, cache_size=200, class_weight=None, coef0=0.0,\n",
              "    decision_function_shape='ovr', degree=3, gamma=0.001, kernel='rbf',\n",
              "    max_iter=-1, probability=False, random_state=None, shrinking=True,\n",
              "    tol=0.001, verbose=False)"
            ]
          },
          "metadata": {
            "tags": []
          },
          "execution_count": 10
        }
      ]
    },
    {
      "cell_type": "code",
      "metadata": {
        "id": "HMoslu6i_dic",
        "colab": {
          "base_uri": "https://localhost:8080/",
          "height": 34
        },
        "outputId": "c592cad9-e932-4efb-8ca3-b41da743ce96"
      },
      "source": [
        "model.predict(digits.data[-1:])"
      ],
      "execution_count": null,
      "outputs": [
        {
          "output_type": "execute_result",
          "data": {
            "text/plain": [
              "array([8])"
            ]
          },
          "metadata": {
            "tags": []
          },
          "execution_count": 11
        }
      ]
    },
    {
      "cell_type": "code",
      "metadata": {
        "id": "g4pADYGl_dii",
        "colab": {
          "base_uri": "https://localhost:8080/",
          "height": 282
        },
        "outputId": "30291a06-410f-4cac-a0b9-8bf004f9c32c"
      },
      "source": [
        "plt.imshow(np.reshape(digits.data[-1:], [8, 8]))"
      ],
      "execution_count": null,
      "outputs": [
        {
          "output_type": "execute_result",
          "data": {
            "text/plain": [
              "<matplotlib.image.AxesImage at 0x7fd1ded95080>"
            ]
          },
          "metadata": {
            "tags": []
          },
          "execution_count": 12
        },
        {
          "output_type": "display_data",
          "data": {
            "image/png": "[encoded data removed]",
            "text/plain": [
              "<Figure size 432x288 with 1 Axes>"
            ]
          },
          "metadata": {
            "tags": [],
            "needs_background": "light"
          }
        }
      ]
    },
    {
      "cell_type": "markdown",
      "metadata": {
        "id": "TZ9p3rL-_dio"
      },
      "source": [
        "# Model persistence (save/load)"
      ]
    },
    {
      "cell_type": "markdown",
      "metadata": {
        "id": "s9Z8RHEz_dip"
      },
      "source": [
        "## Using python only"
      ]
    },
    {
      "cell_type": "markdown",
      "metadata": {
        "id": "aywnYCVx_diq"
      },
      "source": [
        "Save using pickle"
      ]
    },
    {
      "cell_type": "code",
      "metadata": {
        "id": "5-jm1_HK_dir"
      },
      "source": [
        "import pickle\n",
        "s = pickle.dumps(model)"
      ],
      "execution_count": null,
      "outputs": []
    },
    {
      "cell_type": "markdown",
      "metadata": {
        "id": "lrLl6wKR_diy"
      },
      "source": [
        "Load using pickle"
      ]
    },
    {
      "cell_type": "code",
      "metadata": {
        "id": "nJqtKaVp_diz",
        "colab": {
          "base_uri": "https://localhost:8080/",
          "height": 298
        },
        "outputId": "b1df2bd6-aa03-4178-feac-a5f15bc4cbd6"
      },
      "source": [
        "model_loaded = pickle.loads(s)\n",
        "print(model_loaded.predict(digits.data[-1:]))\n",
        "plt.imshow(np.reshape(digits.data[-1:], [8, 8]))"
      ],
      "execution_count": null,
      "outputs": [
        {
          "output_type": "stream",
          "text": [
            "[8]\n"
          ],
          "name": "stdout"
        },
        {
          "output_type": "execute_result",
          "data": {
            "text/plain": [
              "<matplotlib.image.AxesImage at 0x7fd1dcd6a4a8>"
            ]
          },
          "metadata": {
            "tags": []
          },
          "execution_count": 14
        },
        {
          "output_type": "display_data",
          "data": {
            "image/png": "[encoded data removed]",
            "text/plain": [
              "<Figure size 432x288 with 1 Axes>"
            ]
          },
          "metadata": {
            "tags": [],
            "needs_background": "light"
          }
        }
      ]
    },
    {
      "cell_type": "markdown",
      "metadata": {
        "id": "EXaAR3b1_di6"
      },
      "source": [
        "Note that pickle has some security and maintainability issues. Please refer to section Model persistence (http://scikit-learn.org/stable/modules/model_persistence.html#model-persistence) for more detailed information about model persistence with scikit-learn."
      ]
    },
    {
      "cell_type": "markdown",
      "metadata": {
        "id": "jaH9DSOf_di7"
      },
      "source": [
        "## Using scikit learn"
      ]
    },
    {
      "cell_type": "markdown",
      "metadata": {
        "id": "t1SlcPEY_di7"
      },
      "source": [
        "In the specific case of the scikit, it may be more interesting to use joblib’s replacement of pickle (joblib.dump & joblib.load), which is more efficient on big data, but can only pickle to the disk and not to a string"
      ]
    },
    {
      "cell_type": "code",
      "metadata": {
        "id": "BMgJV7zY_di8",
        "colab": {
          "base_uri": "https://localhost:8080/",
          "height": 87
        },
        "outputId": "38a5a5e7-1f6c-4c46-c346-547e96d5196e"
      },
      "source": [
        "from sklearn.externals import joblib\n",
        "joblib.dump(model, 'model_joblib.pkl')"
      ],
      "execution_count": null,
      "outputs": [
        {
          "output_type": "stream",
          "text": [
            "/usr/local/lib/python3.6/dist-packages/sklearn/externals/joblib/__init__.py:15: FutureWarning: sklearn.externals.joblib is deprecated in 0.21 and will be removed in 0.23. Please import this functionality directly from joblib, which can be installed with: pip install joblib. If this warning is raised when loading pickled models, you may need to re-serialize those models with scikit-learn 0.21+.\n",
            "  warnings.warn(msg, category=FutureWarning)\n"
          ],
          "name": "stderr"
        },
        {
          "output_type": "execute_result",
          "data": {
            "text/plain": [
              "['model_joblib.pkl']"
            ]
          },
          "metadata": {
            "tags": []
          },
          "execution_count": 15
        }
      ]
    },
    {
      "cell_type": "code",
      "metadata": {
        "id": "BI50lGQD_di-",
        "colab": {
          "base_uri": "https://localhost:8080/",
          "height": 298
        },
        "outputId": "3cdd3672-8123-4f50-8bf9-9edea30f0ab7"
      },
      "source": [
        "model_loaded_joblib = joblib.load('model_joblib.pkl')\n",
        "print(model_loaded_joblib.predict(digits.data[-1:]))\n",
        "plt.imshow(np.reshape(digits.data[-1:], [8, 8]))"
      ],
      "execution_count": null,
      "outputs": [
        {
          "output_type": "stream",
          "text": [
            "[8]\n"
          ],
          "name": "stdout"
        },
        {
          "output_type": "execute_result",
          "data": {
            "text/plain": [
              "<matplotlib.image.AxesImage at 0x7fd1dcd52588>"
            ]
          },
          "metadata": {
            "tags": []
          },
          "execution_count": 16
        },
        {
          "output_type": "display_data",
          "data": {
            "image/png": "[encoded data removed]",
            "text/plain": [
              "<Figure size 432x288 with 1 Axes>"
            ]
          },
          "metadata": {
            "tags": [],
            "needs_background": "light"
          }
        }
      ]
    },
    {
      "cell_type": "markdown",
      "metadata": {
        "id": "KWPNrCns_djC"
      },
      "source": [
        "# Sklearn conventions"
      ]
    },
    {
      "cell_type": "markdown",
      "metadata": {
        "id": "l41JFor__djC"
      },
      "source": [
        "scikit-learn estimators follow certain rules to make their behavior more predictive.\n",
        "Check: http://scikit-learn.org/stable/tutorial/basic/tutorial.html"
      ]
    },
    {
      "cell_type": "markdown",
      "metadata": {
        "id": "QfwevcaV_djD"
      },
      "source": [
        "## Unless otherwise specified, input will be cast to float64"
      ]
    },
    {
      "cell_type": "code",
      "metadata": {
        "id": "V0vvSlPj_djD",
        "colab": {
          "base_uri": "https://localhost:8080/",
          "height": 50
        },
        "outputId": "ada0a522-f119-41d2-9635-6b3ec61c7edf"
      },
      "source": [
        "import numpy as np\n",
        "from sklearn import random_projection\n",
        "\n",
        "rng = np.random.RandomState(0)\n",
        "X = rng.rand(10, 2000)\n",
        "X = np.array(X, dtype='float32')\n",
        "print('Input type is: ', X.dtype)\n",
        "\n",
        "\n",
        "transformer = random_projection.GaussianRandomProjection()\n",
        "X_new = transformer.fit_transform(X)\n",
        "print('After sklearn fit_transform, the input is cast to float64', X_new.dtype)"
      ],
      "execution_count": null,
      "outputs": [
        {
          "output_type": "stream",
          "text": [
            "Input type is:  float32\n",
            "After sklearn fit_transform, the input is cast to float64 float64\n"
          ],
          "name": "stdout"
        }
      ]
    },
    {
      "cell_type": "markdown",
      "metadata": {
        "id": "m7fWzxzI_djG"
      },
      "source": [
        "### The above rule is applicable only to regression targets, not classification. Classification targets are mentained."
      ]
    },
    {
      "cell_type": "code",
      "metadata": {
        "id": "VxGWTsDr_djH",
        "colab": {
          "base_uri": "https://localhost:8080/",
          "height": 34
        },
        "outputId": "75b11667-e209-4396-dbcc-9d30373bdbe5"
      },
      "source": [
        "from sklearn import datasets\n",
        "from sklearn.svm import SVC\n",
        "iris = datasets.load_iris()\n",
        "clf = SVC()\n",
        "clf.fit(iris.data, iris.target)\n",
        "\n",
        "\n",
        "\n",
        "\n",
        "\n",
        "list(clf.predict(iris.data[:3]))\n",
        "\n",
        "\n",
        "clf.fit(iris.data, iris.target_names[iris.target])\n",
        "\n",
        "\n",
        "\n",
        "\n",
        "\n",
        "list(clf.predict(iris.data[:3]))\n"
      ],
      "execution_count": null,
      "outputs": [
        {
          "output_type": "execute_result",
          "data": {
            "text/plain": [
              "['setosa', 'setosa', 'setosa']"
            ]
          },
          "metadata": {
            "tags": []
          },
          "execution_count": 18
        }
      ]
    },
    {
      "cell_type": "markdown",
      "metadata": {
        "id": "XxSqUlov_djO"
      },
      "source": [
        "## Re-fitting hyper params"
      ]
    },
    {
      "cell_type": "markdown",
      "metadata": {
        "id": "t-6DtE3F_djP"
      },
      "source": [
        "Hyper-parameters of an estimator can be updated after it has been constructed via the sklearn.pipeline.Pipeline.set_params method. Calling fit() more than once will overwrite what was learned by any previous fit()"
      ]
    },
    {
      "cell_type": "code",
      "metadata": {
        "id": "22Pl8KrO_djQ",
        "colab": {
          "base_uri": "https://localhost:8080/",
          "height": 101
        },
        "outputId": "6201c608-cf37-48ee-bdfb-2370d4f8a993"
      },
      "source": [
        "import numpy as np\n",
        "from sklearn.svm import SVC\n",
        "\n",
        "rng = np.random.RandomState(0)\n",
        "X = rng.rand(100, 10)\n",
        "y = rng.binomial(1, 0.5, 100)\n",
        "X_test = rng.rand(5, 10)\n",
        "\n",
        "\n",
        "clf = SVC()\n",
        "print('Initial SVC model constructed')\n",
        "\n",
        "print('Override the kernel to linear')\n",
        "clf.set_params(kernel='linear').fit(X, y)\n",
        "\n",
        "\n",
        "\n",
        "\n",
        "print(clf.predict(X_test))\n",
        "\n",
        "\n",
        "print('Override the kernel to rbf')\n",
        "clf.set_params(kernel='rbf').fit(X, y)\n",
        "\n",
        "\n",
        "print(clf.predict(X_test))"
      ],
      "execution_count": null,
      "outputs": [
        {
          "output_type": "stream",
          "text": [
            "Initial SVC model constructed\n",
            "Override the kernel to linear\n",
            "[1 0 1 1 0]\n",
            "Override the kernel to rbf\n",
            "[0 0 0 1 0]\n"
          ],
          "name": "stdout"
        }
      ]
    },
    {
      "cell_type": "markdown",
      "metadata": {
        "id": "WDvbFscV_djS"
      },
      "source": [
        "# Target labels encoders"
      ]
    },
    {
      "cell_type": "markdown",
      "metadata": {
        "id": "2SH7qjXk_djT"
      },
      "source": [
        "All in sklearn.preprocessing"
      ]
    },
    {
      "cell_type": "markdown",
      "metadata": {
        "id": "U2CuRhCT_djT"
      },
      "source": [
        "# Difference between ordinal and nominal\n",
        "http://www.mymarketresearchmethods.com/types-of-data-nominal-ordinal-interval-ratio/\n",
        "\n",
        "    \n",
        "## Nominal:\n",
        "\n",
        "Nominal scales are used for labeling variables, without any quantitative value.  “Nominal” scales could simply be called “labels.”  Here are some examples, below.  Notice that all of these scales are mutually exclusive (no overlap) and none of them have any numerical significance.  A good way to remember all of this is that “nominal” sounds a lot like “name” and nominal scales are kind of like “names” or labels.\n",
        "    \n",
        "    \n",
        "## Oridnal:\n",
        "\n",
        "With ordinal scales, it is the order of the values is what’s important and significant, but the differences between each one is not really known.  Take a look at the example below.  \n",
        "\n",
        "In each case, we know that a #4 is better than a #3 or #2, but we don’t know–and cannot quantify–how much better it is.  \n",
        "\n",
        "For example, is the difference between “OK” and “Unhappy” the same as the difference between “Very Happy” and “Happy?”  We can’t say.\n",
        "\n",
        "Ordinal scales are typically measures of non-numeric concepts like satisfaction, happiness, discomfort, etc.\n",
        "\n",
        "“Ordinal” is easy to remember because is sounds like “order” and that’s the key to remember with “ordinal scales”–it is the order that matters, but that’s all you really get from these."
      ]
    },
    {
      "cell_type": "markdown",
      "metadata": {
        "id": "gTbuSIdF_djU"
      },
      "source": [
        "## Categorial case (LableEncoder)"
      ]
    },
    {
      "cell_type": "markdown",
      "metadata": {
        "id": "hO9lb9vo_djU"
      },
      "source": [
        "If the input is an array of strings, and we want to fit NOMINAL or ORDINAL (higher value is higher importance), we use LabelEncoder"
      ]
    },
    {
      "cell_type": "code",
      "metadata": {
        "id": "T3Buk8tL_djV",
        "colab": {
          "base_uri": "https://localhost:8080/",
          "height": 84
        },
        "outputId": "d1024d32-1586-46b3-84ec-cc01d7b73132"
      },
      "source": [
        "from sklearn.preprocessing import LabelEncoder\n",
        "le = LabelEncoder()\n",
        "print('Raw labels are: ', [\"paris\", \"paris\", \"tokyo\", \"amsterdam\"])\n",
        "\n",
        "le.fit([\"paris\", \"paris\", \"tokyo\", \"amsterdam\"])\n",
        "\n",
        "print('The available UNIQUE classes are: ', list(le.classes_))\n",
        "\n",
        "print('The oridnal of [\"tokyo\", \"tokyo\", \"paris\"] is: ', le.transform([\"tokyo\", \"tokyo\", \"paris\"]) )\n",
        "\n",
        "print('The inverse transofrm into strings of [2 2 1] is: ', list(le.inverse_transform([2, 2, 1])))"
      ],
      "execution_count": null,
      "outputs": [
        {
          "output_type": "stream",
          "text": [
            "Raw labels are:  ['paris', 'paris', 'tokyo', 'amsterdam']\n",
            "The available UNIQUE classes are:  ['amsterdam', 'paris', 'tokyo']\n",
            "The oridnal of [\"tokyo\", \"tokyo\", \"paris\"] is:  [2 2 1]\n",
            "The inverse transofrm into strings of [2 2 1] is:  ['tokyo', 'tokyo', 'paris']\n"
          ],
          "name": "stdout"
        }
      ]
    },
    {
      "cell_type": "markdown",
      "metadata": {
        "id": "zQRZKT5c_djX"
      },
      "source": [
        "We may even have input categories as numbers, not as strings.\n",
        "\n",
        "We may want to give them ascending order \"RANKs\" (0,1,2,3...etc)"
      ]
    },
    {
      "cell_type": "code",
      "metadata": {
        "id": "uPAhCtHO_djX",
        "colab": {
          "base_uri": "https://localhost:8080/",
          "height": 84
        },
        "outputId": "e8670ef6-36b3-4a70-d7db-00c600550eba"
      },
      "source": [
        "print('Raw labels are: ', [1, 2, 2, 6])\n",
        "\n",
        "from sklearn import preprocessing\n",
        "le = preprocessing.LabelEncoder()\n",
        "le.fit([1, 2, 2, 6])\n",
        "\n",
        "print('The available UNIQUE classes are: ', list(le.classes_))\n",
        "\n",
        "print('The oridnal of [1, 1, 2, 6] is: ', le.transform([1, 1, 2, 6]) )\n",
        "\n",
        "print('The inverse transofrm into strings of [0, 0, 1, 2] is: ', le.inverse_transform([0, 0, 1, 2]))"
      ],
      "execution_count": null,
      "outputs": [
        {
          "output_type": "stream",
          "text": [
            "Raw labels are:  [1, 2, 2, 6]\n",
            "The available UNIQUE classes are:  [1, 2, 6]\n",
            "The oridnal of [1, 1, 2, 6] is:  [0 0 1 2]\n",
            "The inverse transofrm into strings of [0, 0, 1, 2] is:  [1 1 2 6]\n"
          ],
          "name": "stdout"
        }
      ]
    },
    {
      "cell_type": "markdown",
      "metadata": {
        "id": "oh3DlHjj_dja"
      },
      "source": [
        "## Multiclass case on ordinal data (LabelBinarizer)"
      ]
    },
    {
      "cell_type": "markdown",
      "metadata": {
        "id": "inbMfhbZ_djb"
      },
      "source": [
        "Many classifiers are binary, only produce 1 or 0. To transform it into multi-class case (n_classes), a common way is to use one-vs-all.\n",
        "\n",
        "In this case, you n_classes classifiers, each is trained on 0/1 task. If the input instance belongs to a class, then its desired output is 1 and all others are zeros.\n",
        "\n",
        "This mandates to encode the targets in a special way, also known as one-hot encoding"
      ]
    },
    {
      "cell_type": "code",
      "metadata": {
        "id": "fWRSKHIV_djb",
        "colab": {
          "base_uri": "https://localhost:8080/",
          "height": 134
        },
        "outputId": "2de2c3a2-c9dc-42a1-cf0f-01c90a6c1cd6"
      },
      "source": [
        "from sklearn.svm import SVC\n",
        "from sklearn.preprocessing import LabelBinarizer\n",
        "\n",
        "X = [[1, 2], [2, 4], [4, 5], [3, 2], [3, 1]]\n",
        "y = [0, 0, 1, 1, 2]\n",
        "print('Normally, the target is formatted as: ', y)\n",
        "\n",
        "y = LabelBinarizer().fit_transform(y)\n",
        "print('We can use the LabelBinarizer to perform the one-hot-encoding: \\n', y)"
      ],
      "execution_count": null,
      "outputs": [
        {
          "output_type": "stream",
          "text": [
            "Normally, the target is formatted as:  [0, 0, 1, 1, 2]\n",
            "We can use the LabelBinarizer to perform the one-hot-encoding: \n",
            " [[1 0 0]\n",
            " [1 0 0]\n",
            " [0 1 0]\n",
            " [0 1 0]\n",
            " [0 0 1]]\n"
          ],
          "name": "stdout"
        }
      ]
    },
    {
      "cell_type": "markdown",
      "metadata": {
        "id": "XYbRV7Fr_djf"
      },
      "source": [
        "## The one-hot-encoding is mandatory for the NN softmax for example."
      ]
    },
    {
      "cell_type": "markdown",
      "metadata": {
        "id": "Y9xiX9jS_djf"
      },
      "source": [
        "## One-hot-encoder (OHE) on categorial data"
      ]
    },
    {
      "cell_type": "markdown",
      "metadata": {
        "id": "KypEJ_K4_djg"
      },
      "source": [
        "First we transform to ordinal using LabelEncoder then use LabelBinarizer to get the OHE"
      ]
    },
    {
      "cell_type": "code",
      "metadata": {
        "id": "3Y4q4UDY_djh",
        "colab": {
          "base_uri": "https://localhost:8080/",
          "height": 168
        },
        "outputId": "dd364ea5-6202-4cbc-e25d-31ee31223f68"
      },
      "source": [
        "y_raw = [1, 2, 2, 6]\n",
        "print('Raw labels are: ', y_raw)\n",
        "\n",
        "from sklearn import preprocessing\n",
        "le = preprocessing.LabelEncoder()\n",
        "le.fit(y_raw)\n",
        "\n",
        "print('The available UNIQUE classes are: ', list(le.classes_))\n",
        "\n",
        "y_ordinal = le.transform(y_raw)\n",
        "print('The oridnal of [1, 1, 2, 6] is: ', y_ordinal )\n",
        "\n",
        "print('The inverse transofrm into strings of [0, 0, 1, 2] is: ', le.inverse_transform(y_ordinal))\n",
        "\n",
        "from sklearn.preprocessing import LabelBinarizer\n",
        "\n",
        "\n",
        "y_OHE = LabelBinarizer().fit_transform(y_ordinal)\n",
        "print('We can use the LabelBinarizer to perform the one-hot-encoding: \\n', y_OHE)"
      ],
      "execution_count": null,
      "outputs": [
        {
          "output_type": "stream",
          "text": [
            "Raw labels are:  [1, 2, 2, 6]\n",
            "The available UNIQUE classes are:  [1, 2, 6]\n",
            "The oridnal of [1, 1, 2, 6] is:  [0 1 1 2]\n",
            "The inverse transofrm into strings of [0, 0, 1, 2] is:  [1 2 2 6]\n",
            "We can use the LabelBinarizer to perform the one-hot-encoding: \n",
            " [[1 0 0]\n",
            " [0 1 0]\n",
            " [0 1 0]\n",
            " [0 0 1]]\n"
          ],
          "name": "stdout"
        }
      ]
    },
    {
      "cell_type": "markdown",
      "metadata": {
        "id": "pk25UZpW_djk"
      },
      "source": [
        "## Multi-labels vs. Multi-Class"
      ]
    },
    {
      "cell_type": "markdown",
      "metadata": {
        "id": "zWM_v7uF_djl"
      },
      "source": [
        "In some cases, we may need to assign more than one label for an instance/example.\n",
        "\n",
        "This is encountered in case of multi-task learning.\n",
        "\n",
        "Example: https://arxiv.org/abs/1612.07695\n",
        "        \n",
        "In this case, we can encode more than one position as 1 at a time.        "
      ]
    },
    {
      "cell_type": "code",
      "metadata": {
        "id": "V1NqhyR5_djl",
        "colab": {
          "base_uri": "https://localhost:8080/",
          "height": 101
        },
        "outputId": "80eb11f6-336c-438f-cad6-67f8ef72ac5b"
      },
      "source": [
        "from sklearn.preprocessing import MultiLabelBinarizer\n",
        "y = [[0, 1], [0, 2], [1, 3], [0, 2, 3], [2, 4]]\n",
        "y = MultiLabelBinarizer().fit_transform(y)\n",
        "print(y)\n"
      ],
      "execution_count": null,
      "outputs": [
        {
          "output_type": "stream",
          "text": [
            "[[1 1 0 0 0]\n",
            " [1 0 1 0 0]\n",
            " [0 1 0 1 0]\n",
            " [1 0 1 1 0]\n",
            " [0 0 1 0 1]]\n"
          ],
          "name": "stdout"
        }
      ]
    },
    {
      "cell_type": "markdown",
      "metadata": {
        "id": "IUR7x7Ft_djo"
      },
      "source": [
        "# One vs ALL classifier"
      ]
    },
    {
      "cell_type": "markdown",
      "metadata": {
        "id": "o6oBJOym_djo"
      },
      "source": [
        "After formatting the target variables, how to fit a one vs. ALL classifier?"
      ]
    },
    {
      "cell_type": "code",
      "metadata": {
        "id": "jq_F9-N2_djp",
        "colab": {
          "base_uri": "https://localhost:8080/",
          "height": 101
        },
        "outputId": "b8e57c8a-f52e-4f91-db44-58b87914fc41"
      },
      "source": [
        "from sklearn.svm import SVC\n",
        "from sklearn.multiclass import OneVsRestClassifier\n",
        "from sklearn.preprocessing import LabelBinarizer\n",
        "\n",
        "X = [[1, 2], [2, 4], [4, 5], [3, 2], [3, 1]]\n",
        "y = [0, 0, 1, 1, 2]\n",
        "\n",
        "y = LabelBinarizer().fit_transform(y)\n",
        "classif = OneVsRestClassifier(estimator=SVC(random_state=0))\n",
        "classif.fit(X, y).predict(X)"
      ],
      "execution_count": null,
      "outputs": [
        {
          "output_type": "execute_result",
          "data": {
            "text/plain": [
              "array([[1, 0, 0],\n",
              "       [1, 0, 0],\n",
              "       [0, 1, 0],\n",
              "       [0, 0, 0],\n",
              "       [0, 0, 0]])"
            ]
          },
          "metadata": {
            "tags": []
          },
          "execution_count": 25
        }
      ]
    },
    {
      "cell_type": "markdown",
      "metadata": {
        "id": "9xspEQmQ_djs"
      },
      "source": [
        "OneVsRestClassifier can also work on categorial y directly"
      ]
    },
    {
      "cell_type": "code",
      "metadata": {
        "id": "-YfqIsob_djs",
        "colab": {
          "base_uri": "https://localhost:8080/",
          "height": 34
        },
        "outputId": "a9ea4ac1-bff7-4bf5-86b9-21c7bc71df07"
      },
      "source": [
        "from sklearn.svm import SVC\n",
        "from sklearn.multiclass import OneVsRestClassifier\n",
        "from sklearn.preprocessing import LabelBinarizer\n",
        "\n",
        "X = [[1, 2], [2, 4], [4, 5], [3, 2], [3, 1]]\n",
        "y = [0, 0, 1, 1, 2]\n",
        "\n",
        "classif = OneVsRestClassifier(estimator=SVC(random_state=0))\n",
        "classif.fit(X, y).predict(X)"
      ],
      "execution_count": null,
      "outputs": [
        {
          "output_type": "execute_result",
          "data": {
            "text/plain": [
              "array([0, 0, 1, 1, 2])"
            ]
          },
          "metadata": {
            "tags": []
          },
          "execution_count": 26
        }
      ]
    },
    {
      "cell_type": "markdown",
      "metadata": {
        "collapsed": true,
        "id": "IIeDPS4c_djy"
      },
      "source": [
        "# Working with Categorial data in the input features (not targets)"
      ]
    },
    {
      "cell_type": "markdown",
      "metadata": {
        "id": "vk8rbxv-_djy"
      },
      "source": [
        "## One hot encoding"
      ]
    },
    {
      "cell_type": "markdown",
      "metadata": {
        "id": "l-tluoak_djz"
      },
      "source": [
        "Suppose we have a dataset (Design matrix X [n_samples, n_features].\n",
        "\n",
        "And we have ALL or SOME of the features as categorial/ordinal.\n",
        "\n",
        "For some classifiers like DecisionTrees, they work directly on ordinal/cat data. For others (NN or SVM), ordinal values mean more importance to some features than others.\n"
      ]
    },
    {
      "cell_type": "code",
      "metadata": {
        "id": "Vggd8JDa_djz",
        "colab": {
          "base_uri": "https://localhost:8080/",
          "height": 67
        },
        "outputId": "7eea1b66-99d9-4863-92dd-e80bf5e8ef2e"
      },
      "source": [
        "from sklearn.preprocessing import LabelEncoder\n",
        "le = LabelEncoder()\n",
        "print('Raw labels are: ', [\"paris\", \"paris\", \"tokyo\", \"amsterdam\"])\n",
        "\n",
        "le.fit([\"paris\", \"paris\", \"tokyo\", \"amsterdam\"])\n",
        "\n",
        "print('The available UNIQUE classes are: ', list(le.classes_))\n",
        "\n",
        "print('The oridnal of [\"tokyo\", \"tokyo\", \"paris\", \"amsterdam\"] is: ', le.transform([\"tokyo\", \"tokyo\", \"paris\", \"amsterdam\"]) )\n"
      ],
      "execution_count": null,
      "outputs": [
        {
          "output_type": "stream",
          "text": [
            "Raw labels are:  ['paris', 'paris', 'tokyo', 'amsterdam']\n",
            "The available UNIQUE classes are:  ['amsterdam', 'paris', 'tokyo']\n",
            "The oridnal of [\"tokyo\", \"tokyo\", \"paris\", \"amsterdam\"] is:  [2 2 1 0]\n"
          ],
          "name": "stdout"
        }
      ]
    },
    {
      "cell_type": "markdown",
      "metadata": {
        "id": "wfQ94jS3_dj2"
      },
      "source": [
        "For SVM or NN, it means that tokyo is twice weighted as paris!\n",
        "\n",
        "So we better encode cat/oridinal features as OHE"
      ]
    },
    {
      "cell_type": "markdown",
      "metadata": {
        "id": "5jJhdtjt_dj3"
      },
      "source": [
        "\n",
        "We cannot use as before, since LabelEncoder and Binarizer work on 1-D array of labels"
      ]
    },
    {
      "cell_type": "code",
      "metadata": {
        "id": "ISNHLpRe_dj3",
        "colab": {
          "base_uri": "https://localhost:8080/",
          "height": 370
        },
        "outputId": "8c03f9f7-6fbf-4180-96fe-000fa0ca0141"
      },
      "source": [
        "X_raw = [[1, 2, 2, 6], [1, 2, 2, 6], [1, 2, 2, 6]]\n",
        "print('Raw data are: ', X_raw)\n",
        "\n",
        "from sklearn import preprocessing\n",
        "le = preprocessing.LabelEncoder()\n",
        "le.fit(X_raw)\n",
        "\n"
      ],
      "execution_count": null,
      "outputs": [
        {
          "output_type": "stream",
          "text": [
            "Raw data are:  [[1, 2, 2, 6], [1, 2, 2, 6], [1, 2, 2, 6]]\n"
          ],
          "name": "stdout"
        },
        {
          "output_type": "error",
          "ename": "ValueError",
          "evalue": "ignored",
          "traceback": [
            "\u001b[0;31m---------------------------------------------------------------------------\u001b[0m",
            "\u001b[0;31mValueError\u001b[0m                                Traceback (most recent call last)",
            "\u001b[0;32m<ipython-input-28-fd5d46dafeeb>\u001b[0m in \u001b[0;36m<module>\u001b[0;34m()\u001b[0m\n\u001b[1;32m      4\u001b[0m \u001b[0;32mfrom\u001b[0m \u001b[0msklearn\u001b[0m \u001b[0;32mimport\u001b[0m \u001b[0mpreprocessing\u001b[0m\u001b[0;34m\u001b[0m\u001b[0;34m\u001b[0m\u001b[0m\n\u001b[1;32m      5\u001b[0m \u001b[0mle\u001b[0m \u001b[0;34m=\u001b[0m \u001b[0mpreprocessing\u001b[0m\u001b[0;34m.\u001b[0m\u001b[0mLabelEncoder\u001b[0m\u001b[0;34m(\u001b[0m\u001b[0;34m)\u001b[0m\u001b[0;34m\u001b[0m\u001b[0;34m\u001b[0m\u001b[0m\n\u001b[0;32m----> 6\u001b[0;31m \u001b[0mle\u001b[0m\u001b[0;34m.\u001b[0m\u001b[0mfit\u001b[0m\u001b[0;34m(\u001b[0m\u001b[0mX_raw\u001b[0m\u001b[0;34m)\u001b[0m\u001b[0;34m\u001b[0m\u001b[0;34m\u001b[0m\u001b[0m\n\u001b[0m\u001b[1;32m      7\u001b[0m \u001b[0;34m\u001b[0m\u001b[0m\n",
            "\u001b[0;32m/usr/local/lib/python3.6/dist-packages/sklearn/preprocessing/_label.py\u001b[0m in \u001b[0;36mfit\u001b[0;34m(self, y)\u001b[0m\n\u001b[1;32m    233\u001b[0m         \u001b[0mself\u001b[0m \u001b[0;34m:\u001b[0m \u001b[0mreturns\u001b[0m \u001b[0man\u001b[0m \u001b[0minstance\u001b[0m \u001b[0mof\u001b[0m \u001b[0mself\u001b[0m\u001b[0;34m.\u001b[0m\u001b[0;34m\u001b[0m\u001b[0;34m\u001b[0m\u001b[0m\n\u001b[1;32m    234\u001b[0m         \"\"\"\n\u001b[0;32m--> 235\u001b[0;31m         \u001b[0my\u001b[0m \u001b[0;34m=\u001b[0m \u001b[0mcolumn_or_1d\u001b[0m\u001b[0;34m(\u001b[0m\u001b[0my\u001b[0m\u001b[0;34m,\u001b[0m \u001b[0mwarn\u001b[0m\u001b[0;34m=\u001b[0m\u001b[0;32mTrue\u001b[0m\u001b[0;34m)\u001b[0m\u001b[0;34m\u001b[0m\u001b[0;34m\u001b[0m\u001b[0m\n\u001b[0m\u001b[1;32m    236\u001b[0m         \u001b[0mself\u001b[0m\u001b[0;34m.\u001b[0m\u001b[0mclasses_\u001b[0m \u001b[0;34m=\u001b[0m \u001b[0m_encode\u001b[0m\u001b[0;34m(\u001b[0m\u001b[0my\u001b[0m\u001b[0;34m)\u001b[0m\u001b[0;34m\u001b[0m\u001b[0;34m\u001b[0m\u001b[0m\n\u001b[1;32m    237\u001b[0m         \u001b[0;32mreturn\u001b[0m \u001b[0mself\u001b[0m\u001b[0;34m\u001b[0m\u001b[0;34m\u001b[0m\u001b[0m\n",
            "\u001b[0;32m/usr/local/lib/python3.6/dist-packages/sklearn/utils/validation.py\u001b[0m in \u001b[0;36mcolumn_or_1d\u001b[0;34m(y, warn)\u001b[0m\n\u001b[1;32m    795\u001b[0m         \u001b[0;32mreturn\u001b[0m \u001b[0mnp\u001b[0m\u001b[0;34m.\u001b[0m\u001b[0mravel\u001b[0m\u001b[0;34m(\u001b[0m\u001b[0my\u001b[0m\u001b[0;34m)\u001b[0m\u001b[0;34m\u001b[0m\u001b[0;34m\u001b[0m\u001b[0m\n\u001b[1;32m    796\u001b[0m \u001b[0;34m\u001b[0m\u001b[0m\n\u001b[0;32m--> 797\u001b[0;31m     \u001b[0;32mraise\u001b[0m \u001b[0mValueError\u001b[0m\u001b[0;34m(\u001b[0m\u001b[0;34m\"bad input shape {0}\"\u001b[0m\u001b[0;34m.\u001b[0m\u001b[0mformat\u001b[0m\u001b[0;34m(\u001b[0m\u001b[0mshape\u001b[0m\u001b[0;34m)\u001b[0m\u001b[0;34m)\u001b[0m\u001b[0;34m\u001b[0m\u001b[0;34m\u001b[0m\u001b[0m\n\u001b[0m\u001b[1;32m    798\u001b[0m \u001b[0;34m\u001b[0m\u001b[0m\n\u001b[1;32m    799\u001b[0m \u001b[0;34m\u001b[0m\u001b[0m\n",
            "\u001b[0;31mValueError\u001b[0m: bad input shape (3, 4)"
          ]
        }
      ]
    },
    {
      "cell_type": "markdown",
      "metadata": {
        "id": "y3FCKYYF_dj6"
      },
      "source": [
        "LabelEncoder works on labels only: 1-D. To make it work on matrix we must convert into pandas data frame first."
      ]
    },
    {
      "cell_type": "code",
      "metadata": {
        "id": "LCwDLS9g_dj6",
        "colab": {
          "base_uri": "https://localhost:8080/",
          "height": 471
        },
        "outputId": "83689013-b0cc-4cee-96aa-e150cec49955"
      },
      "source": [
        "X_raw = [[1, 2, 2, 6, 1], [1, 2, 2, 6, 1], [1, 2, 2, 6, 6]]\n",
        "print('Raw data are: ', X_raw)\n",
        "import pandas as pd\n",
        "X = pd.DataFrame(X_raw)\n",
        "\n",
        "from sklearn import preprocessing\n",
        "le = preprocessing.LabelEncoder()\n",
        "X_ordinal = X.apply(le.fit_transform)\n",
        "\n",
        "import numpy as np\n",
        "#print('The oridnal values are: \\n', np.array(X_ordinal))\n",
        "print('The oridnal values are: \\n', X_ordinal)\n",
        "\n",
        "print('The inverse transofrm into strings of [0, 0, 1, 2] is: ', le.inverse_transform(X_ordinal))\n",
        "\n",
        "from sklearn.preprocessing import LabelBinarizer\n",
        "\n",
        "\n",
        "X_OHE = LabelBinarizer().fit_transform(X_ordinal)\n",
        "print('We can use the LabelBinarizer to perform the one-hot-encoding: \\n', X_OHE)"
      ],
      "execution_count": null,
      "outputs": [
        {
          "output_type": "stream",
          "text": [
            "Raw data are:  [[1, 2, 2, 6, 1], [1, 2, 2, 6, 1], [1, 2, 2, 6, 6]]\n",
            "The oridnal values are: \n",
            "    0  1  2  3  4\n",
            "0  0  0  0  0  0\n",
            "1  0  0  0  0  0\n",
            "2  0  0  0  0  1\n"
          ],
          "name": "stdout"
        },
        {
          "output_type": "error",
          "ename": "ValueError",
          "evalue": "ignored",
          "traceback": [
            "\u001b[0;31m---------------------------------------------------------------------------\u001b[0m",
            "\u001b[0;31mValueError\u001b[0m                                Traceback (most recent call last)",
            "\u001b[0;32m<ipython-input-29-d4c041e6e2f4>\u001b[0m in \u001b[0;36m<module>\u001b[0;34m()\u001b[0m\n\u001b[1;32m     12\u001b[0m \u001b[0mprint\u001b[0m\u001b[0;34m(\u001b[0m\u001b[0;34m'The oridnal values are: \\n'\u001b[0m\u001b[0;34m,\u001b[0m \u001b[0mX_ordinal\u001b[0m\u001b[0;34m)\u001b[0m\u001b[0;34m\u001b[0m\u001b[0;34m\u001b[0m\u001b[0m\n\u001b[1;32m     13\u001b[0m \u001b[0;34m\u001b[0m\u001b[0m\n\u001b[0;32m---> 14\u001b[0;31m \u001b[0mprint\u001b[0m\u001b[0;34m(\u001b[0m\u001b[0;34m'The inverse transofrm into strings of [0, 0, 1, 2] is: '\u001b[0m\u001b[0;34m,\u001b[0m \u001b[0mle\u001b[0m\u001b[0;34m.\u001b[0m\u001b[0minverse_transform\u001b[0m\u001b[0;34m(\u001b[0m\u001b[0mX_ordinal\u001b[0m\u001b[0;34m)\u001b[0m\u001b[0;34m)\u001b[0m\u001b[0;34m\u001b[0m\u001b[0;34m\u001b[0m\u001b[0m\n\u001b[0m\u001b[1;32m     15\u001b[0m \u001b[0;34m\u001b[0m\u001b[0m\n\u001b[1;32m     16\u001b[0m \u001b[0;32mfrom\u001b[0m \u001b[0msklearn\u001b[0m\u001b[0;34m.\u001b[0m\u001b[0mpreprocessing\u001b[0m \u001b[0;32mimport\u001b[0m \u001b[0mLabelBinarizer\u001b[0m\u001b[0;34m\u001b[0m\u001b[0;34m\u001b[0m\u001b[0m\n",
            "\u001b[0;32m/usr/local/lib/python3.6/dist-packages/sklearn/preprocessing/_label.py\u001b[0m in \u001b[0;36minverse_transform\u001b[0;34m(self, y)\u001b[0m\n\u001b[1;32m    287\u001b[0m         \"\"\"\n\u001b[1;32m    288\u001b[0m         \u001b[0mcheck_is_fitted\u001b[0m\u001b[0;34m(\u001b[0m\u001b[0mself\u001b[0m\u001b[0;34m)\u001b[0m\u001b[0;34m\u001b[0m\u001b[0;34m\u001b[0m\u001b[0m\n\u001b[0;32m--> 289\u001b[0;31m         \u001b[0my\u001b[0m \u001b[0;34m=\u001b[0m \u001b[0mcolumn_or_1d\u001b[0m\u001b[0;34m(\u001b[0m\u001b[0my\u001b[0m\u001b[0;34m,\u001b[0m \u001b[0mwarn\u001b[0m\u001b[0;34m=\u001b[0m\u001b[0;32mTrue\u001b[0m\u001b[0;34m)\u001b[0m\u001b[0;34m\u001b[0m\u001b[0;34m\u001b[0m\u001b[0m\n\u001b[0m\u001b[1;32m    290\u001b[0m         \u001b[0;31m# inverse transform of empty array is empty array\u001b[0m\u001b[0;34m\u001b[0m\u001b[0;34m\u001b[0m\u001b[0;34m\u001b[0m\u001b[0m\n\u001b[1;32m    291\u001b[0m         \u001b[0;32mif\u001b[0m \u001b[0m_num_samples\u001b[0m\u001b[0;34m(\u001b[0m\u001b[0my\u001b[0m\u001b[0;34m)\u001b[0m \u001b[0;34m==\u001b[0m \u001b[0;36m0\u001b[0m\u001b[0;34m:\u001b[0m\u001b[0;34m\u001b[0m\u001b[0;34m\u001b[0m\u001b[0m\n",
            "\u001b[0;32m/usr/local/lib/python3.6/dist-packages/sklearn/utils/validation.py\u001b[0m in \u001b[0;36mcolumn_or_1d\u001b[0;34m(y, warn)\u001b[0m\n\u001b[1;32m    795\u001b[0m         \u001b[0;32mreturn\u001b[0m \u001b[0mnp\u001b[0m\u001b[0;34m.\u001b[0m\u001b[0mravel\u001b[0m\u001b[0;34m(\u001b[0m\u001b[0my\u001b[0m\u001b[0;34m)\u001b[0m\u001b[0;34m\u001b[0m\u001b[0;34m\u001b[0m\u001b[0m\n\u001b[1;32m    796\u001b[0m \u001b[0;34m\u001b[0m\u001b[0m\n\u001b[0;32m--> 797\u001b[0;31m     \u001b[0;32mraise\u001b[0m \u001b[0mValueError\u001b[0m\u001b[0;34m(\u001b[0m\u001b[0;34m\"bad input shape {0}\"\u001b[0m\u001b[0;34m.\u001b[0m\u001b[0mformat\u001b[0m\u001b[0;34m(\u001b[0m\u001b[0mshape\u001b[0m\u001b[0;34m)\u001b[0m\u001b[0;34m)\u001b[0m\u001b[0;34m\u001b[0m\u001b[0;34m\u001b[0m\u001b[0m\n\u001b[0m\u001b[1;32m    798\u001b[0m \u001b[0;34m\u001b[0m\u001b[0m\n\u001b[1;32m    799\u001b[0m \u001b[0;34m\u001b[0m\u001b[0m\n",
            "\u001b[0;31mValueError\u001b[0m: bad input shape (3, 5)"
          ]
        }
      ]
    },
    {
      "cell_type": "markdown",
      "metadata": {
        "id": "BNoGbjMx_dj9"
      },
      "source": [
        "What happened? We see all features are assigned 0!!\n",
        "\n",
        "This is because, pandas dataframe is created in colomns. The LabelEncoder scans each colomn independently!\n",
        "So in each col we can see the same value."
      ]
    },
    {
      "cell_type": "code",
      "metadata": {
        "id": "bNig3IZt_dj-",
        "colab": {
          "base_uri": "https://localhost:8080/",
          "height": 136
        },
        "outputId": "7329df02-21f8-470b-e2f7-dad790e90700"
      },
      "source": [
        "X"
      ],
      "execution_count": null,
      "outputs": [
        {
          "output_type": "execute_result",
          "data": {
            "text/html": [
              "<div>\n",
              "<style scoped>\n",
              "    .dataframe tbody tr th:only-of-type {\n",
              "        vertical-align: middle;\n",
              "    }\n",
              "\n",
              "    .dataframe tbody tr th {\n",
              "        vertical-align: top;\n",
              "    }\n",
              "\n",
              "    .dataframe thead th {\n",
              "        text-align: right;\n",
              "    }\n",
              "</style>\n",
              "<table border=\"1\" class=\"dataframe\">\n",
              "  <thead>\n",
              "    <tr style=\"text-align: right;\">\n",
              "      <th></th>\n",
              "      <th>0</th>\n",
              "      <th>1</th>\n",
              "      <th>2</th>\n",
              "      <th>3</th>\n",
              "      <th>4</th>\n",
              "    </tr>\n",
              "  </thead>\n",
              "  <tbody>\n",
              "    <tr>\n",
              "      <th>0</th>\n",
              "      <td>1</td>\n",
              "      <td>2</td>\n",
              "      <td>2</td>\n",
              "      <td>6</td>\n",
              "      <td>1</td>\n",
              "    </tr>\n",
              "    <tr>\n",
              "      <th>1</th>\n",
              "      <td>1</td>\n",
              "      <td>2</td>\n",
              "      <td>2</td>\n",
              "      <td>6</td>\n",
              "      <td>1</td>\n",
              "    </tr>\n",
              "    <tr>\n",
              "      <th>2</th>\n",
              "      <td>1</td>\n",
              "      <td>2</td>\n",
              "      <td>2</td>\n",
              "      <td>6</td>\n",
              "      <td>6</td>\n",
              "    </tr>\n",
              "  </tbody>\n",
              "</table>\n",
              "</div>"
            ],
            "text/plain": [
              "   0  1  2  3  4\n",
              "0  1  2  2  6  1\n",
              "1  1  2  2  6  1\n",
              "2  1  2  2  6  6"
            ]
          },
          "metadata": {
            "tags": []
          },
          "execution_count": 30
        }
      ]
    },
    {
      "cell_type": "markdown",
      "metadata": {
        "id": "S9qnhIgf_dkD"
      },
      "source": [
        "Now, let's see more appealing example (each feature has variations in colomns):"
      ]
    },
    {
      "cell_type": "code",
      "metadata": {
        "id": "hI4FQzQk_dkE",
        "colab": {
          "base_uri": "https://localhost:8080/",
          "height": 454
        },
        "outputId": "9d1b90bb-abb2-459b-822a-f0e86b0232e5"
      },
      "source": [
        "import pandas as pd\n",
        "import numpy as np\n",
        "\n",
        "X_raw = [[1, 2, 2, 6, 1], [2, 8, 2, 2, 1], [4, 10, 2, 6, 6]]\n",
        "print('Raw data are: ', X_raw)\n",
        "\n",
        "X = pd.DataFrame(X_raw)\n",
        "print(X)\n",
        "\n",
        "from sklearn import preprocessing\n",
        "le = preprocessing.LabelEncoder()\n",
        "#X_ordinal = X.apply(le.fit_transform)\n",
        "le.fit_transform(X)\n",
        "X_oridnal = le.transform(X)\n",
        "\n"
      ],
      "execution_count": null,
      "outputs": [
        {
          "output_type": "stream",
          "text": [
            "Raw data are:  [[1, 2, 2, 6, 1], [2, 8, 2, 2, 1], [4, 10, 2, 6, 6]]\n",
            "   0   1  2  3  4\n",
            "0  1   2  2  6  1\n",
            "1  2   8  2  2  1\n",
            "2  4  10  2  6  6\n"
          ],
          "name": "stdout"
        },
        {
          "output_type": "error",
          "ename": "ValueError",
          "evalue": "ignored",
          "traceback": [
            "\u001b[0;31m---------------------------------------------------------------------------\u001b[0m",
            "\u001b[0;31mValueError\u001b[0m                                Traceback (most recent call last)",
            "\u001b[0;32m<ipython-input-31-1f1de6dd0498>\u001b[0m in \u001b[0;36m<module>\u001b[0;34m()\u001b[0m\n\u001b[1;32m     11\u001b[0m \u001b[0mle\u001b[0m \u001b[0;34m=\u001b[0m \u001b[0mpreprocessing\u001b[0m\u001b[0;34m.\u001b[0m\u001b[0mLabelEncoder\u001b[0m\u001b[0;34m(\u001b[0m\u001b[0;34m)\u001b[0m\u001b[0;34m\u001b[0m\u001b[0;34m\u001b[0m\u001b[0m\n\u001b[1;32m     12\u001b[0m \u001b[0;31m#X_ordinal = X.apply(le.fit_transform)\u001b[0m\u001b[0;34m\u001b[0m\u001b[0;34m\u001b[0m\u001b[0;34m\u001b[0m\u001b[0m\n\u001b[0;32m---> 13\u001b[0;31m \u001b[0mle\u001b[0m\u001b[0;34m.\u001b[0m\u001b[0mfit_transform\u001b[0m\u001b[0;34m(\u001b[0m\u001b[0mX\u001b[0m\u001b[0;34m)\u001b[0m\u001b[0;34m\u001b[0m\u001b[0;34m\u001b[0m\u001b[0m\n\u001b[0m\u001b[1;32m     14\u001b[0m \u001b[0mX_oridnal\u001b[0m \u001b[0;34m=\u001b[0m \u001b[0mle\u001b[0m\u001b[0;34m.\u001b[0m\u001b[0mtransform\u001b[0m\u001b[0;34m(\u001b[0m\u001b[0mX\u001b[0m\u001b[0;34m)\u001b[0m\u001b[0;34m\u001b[0m\u001b[0;34m\u001b[0m\u001b[0m\n\u001b[1;32m     15\u001b[0m \u001b[0;34m\u001b[0m\u001b[0m\n",
            "\u001b[0;32m/usr/local/lib/python3.6/dist-packages/sklearn/preprocessing/_label.py\u001b[0m in \u001b[0;36mfit_transform\u001b[0;34m(self, y)\u001b[0m\n\u001b[1;32m    249\u001b[0m         \u001b[0my\u001b[0m \u001b[0;34m:\u001b[0m \u001b[0marray\u001b[0m\u001b[0;34m-\u001b[0m\u001b[0mlike\u001b[0m \u001b[0mof\u001b[0m \u001b[0mshape\u001b[0m \u001b[0;34m[\u001b[0m\u001b[0mn_samples\u001b[0m\u001b[0;34m]\u001b[0m\u001b[0;34m\u001b[0m\u001b[0;34m\u001b[0m\u001b[0m\n\u001b[1;32m    250\u001b[0m         \"\"\"\n\u001b[0;32m--> 251\u001b[0;31m         \u001b[0my\u001b[0m \u001b[0;34m=\u001b[0m \u001b[0mcolumn_or_1d\u001b[0m\u001b[0;34m(\u001b[0m\u001b[0my\u001b[0m\u001b[0;34m,\u001b[0m \u001b[0mwarn\u001b[0m\u001b[0;34m=\u001b[0m\u001b[0;32mTrue\u001b[0m\u001b[0;34m)\u001b[0m\u001b[0;34m\u001b[0m\u001b[0;34m\u001b[0m\u001b[0m\n\u001b[0m\u001b[1;32m    252\u001b[0m         \u001b[0mself\u001b[0m\u001b[0;34m.\u001b[0m\u001b[0mclasses_\u001b[0m\u001b[0;34m,\u001b[0m \u001b[0my\u001b[0m \u001b[0;34m=\u001b[0m \u001b[0m_encode\u001b[0m\u001b[0;34m(\u001b[0m\u001b[0my\u001b[0m\u001b[0;34m,\u001b[0m \u001b[0mencode\u001b[0m\u001b[0;34m=\u001b[0m\u001b[0;32mTrue\u001b[0m\u001b[0;34m)\u001b[0m\u001b[0;34m\u001b[0m\u001b[0;34m\u001b[0m\u001b[0m\n\u001b[1;32m    253\u001b[0m         \u001b[0;32mreturn\u001b[0m \u001b[0my\u001b[0m\u001b[0;34m\u001b[0m\u001b[0;34m\u001b[0m\u001b[0m\n",
            "\u001b[0;32m/usr/local/lib/python3.6/dist-packages/sklearn/utils/validation.py\u001b[0m in \u001b[0;36mcolumn_or_1d\u001b[0;34m(y, warn)\u001b[0m\n\u001b[1;32m    795\u001b[0m         \u001b[0;32mreturn\u001b[0m \u001b[0mnp\u001b[0m\u001b[0;34m.\u001b[0m\u001b[0mravel\u001b[0m\u001b[0;34m(\u001b[0m\u001b[0my\u001b[0m\u001b[0;34m)\u001b[0m\u001b[0;34m\u001b[0m\u001b[0;34m\u001b[0m\u001b[0m\n\u001b[1;32m    796\u001b[0m \u001b[0;34m\u001b[0m\u001b[0m\n\u001b[0;32m--> 797\u001b[0;31m     \u001b[0;32mraise\u001b[0m \u001b[0mValueError\u001b[0m\u001b[0;34m(\u001b[0m\u001b[0;34m\"bad input shape {0}\"\u001b[0m\u001b[0;34m.\u001b[0m\u001b[0mformat\u001b[0m\u001b[0;34m(\u001b[0m\u001b[0mshape\u001b[0m\u001b[0;34m)\u001b[0m\u001b[0;34m)\u001b[0m\u001b[0;34m\u001b[0m\u001b[0;34m\u001b[0m\u001b[0m\n\u001b[0m\u001b[1;32m    798\u001b[0m \u001b[0;34m\u001b[0m\u001b[0m\n\u001b[1;32m    799\u001b[0m \u001b[0;34m\u001b[0m\u001b[0m\n",
            "\u001b[0;31mValueError\u001b[0m: bad input shape (3, 5)"
          ]
        }
      ]
    },
    {
      "cell_type": "markdown",
      "metadata": {
        "id": "4sCS2THt_dkG"
      },
      "source": [
        "The error above because we cannot fit a transform on X.\n",
        "\n",
        "Instead we can only fit it on COLOMNS of X.\n",
        "\n",
        "To do this, we use X.apply, which works per colomn:"
      ]
    },
    {
      "cell_type": "code",
      "metadata": {
        "id": "Z-Jv6DIw_dkG",
        "colab": {
          "base_uri": "https://localhost:8080/",
          "height": 538
        },
        "outputId": "afd0ac43-3c05-41fe-e84d-a99419b70db7"
      },
      "source": [
        "import pandas as pd\n",
        "import numpy as np\n",
        "\n",
        "X_raw = [[1, 2, 2, 6, 1], [2, 8, 2, 2, 1], [4, 10, 2, 6, 6]]\n",
        "print('Raw data are: ', X_raw)\n",
        "\n",
        "X = pd.DataFrame(X_raw)\n",
        "print(X)\n",
        "\n",
        "from sklearn import preprocessing\n",
        "le = preprocessing.LabelEncoder()\n",
        "X_ordinal = X.apply(le.fit_transform)\n",
        "\n",
        "\n",
        "\n",
        "#print('The oridnal values are: \\n', np.array(X_ordinal))\n",
        "print('The oridnal values are (pandas DF): \\n', X_ordinal)\n",
        "#print('The oridnal values are: \\n', X_ordinal.toarray())\n",
        "\n",
        "print('The inverse transofrm into strings of [0, 0, 1, 2] is: ', le.inverse_transform(X_ordinal))\n",
        "\n",
        "from sklearn.preprocessing import LabelBinarizer\n",
        "\n",
        "\n",
        "X_OHE = LabelBinarizer().fit_transform(X_ordinal)\n",
        "print('We can use the LabelBinarizer to perform the one-hot-encoding: \\n', X_OHE)"
      ],
      "execution_count": null,
      "outputs": [
        {
          "output_type": "stream",
          "text": [
            "Raw data are:  [[1, 2, 2, 6, 1], [2, 8, 2, 2, 1], [4, 10, 2, 6, 6]]\n",
            "   0   1  2  3  4\n",
            "0  1   2  2  6  1\n",
            "1  2   8  2  2  1\n",
            "2  4  10  2  6  6\n",
            "The oridnal values are (pandas DF): \n",
            "    0  1  2  3  4\n",
            "0  0  0  0  1  0\n",
            "1  1  1  0  0  0\n",
            "2  2  2  0  1  1\n"
          ],
          "name": "stdout"
        },
        {
          "output_type": "error",
          "ename": "ValueError",
          "evalue": "ignored",
          "traceback": [
            "\u001b[0;31m---------------------------------------------------------------------------\u001b[0m",
            "\u001b[0;31mValueError\u001b[0m                                Traceback (most recent call last)",
            "\u001b[0;32m<ipython-input-32-99381b853072>\u001b[0m in \u001b[0;36m<module>\u001b[0;34m()\u001b[0m\n\u001b[1;32m     18\u001b[0m \u001b[0;31m#print('The oridnal values are: \\n', X_ordinal.toarray())\u001b[0m\u001b[0;34m\u001b[0m\u001b[0;34m\u001b[0m\u001b[0;34m\u001b[0m\u001b[0m\n\u001b[1;32m     19\u001b[0m \u001b[0;34m\u001b[0m\u001b[0m\n\u001b[0;32m---> 20\u001b[0;31m \u001b[0mprint\u001b[0m\u001b[0;34m(\u001b[0m\u001b[0;34m'The inverse transofrm into strings of [0, 0, 1, 2] is: '\u001b[0m\u001b[0;34m,\u001b[0m \u001b[0mle\u001b[0m\u001b[0;34m.\u001b[0m\u001b[0minverse_transform\u001b[0m\u001b[0;34m(\u001b[0m\u001b[0mX_ordinal\u001b[0m\u001b[0;34m)\u001b[0m\u001b[0;34m)\u001b[0m\u001b[0;34m\u001b[0m\u001b[0;34m\u001b[0m\u001b[0m\n\u001b[0m\u001b[1;32m     21\u001b[0m \u001b[0;34m\u001b[0m\u001b[0m\n\u001b[1;32m     22\u001b[0m \u001b[0;32mfrom\u001b[0m \u001b[0msklearn\u001b[0m\u001b[0;34m.\u001b[0m\u001b[0mpreprocessing\u001b[0m \u001b[0;32mimport\u001b[0m \u001b[0mLabelBinarizer\u001b[0m\u001b[0;34m\u001b[0m\u001b[0;34m\u001b[0m\u001b[0m\n",
            "\u001b[0;32m/usr/local/lib/python3.6/dist-packages/sklearn/preprocessing/_label.py\u001b[0m in \u001b[0;36minverse_transform\u001b[0;34m(self, y)\u001b[0m\n\u001b[1;32m    287\u001b[0m         \"\"\"\n\u001b[1;32m    288\u001b[0m         \u001b[0mcheck_is_fitted\u001b[0m\u001b[0;34m(\u001b[0m\u001b[0mself\u001b[0m\u001b[0;34m)\u001b[0m\u001b[0;34m\u001b[0m\u001b[0;34m\u001b[0m\u001b[0m\n\u001b[0;32m--> 289\u001b[0;31m         \u001b[0my\u001b[0m \u001b[0;34m=\u001b[0m \u001b[0mcolumn_or_1d\u001b[0m\u001b[0;34m(\u001b[0m\u001b[0my\u001b[0m\u001b[0;34m,\u001b[0m \u001b[0mwarn\u001b[0m\u001b[0;34m=\u001b[0m\u001b[0;32mTrue\u001b[0m\u001b[0;34m)\u001b[0m\u001b[0;34m\u001b[0m\u001b[0;34m\u001b[0m\u001b[0m\n\u001b[0m\u001b[1;32m    290\u001b[0m         \u001b[0;31m# inverse transform of empty array is empty array\u001b[0m\u001b[0;34m\u001b[0m\u001b[0;34m\u001b[0m\u001b[0;34m\u001b[0m\u001b[0m\n\u001b[1;32m    291\u001b[0m         \u001b[0;32mif\u001b[0m \u001b[0m_num_samples\u001b[0m\u001b[0;34m(\u001b[0m\u001b[0my\u001b[0m\u001b[0;34m)\u001b[0m \u001b[0;34m==\u001b[0m \u001b[0;36m0\u001b[0m\u001b[0;34m:\u001b[0m\u001b[0;34m\u001b[0m\u001b[0;34m\u001b[0m\u001b[0m\n",
            "\u001b[0;32m/usr/local/lib/python3.6/dist-packages/sklearn/utils/validation.py\u001b[0m in \u001b[0;36mcolumn_or_1d\u001b[0;34m(y, warn)\u001b[0m\n\u001b[1;32m    795\u001b[0m         \u001b[0;32mreturn\u001b[0m \u001b[0mnp\u001b[0m\u001b[0;34m.\u001b[0m\u001b[0mravel\u001b[0m\u001b[0;34m(\u001b[0m\u001b[0my\u001b[0m\u001b[0;34m)\u001b[0m\u001b[0;34m\u001b[0m\u001b[0;34m\u001b[0m\u001b[0m\n\u001b[1;32m    796\u001b[0m \u001b[0;34m\u001b[0m\u001b[0m\n\u001b[0;32m--> 797\u001b[0;31m     \u001b[0;32mraise\u001b[0m \u001b[0mValueError\u001b[0m\u001b[0;34m(\u001b[0m\u001b[0;34m\"bad input shape {0}\"\u001b[0m\u001b[0;34m.\u001b[0m\u001b[0mformat\u001b[0m\u001b[0;34m(\u001b[0m\u001b[0mshape\u001b[0m\u001b[0;34m)\u001b[0m\u001b[0;34m)\u001b[0m\u001b[0;34m\u001b[0m\u001b[0;34m\u001b[0m\u001b[0m\n\u001b[0m\u001b[1;32m    798\u001b[0m \u001b[0;34m\u001b[0m\u001b[0m\n\u001b[1;32m    799\u001b[0m \u001b[0;34m\u001b[0m\u001b[0m\n",
            "\u001b[0;31mValueError\u001b[0m: bad input shape (3, 5)"
          ]
        }
      ]
    },
    {
      "cell_type": "markdown",
      "metadata": {
        "id": "x6mKniqN_dkK"
      },
      "source": [
        "The error above means, since we do not fit a UNIVERSAL transform for X, but only per colomn, then we cannot apply inverse_transform globally.\n",
        "\n",
        "What we need to do is to have a LabelEncoder transform object PER COLOMN/FEATURE"
      ]
    },
    {
      "cell_type": "code",
      "metadata": {
        "id": "SBhjddTj_dkK",
        "colab": {
          "base_uri": "https://localhost:8080/",
          "height": 286
        },
        "outputId": "d9d984f4-d8be-4687-c352-4402c385f788"
      },
      "source": [
        "import pandas as pd\n",
        "import numpy as np\n",
        "\n",
        "X_raw = [[1, 2, 2, 6, 1], [2, 8, 2, 2, 1], [4, 10, 2, 6, 6]]\n",
        "print('Raw data are: ', X_raw)\n",
        "\n",
        "X = pd.DataFrame(X_raw)\n",
        "\n",
        "print('Before transform: \\n', X)\n",
        "from sklearn import preprocessing\n",
        "le = preprocessing.LabelEncoder()\n",
        "le_dict = {}\n",
        "for col in X.columns:\n",
        "    #print(col.name)\n",
        "    #print(X[col].name)\n",
        "    le = preprocessing.LabelEncoder()\n",
        "    X[col] = le.fit_transform(X[col])\n",
        "    le_dict[X[col].name] = le\n",
        "\n",
        "print('After transform: \\n', X)\n",
        "for col in X.columns:\n",
        "\n",
        "    X[col] = le_dict[X[col].name].inverse_transform(X[col])\n",
        "\n",
        "\n",
        "\n",
        "print('After inverse transform: \\n', X)"
      ],
      "execution_count": null,
      "outputs": [
        {
          "output_type": "stream",
          "text": [
            "Raw data are:  [[1, 2, 2, 6, 1], [2, 8, 2, 2, 1], [4, 10, 2, 6, 6]]\n",
            "Before transform: \n",
            "    0   1  2  3  4\n",
            "0  1   2  2  6  1\n",
            "1  2   8  2  2  1\n",
            "2  4  10  2  6  6\n",
            "After transform: \n",
            "    0  1  2  3  4\n",
            "0  0  0  0  1  0\n",
            "1  1  1  0  0  0\n",
            "2  2  2  0  1  1\n",
            "After inverse transform: \n",
            "    0   1  2  3  4\n",
            "0  1   2  2  6  1\n",
            "1  2   8  2  2  1\n",
            "2  4  10  2  6  6\n"
          ],
          "name": "stdout"
        }
      ]
    },
    {
      "cell_type": "markdown",
      "metadata": {
        "id": "jnOvxFWt_dkN"
      },
      "source": [
        "The same can be done with shorthand lambda expressions:"
      ]
    },
    {
      "cell_type": "code",
      "metadata": {
        "id": "VUVmfhAn_dkN",
        "colab": {
          "base_uri": "https://localhost:8080/",
          "height": 286
        },
        "outputId": "8fae95a2-67dd-4cac-b7d3-635390e33746"
      },
      "source": [
        "import pandas as pd\n",
        "import numpy as np\n",
        "from sklearn import preprocessing\n",
        "\n",
        "X_raw = [[1, 2, 2, 6, 1], [2, 8, 2, 2, 1], [4, 10, 2, 6, 6]]\n",
        "print('Raw data are: ', X_raw)\n",
        "\n",
        "X = pd.DataFrame(X_raw)\n",
        "\n",
        "print('Before transform: \\n', X)\n",
        "\n",
        "from collections import defaultdict\n",
        "le_dict = defaultdict(LabelEncoder)\n",
        "\n",
        "# X.apply loops on colomns, so small x is the col\n",
        "X = X.apply(lambda x: le_dict[x.name].fit_transform(x))\n",
        "\n",
        "print('After transform: \\n', X)\n",
        "\n",
        "X = X.apply(lambda x: le_dict[x.name].inverse_transform(x))\n",
        "\n",
        "\n",
        "\n",
        "print('After inverse transform: \\n', X)"
      ],
      "execution_count": null,
      "outputs": [
        {
          "output_type": "stream",
          "text": [
            "Raw data are:  [[1, 2, 2, 6, 1], [2, 8, 2, 2, 1], [4, 10, 2, 6, 6]]\n",
            "Before transform: \n",
            "    0   1  2  3  4\n",
            "0  1   2  2  6  1\n",
            "1  2   8  2  2  1\n",
            "2  4  10  2  6  6\n",
            "After transform: \n",
            "    0  1  2  3  4\n",
            "0  0  0  0  1  0\n",
            "1  1  1  0  0  0\n",
            "2  2  2  0  1  1\n",
            "After inverse transform: \n",
            "    0   1  2  3  4\n",
            "0  1   2  2  6  1\n",
            "1  2   8  2  2  1\n",
            "2  4  10  2  6  6\n"
          ],
          "name": "stdout"
        }
      ]
    },
    {
      "cell_type": "markdown",
      "metadata": {
        "id": "b9ZMqeiZ_dkQ"
      },
      "source": [
        "Now we can transform categorial features into ordinal ones, and inverse that.\n",
        "\n",
        "Now, we want to fit a OHE.\n",
        "\n",
        "Let's try with LabelBinarizer as before:"
      ]
    },
    {
      "cell_type": "code",
      "metadata": {
        "id": "IoDc1uUw_dkR",
        "colab": {
          "base_uri": "https://localhost:8080/",
          "height": 622
        },
        "outputId": "f45e7b6f-134a-4e69-a5e7-89f1293e5143"
      },
      "source": [
        "import pandas as pd\n",
        "import numpy as np\n",
        "from sklearn import preprocessing\n",
        "\n",
        "X_raw = [[1, 2, 2, 6, 1], [2, 8, 2, 2, 1], [4, 10, 2, 6, 6]]\n",
        "print('Raw data are: ', X_raw)\n",
        "\n",
        "X = pd.DataFrame(X_raw)\n",
        "\n",
        "print('Before transform: \\n', X)\n",
        "\n",
        "from collections import defaultdict\n",
        "le_dict = defaultdict(LabelEncoder)\n",
        "\n",
        "# X.apply loops on colomns, so small x is the col\n",
        "X_ordinal = X.apply(lambda x: le_dict[x.name].fit_transform(x))\n",
        "\n",
        "print('After transform: \\n', X_ordinal)\n",
        "\n",
        "X_orig = X_ordinal.apply(lambda x: le_dict[x.name].inverse_transform(x))\n",
        "\n",
        "\n",
        "\n",
        "print('After inverse transform: \\n', X_orig)\n",
        "\n",
        "from sklearn.preprocessing import LabelBinarizer\n",
        "\n",
        "X_OHE = LabelBinarizer().fit_transform(X_ordinal)\n",
        "print('We can use the LabelBinarizer to perform the one-hot-encoding: \\n', X_OHE)"
      ],
      "execution_count": null,
      "outputs": [
        {
          "output_type": "stream",
          "text": [
            "Raw data are:  [[1, 2, 2, 6, 1], [2, 8, 2, 2, 1], [4, 10, 2, 6, 6]]\n",
            "Before transform: \n",
            "    0   1  2  3  4\n",
            "0  1   2  2  6  1\n",
            "1  2   8  2  2  1\n",
            "2  4  10  2  6  6\n",
            "After transform: \n",
            "    0  1  2  3  4\n",
            "0  0  0  0  1  0\n",
            "1  1  1  0  0  0\n",
            "2  2  2  0  1  1\n",
            "After inverse transform: \n",
            "    0   1  2  3  4\n",
            "0  1   2  2  6  1\n",
            "1  2   8  2  2  1\n",
            "2  4  10  2  6  6\n"
          ],
          "name": "stdout"
        },
        {
          "output_type": "error",
          "ename": "ValueError",
          "evalue": "ignored",
          "traceback": [
            "\u001b[0;31m---------------------------------------------------------------------------\u001b[0m",
            "\u001b[0;31mValueError\u001b[0m                                Traceback (most recent call last)",
            "\u001b[0;32m<ipython-input-35-0d6760c26e60>\u001b[0m in \u001b[0;36m<module>\u001b[0;34m()\u001b[0m\n\u001b[1;32m     26\u001b[0m \u001b[0;32mfrom\u001b[0m \u001b[0msklearn\u001b[0m\u001b[0;34m.\u001b[0m\u001b[0mpreprocessing\u001b[0m \u001b[0;32mimport\u001b[0m \u001b[0mLabelBinarizer\u001b[0m\u001b[0;34m\u001b[0m\u001b[0;34m\u001b[0m\u001b[0m\n\u001b[1;32m     27\u001b[0m \u001b[0;34m\u001b[0m\u001b[0m\n\u001b[0;32m---> 28\u001b[0;31m \u001b[0mX_OHE\u001b[0m \u001b[0;34m=\u001b[0m \u001b[0mLabelBinarizer\u001b[0m\u001b[0;34m(\u001b[0m\u001b[0;34m)\u001b[0m\u001b[0;34m.\u001b[0m\u001b[0mfit_transform\u001b[0m\u001b[0;34m(\u001b[0m\u001b[0mX_ordinal\u001b[0m\u001b[0;34m)\u001b[0m\u001b[0;34m\u001b[0m\u001b[0;34m\u001b[0m\u001b[0m\n\u001b[0m\u001b[1;32m     29\u001b[0m \u001b[0mprint\u001b[0m\u001b[0;34m(\u001b[0m\u001b[0;34m'We can use the LabelBinarizer to perform the one-hot-encoding: \\n'\u001b[0m\u001b[0;34m,\u001b[0m \u001b[0mX_OHE\u001b[0m\u001b[0;34m)\u001b[0m\u001b[0;34m\u001b[0m\u001b[0;34m\u001b[0m\u001b[0m\n",
            "\u001b[0;32m/usr/local/lib/python3.6/dist-packages/sklearn/preprocessing/_label.py\u001b[0m in \u001b[0;36mfit_transform\u001b[0;34m(self, y)\u001b[0m\n\u001b[1;32m    453\u001b[0m             \u001b[0mShape\u001b[0m \u001b[0mwill\u001b[0m \u001b[0mbe\u001b[0m \u001b[0;34m[\u001b[0m\u001b[0mn_samples\u001b[0m\u001b[0;34m,\u001b[0m \u001b[0;36m1\u001b[0m\u001b[0;34m]\u001b[0m \u001b[0;32mfor\u001b[0m \u001b[0mbinary\u001b[0m \u001b[0mproblems\u001b[0m\u001b[0;34m.\u001b[0m\u001b[0;34m\u001b[0m\u001b[0;34m\u001b[0m\u001b[0m\n\u001b[1;32m    454\u001b[0m         \"\"\"\n\u001b[0;32m--> 455\u001b[0;31m         \u001b[0;32mreturn\u001b[0m \u001b[0mself\u001b[0m\u001b[0;34m.\u001b[0m\u001b[0mfit\u001b[0m\u001b[0;34m(\u001b[0m\u001b[0my\u001b[0m\u001b[0;34m)\u001b[0m\u001b[0;34m.\u001b[0m\u001b[0mtransform\u001b[0m\u001b[0;34m(\u001b[0m\u001b[0my\u001b[0m\u001b[0;34m)\u001b[0m\u001b[0;34m\u001b[0m\u001b[0;34m\u001b[0m\u001b[0m\n\u001b[0m\u001b[1;32m    456\u001b[0m \u001b[0;34m\u001b[0m\u001b[0m\n\u001b[1;32m    457\u001b[0m     \u001b[0;32mdef\u001b[0m \u001b[0mtransform\u001b[0m\u001b[0;34m(\u001b[0m\u001b[0mself\u001b[0m\u001b[0;34m,\u001b[0m \u001b[0my\u001b[0m\u001b[0;34m)\u001b[0m\u001b[0;34m:\u001b[0m\u001b[0;34m\u001b[0m\u001b[0;34m\u001b[0m\u001b[0m\n",
            "\u001b[0;32m/usr/local/lib/python3.6/dist-packages/sklearn/preprocessing/_label.py\u001b[0m in \u001b[0;36mfit\u001b[0;34m(self, y)\u001b[0m\n\u001b[1;32m    424\u001b[0m         \u001b[0mself\u001b[0m\u001b[0;34m.\u001b[0m\u001b[0my_type_\u001b[0m \u001b[0;34m=\u001b[0m \u001b[0mtype_of_target\u001b[0m\u001b[0;34m(\u001b[0m\u001b[0my\u001b[0m\u001b[0;34m)\u001b[0m\u001b[0;34m\u001b[0m\u001b[0;34m\u001b[0m\u001b[0m\n\u001b[1;32m    425\u001b[0m         \u001b[0;32mif\u001b[0m \u001b[0;34m'multioutput'\u001b[0m \u001b[0;32min\u001b[0m \u001b[0mself\u001b[0m\u001b[0;34m.\u001b[0m\u001b[0my_type_\u001b[0m\u001b[0;34m:\u001b[0m\u001b[0;34m\u001b[0m\u001b[0;34m\u001b[0m\u001b[0m\n\u001b[0;32m--> 426\u001b[0;31m             raise ValueError(\"Multioutput target data is not supported with \"\n\u001b[0m\u001b[1;32m    427\u001b[0m                              \"label binarization\")\n\u001b[1;32m    428\u001b[0m         \u001b[0;32mif\u001b[0m \u001b[0m_num_samples\u001b[0m\u001b[0;34m(\u001b[0m\u001b[0my\u001b[0m\u001b[0;34m)\u001b[0m \u001b[0;34m==\u001b[0m \u001b[0;36m0\u001b[0m\u001b[0;34m:\u001b[0m\u001b[0;34m\u001b[0m\u001b[0;34m\u001b[0m\u001b[0m\n",
            "\u001b[0;31mValueError\u001b[0m: Multioutput target data is not supported with label binarization"
          ]
        }
      ]
    },
    {
      "cell_type": "markdown",
      "metadata": {
        "id": "LR28tObZ_dkT"
      },
      "source": [
        "As before, LabelBinarize like LabelEncoder work only on 1-D labels array.\n",
        "\n",
        "Let's try to work on the colomns data of X_ordinal as we did with LabelEncoder:"
      ]
    },
    {
      "cell_type": "code",
      "metadata": {
        "id": "rohaARe3_dkU",
        "colab": {
          "base_uri": "https://localhost:8080/",
          "height": 622
        },
        "outputId": "5a86e7a0-29d1-4053-ab3e-b832e90bfea1"
      },
      "source": [
        "import pandas as pd\n",
        "import numpy as np\n",
        "from sklearn import preprocessing\n",
        "\n",
        "X_raw = [[1, 2, 2, 6, 1], [2, 8, 2, 2, 1], [4, 10, 2, 6, 6]]\n",
        "print('Raw data are: ', X_raw)\n",
        "\n",
        "X = pd.DataFrame(X_raw)\n",
        "\n",
        "print('Before transform: \\n', X)\n",
        "\n",
        "from collections import defaultdict\n",
        "le_dict = defaultdict(LabelEncoder)\n",
        "\n",
        "# X.apply loops on colomns, so small x is the col\n",
        "X_ordinal = X.apply(lambda x: le_dict[x.name].fit_transform(x))\n",
        "\n",
        "print('After transform: \\n', X_ordinal)\n",
        "\n",
        "X_orig = X_ordinal.apply(lambda x: le_dict[x.name].inverse_transform(x))\n",
        "\n",
        "\n",
        "\n",
        "print('After inverse transform: \\n', X_orig)\n",
        "\n",
        "from sklearn.preprocessing import LabelBinarizer\n",
        "\n",
        "lb = LabelBinarizer()\n",
        "\n",
        "X_OHE = X_ordinal.apply(lb.fit_transform)\n",
        "print('We can use the LabelBinarizer to perform the one-hot-encoding: \\n', X_OHE)"
      ],
      "execution_count": null,
      "outputs": [
        {
          "output_type": "stream",
          "text": [
            "Raw data are:  [[1, 2, 2, 6, 1], [2, 8, 2, 2, 1], [4, 10, 2, 6, 6]]\n",
            "Before transform: \n",
            "    0   1  2  3  4\n",
            "0  1   2  2  6  1\n",
            "1  2   8  2  2  1\n",
            "2  4  10  2  6  6\n",
            "After transform: \n",
            "    0  1  2  3  4\n",
            "0  0  0  0  1  0\n",
            "1  1  1  0  0  0\n",
            "2  2  2  0  1  1\n",
            "After inverse transform: \n",
            "    0   1  2  3  4\n",
            "0  1   2  2  6  1\n",
            "1  2   8  2  2  1\n",
            "2  4  10  2  6  6\n"
          ],
          "name": "stdout"
        },
        {
          "output_type": "error",
          "ename": "ValueError",
          "evalue": "ignored",
          "traceback": [
            "\u001b[0;31m---------------------------------------------------------------------------\u001b[0m",
            "\u001b[0;31mValueError\u001b[0m                                Traceback (most recent call last)",
            "\u001b[0;32m<ipython-input-36-0a88f232cbe6>\u001b[0m in \u001b[0;36m<module>\u001b[0;34m()\u001b[0m\n\u001b[1;32m     28\u001b[0m \u001b[0mlb\u001b[0m \u001b[0;34m=\u001b[0m \u001b[0mLabelBinarizer\u001b[0m\u001b[0;34m(\u001b[0m\u001b[0;34m)\u001b[0m\u001b[0;34m\u001b[0m\u001b[0;34m\u001b[0m\u001b[0m\n\u001b[1;32m     29\u001b[0m \u001b[0;34m\u001b[0m\u001b[0m\n\u001b[0;32m---> 30\u001b[0;31m \u001b[0mX_OHE\u001b[0m \u001b[0;34m=\u001b[0m \u001b[0mX_ordinal\u001b[0m\u001b[0;34m.\u001b[0m\u001b[0mapply\u001b[0m\u001b[0;34m(\u001b[0m\u001b[0mlb\u001b[0m\u001b[0;34m.\u001b[0m\u001b[0mfit_transform\u001b[0m\u001b[0;34m)\u001b[0m\u001b[0;34m\u001b[0m\u001b[0;34m\u001b[0m\u001b[0m\n\u001b[0m\u001b[1;32m     31\u001b[0m \u001b[0mprint\u001b[0m\u001b[0;34m(\u001b[0m\u001b[0;34m'We can use the LabelBinarizer to perform the one-hot-encoding: \\n'\u001b[0m\u001b[0;34m,\u001b[0m \u001b[0mX_OHE\u001b[0m\u001b[0;34m)\u001b[0m\u001b[0;34m\u001b[0m\u001b[0;34m\u001b[0m\u001b[0m\n",
            "\u001b[0;32m/usr/local/lib/python3.6/dist-packages/pandas/core/frame.py\u001b[0m in \u001b[0;36mapply\u001b[0;34m(self, func, axis, raw, result_type, args, **kwds)\u001b[0m\n\u001b[1;32m   6876\u001b[0m             \u001b[0mkwds\u001b[0m\u001b[0;34m=\u001b[0m\u001b[0mkwds\u001b[0m\u001b[0;34m,\u001b[0m\u001b[0;34m\u001b[0m\u001b[0;34m\u001b[0m\u001b[0m\n\u001b[1;32m   6877\u001b[0m         )\n\u001b[0;32m-> 6878\u001b[0;31m         \u001b[0;32mreturn\u001b[0m \u001b[0mop\u001b[0m\u001b[0;34m.\u001b[0m\u001b[0mget_result\u001b[0m\u001b[0;34m(\u001b[0m\u001b[0;34m)\u001b[0m\u001b[0;34m\u001b[0m\u001b[0;34m\u001b[0m\u001b[0m\n\u001b[0m\u001b[1;32m   6879\u001b[0m \u001b[0;34m\u001b[0m\u001b[0m\n\u001b[1;32m   6880\u001b[0m     \u001b[0;32mdef\u001b[0m \u001b[0mapplymap\u001b[0m\u001b[0;34m(\u001b[0m\u001b[0mself\u001b[0m\u001b[0;34m,\u001b[0m \u001b[0mfunc\u001b[0m\u001b[0;34m)\u001b[0m \u001b[0;34m->\u001b[0m \u001b[0;34m\"DataFrame\"\u001b[0m\u001b[0;34m:\u001b[0m\u001b[0;34m\u001b[0m\u001b[0;34m\u001b[0m\u001b[0m\n",
            "\u001b[0;32m/usr/local/lib/python3.6/dist-packages/pandas/core/apply.py\u001b[0m in \u001b[0;36mget_result\u001b[0;34m(self)\u001b[0m\n\u001b[1;32m    184\u001b[0m             \u001b[0;32mreturn\u001b[0m \u001b[0mself\u001b[0m\u001b[0;34m.\u001b[0m\u001b[0mapply_raw\u001b[0m\u001b[0;34m(\u001b[0m\u001b[0;34m)\u001b[0m\u001b[0;34m\u001b[0m\u001b[0;34m\u001b[0m\u001b[0m\n\u001b[1;32m    185\u001b[0m \u001b[0;34m\u001b[0m\u001b[0m\n\u001b[0;32m--> 186\u001b[0;31m         \u001b[0;32mreturn\u001b[0m \u001b[0mself\u001b[0m\u001b[0;34m.\u001b[0m\u001b[0mapply_standard\u001b[0m\u001b[0;34m(\u001b[0m\u001b[0;34m)\u001b[0m\u001b[0;34m\u001b[0m\u001b[0;34m\u001b[0m\u001b[0m\n\u001b[0m\u001b[1;32m    187\u001b[0m \u001b[0;34m\u001b[0m\u001b[0m\n\u001b[1;32m    188\u001b[0m     \u001b[0;32mdef\u001b[0m \u001b[0mapply_empty_result\u001b[0m\u001b[0;34m(\u001b[0m\u001b[0mself\u001b[0m\u001b[0;34m)\u001b[0m\u001b[0;34m:\u001b[0m\u001b[0;34m\u001b[0m\u001b[0;34m\u001b[0m\u001b[0m\n",
            "\u001b[0;32m/usr/local/lib/python3.6/dist-packages/pandas/core/apply.py\u001b[0m in \u001b[0;36mapply_standard\u001b[0;34m(self)\u001b[0m\n\u001b[1;32m    314\u001b[0m \u001b[0;34m\u001b[0m\u001b[0m\n\u001b[1;32m    315\u001b[0m         \u001b[0;31m# wrap results\u001b[0m\u001b[0;34m\u001b[0m\u001b[0;34m\u001b[0m\u001b[0;34m\u001b[0m\u001b[0m\n\u001b[0;32m--> 316\u001b[0;31m         \u001b[0;32mreturn\u001b[0m \u001b[0mself\u001b[0m\u001b[0;34m.\u001b[0m\u001b[0mwrap_results\u001b[0m\u001b[0;34m(\u001b[0m\u001b[0mresults\u001b[0m\u001b[0;34m,\u001b[0m \u001b[0mres_index\u001b[0m\u001b[0;34m)\u001b[0m\u001b[0;34m\u001b[0m\u001b[0;34m\u001b[0m\u001b[0m\n\u001b[0m\u001b[1;32m    317\u001b[0m \u001b[0;34m\u001b[0m\u001b[0m\n\u001b[1;32m    318\u001b[0m     \u001b[0;32mdef\u001b[0m \u001b[0mapply_series_generator\u001b[0m\u001b[0;34m(\u001b[0m\u001b[0mself\u001b[0m\u001b[0;34m)\u001b[0m \u001b[0;34m->\u001b[0m \u001b[0mTuple\u001b[0m\u001b[0;34m[\u001b[0m\u001b[0mResType\u001b[0m\u001b[0;34m,\u001b[0m \u001b[0;34m\"Index\"\u001b[0m\u001b[0;34m]\u001b[0m\u001b[0;34m:\u001b[0m\u001b[0;34m\u001b[0m\u001b[0;34m\u001b[0m\u001b[0m\n",
            "\u001b[0;32m/usr/local/lib/python3.6/dist-packages/pandas/core/apply.py\u001b[0m in \u001b[0;36mwrap_results\u001b[0;34m(self, results, res_index)\u001b[0m\n\u001b[1;32m    352\u001b[0m         \u001b[0;32mif\u001b[0m \u001b[0mlen\u001b[0m\u001b[0;34m(\u001b[0m\u001b[0mresults\u001b[0m\u001b[0;34m)\u001b[0m \u001b[0;34m>\u001b[0m \u001b[0;36m0\u001b[0m \u001b[0;32mand\u001b[0m \u001b[0;36m0\u001b[0m \u001b[0;32min\u001b[0m \u001b[0mresults\u001b[0m \u001b[0;32mand\u001b[0m \u001b[0mis_sequence\u001b[0m\u001b[0;34m(\u001b[0m\u001b[0mresults\u001b[0m\u001b[0;34m[\u001b[0m\u001b[0;36m0\u001b[0m\u001b[0;34m]\u001b[0m\u001b[0;34m)\u001b[0m\u001b[0;34m:\u001b[0m\u001b[0;34m\u001b[0m\u001b[0;34m\u001b[0m\u001b[0m\n\u001b[1;32m    353\u001b[0m \u001b[0;34m\u001b[0m\u001b[0m\n\u001b[0;32m--> 354\u001b[0;31m             \u001b[0;32mreturn\u001b[0m \u001b[0mself\u001b[0m\u001b[0;34m.\u001b[0m\u001b[0mwrap_results_for_axis\u001b[0m\u001b[0;34m(\u001b[0m\u001b[0mresults\u001b[0m\u001b[0;34m,\u001b[0m \u001b[0mres_index\u001b[0m\u001b[0;34m)\u001b[0m\u001b[0;34m\u001b[0m\u001b[0;34m\u001b[0m\u001b[0m\n\u001b[0m\u001b[1;32m    355\u001b[0m \u001b[0;34m\u001b[0m\u001b[0m\n\u001b[1;32m    356\u001b[0m         \u001b[0;31m# dict of scalars\u001b[0m\u001b[0;34m\u001b[0m\u001b[0;34m\u001b[0m\u001b[0;34m\u001b[0m\u001b[0m\n",
            "\u001b[0;32m/usr/local/lib/python3.6/dist-packages/pandas/core/apply.py\u001b[0m in \u001b[0;36mwrap_results_for_axis\u001b[0;34m(self, results, res_index)\u001b[0m\n\u001b[1;32m    394\u001b[0m         \u001b[0;34m\"\"\" return the results for the rows \"\"\"\u001b[0m\u001b[0;34m\u001b[0m\u001b[0;34m\u001b[0m\u001b[0m\n\u001b[1;32m    395\u001b[0m \u001b[0;34m\u001b[0m\u001b[0m\n\u001b[0;32m--> 396\u001b[0;31m         \u001b[0mresult\u001b[0m \u001b[0;34m=\u001b[0m \u001b[0mself\u001b[0m\u001b[0;34m.\u001b[0m\u001b[0mobj\u001b[0m\u001b[0;34m.\u001b[0m\u001b[0m_constructor\u001b[0m\u001b[0;34m(\u001b[0m\u001b[0mdata\u001b[0m\u001b[0;34m=\u001b[0m\u001b[0mresults\u001b[0m\u001b[0;34m)\u001b[0m\u001b[0;34m\u001b[0m\u001b[0;34m\u001b[0m\u001b[0m\n\u001b[0m\u001b[1;32m    397\u001b[0m \u001b[0;34m\u001b[0m\u001b[0m\n\u001b[1;32m    398\u001b[0m         \u001b[0;32mif\u001b[0m \u001b[0;32mnot\u001b[0m \u001b[0misinstance\u001b[0m\u001b[0;34m(\u001b[0m\u001b[0mresults\u001b[0m\u001b[0;34m[\u001b[0m\u001b[0;36m0\u001b[0m\u001b[0;34m]\u001b[0m\u001b[0;34m,\u001b[0m \u001b[0mABCSeries\u001b[0m\u001b[0;34m)\u001b[0m\u001b[0;34m:\u001b[0m\u001b[0;34m\u001b[0m\u001b[0;34m\u001b[0m\u001b[0m\n",
            "\u001b[0;32m/usr/local/lib/python3.6/dist-packages/pandas/core/frame.py\u001b[0m in \u001b[0;36m__init__\u001b[0;34m(self, data, index, columns, dtype, copy)\u001b[0m\n\u001b[1;32m    433\u001b[0m             )\n\u001b[1;32m    434\u001b[0m         \u001b[0;32melif\u001b[0m \u001b[0misinstance\u001b[0m\u001b[0;34m(\u001b[0m\u001b[0mdata\u001b[0m\u001b[0;34m,\u001b[0m \u001b[0mdict\u001b[0m\u001b[0;34m)\u001b[0m\u001b[0;34m:\u001b[0m\u001b[0;34m\u001b[0m\u001b[0;34m\u001b[0m\u001b[0m\n\u001b[0;32m--> 435\u001b[0;31m             \u001b[0mmgr\u001b[0m \u001b[0;34m=\u001b[0m \u001b[0minit_dict\u001b[0m\u001b[0;34m(\u001b[0m\u001b[0mdata\u001b[0m\u001b[0;34m,\u001b[0m \u001b[0mindex\u001b[0m\u001b[0;34m,\u001b[0m \u001b[0mcolumns\u001b[0m\u001b[0;34m,\u001b[0m \u001b[0mdtype\u001b[0m\u001b[0;34m=\u001b[0m\u001b[0mdtype\u001b[0m\u001b[0;34m)\u001b[0m\u001b[0;34m\u001b[0m\u001b[0;34m\u001b[0m\u001b[0m\n\u001b[0m\u001b[1;32m    436\u001b[0m         \u001b[0;32melif\u001b[0m \u001b[0misinstance\u001b[0m\u001b[0;34m(\u001b[0m\u001b[0mdata\u001b[0m\u001b[0;34m,\u001b[0m \u001b[0mma\u001b[0m\u001b[0;34m.\u001b[0m\u001b[0mMaskedArray\u001b[0m\u001b[0;34m)\u001b[0m\u001b[0;34m:\u001b[0m\u001b[0;34m\u001b[0m\u001b[0;34m\u001b[0m\u001b[0m\n\u001b[1;32m    437\u001b[0m             \u001b[0;32mimport\u001b[0m \u001b[0mnumpy\u001b[0m\u001b[0;34m.\u001b[0m\u001b[0mma\u001b[0m\u001b[0;34m.\u001b[0m\u001b[0mmrecords\u001b[0m \u001b[0;32mas\u001b[0m \u001b[0mmrecords\u001b[0m\u001b[0;34m\u001b[0m\u001b[0;34m\u001b[0m\u001b[0m\n",
            "\u001b[0;32m/usr/local/lib/python3.6/dist-packages/pandas/core/internals/construction.py\u001b[0m in \u001b[0;36minit_dict\u001b[0;34m(data, index, columns, dtype)\u001b[0m\n\u001b[1;32m    252\u001b[0m             \u001b[0marr\u001b[0m \u001b[0;32mif\u001b[0m \u001b[0;32mnot\u001b[0m \u001b[0mis_datetime64tz_dtype\u001b[0m\u001b[0;34m(\u001b[0m\u001b[0marr\u001b[0m\u001b[0;34m)\u001b[0m \u001b[0;32melse\u001b[0m \u001b[0marr\u001b[0m\u001b[0;34m.\u001b[0m\u001b[0mcopy\u001b[0m\u001b[0;34m(\u001b[0m\u001b[0;34m)\u001b[0m \u001b[0;32mfor\u001b[0m \u001b[0marr\u001b[0m \u001b[0;32min\u001b[0m \u001b[0marrays\u001b[0m\u001b[0;34m\u001b[0m\u001b[0;34m\u001b[0m\u001b[0m\n\u001b[1;32m    253\u001b[0m         ]\n\u001b[0;32m--> 254\u001b[0;31m     \u001b[0;32mreturn\u001b[0m \u001b[0marrays_to_mgr\u001b[0m\u001b[0;34m(\u001b[0m\u001b[0marrays\u001b[0m\u001b[0;34m,\u001b[0m \u001b[0mdata_names\u001b[0m\u001b[0;34m,\u001b[0m \u001b[0mindex\u001b[0m\u001b[0;34m,\u001b[0m \u001b[0mcolumns\u001b[0m\u001b[0;34m,\u001b[0m \u001b[0mdtype\u001b[0m\u001b[0;34m=\u001b[0m\u001b[0mdtype\u001b[0m\u001b[0;34m)\u001b[0m\u001b[0;34m\u001b[0m\u001b[0;34m\u001b[0m\u001b[0m\n\u001b[0m\u001b[1;32m    255\u001b[0m \u001b[0;34m\u001b[0m\u001b[0m\n\u001b[1;32m    256\u001b[0m \u001b[0;34m\u001b[0m\u001b[0m\n",
            "\u001b[0;32m/usr/local/lib/python3.6/dist-packages/pandas/core/internals/construction.py\u001b[0m in \u001b[0;36marrays_to_mgr\u001b[0;34m(arrays, arr_names, index, columns, dtype)\u001b[0m\n\u001b[1;32m     62\u001b[0m     \u001b[0;31m# figure out the index, if necessary\u001b[0m\u001b[0;34m\u001b[0m\u001b[0;34m\u001b[0m\u001b[0;34m\u001b[0m\u001b[0m\n\u001b[1;32m     63\u001b[0m     \u001b[0;32mif\u001b[0m \u001b[0mindex\u001b[0m \u001b[0;32mis\u001b[0m \u001b[0;32mNone\u001b[0m\u001b[0;34m:\u001b[0m\u001b[0;34m\u001b[0m\u001b[0;34m\u001b[0m\u001b[0m\n\u001b[0;32m---> 64\u001b[0;31m         \u001b[0mindex\u001b[0m \u001b[0;34m=\u001b[0m \u001b[0mextract_index\u001b[0m\u001b[0;34m(\u001b[0m\u001b[0marrays\u001b[0m\u001b[0;34m)\u001b[0m\u001b[0;34m\u001b[0m\u001b[0;34m\u001b[0m\u001b[0m\n\u001b[0m\u001b[1;32m     65\u001b[0m     \u001b[0;32melse\u001b[0m\u001b[0;34m:\u001b[0m\u001b[0;34m\u001b[0m\u001b[0;34m\u001b[0m\u001b[0m\n\u001b[1;32m     66\u001b[0m         \u001b[0mindex\u001b[0m \u001b[0;34m=\u001b[0m \u001b[0mensure_index\u001b[0m\u001b[0;34m(\u001b[0m\u001b[0mindex\u001b[0m\u001b[0;34m)\u001b[0m\u001b[0;34m\u001b[0m\u001b[0;34m\u001b[0m\u001b[0m\n",
            "\u001b[0;32m/usr/local/lib/python3.6/dist-packages/pandas/core/internals/construction.py\u001b[0m in \u001b[0;36mextract_index\u001b[0;34m(data)\u001b[0m\n\u001b[1;32m    353\u001b[0m \u001b[0;34m\u001b[0m\u001b[0m\n\u001b[1;32m    354\u001b[0m         \u001b[0;32mif\u001b[0m \u001b[0;32mnot\u001b[0m \u001b[0mindexes\u001b[0m \u001b[0;32mand\u001b[0m \u001b[0;32mnot\u001b[0m \u001b[0mraw_lengths\u001b[0m\u001b[0;34m:\u001b[0m\u001b[0;34m\u001b[0m\u001b[0;34m\u001b[0m\u001b[0m\n\u001b[0;32m--> 355\u001b[0;31m             \u001b[0;32mraise\u001b[0m \u001b[0mValueError\u001b[0m\u001b[0;34m(\u001b[0m\u001b[0;34m\"If using all scalar values, you must pass an index\"\u001b[0m\u001b[0;34m)\u001b[0m\u001b[0;34m\u001b[0m\u001b[0;34m\u001b[0m\u001b[0m\n\u001b[0m\u001b[1;32m    356\u001b[0m \u001b[0;34m\u001b[0m\u001b[0m\n\u001b[1;32m    357\u001b[0m         \u001b[0;32mif\u001b[0m \u001b[0mhave_series\u001b[0m\u001b[0;34m:\u001b[0m\u001b[0;34m\u001b[0m\u001b[0;34m\u001b[0m\u001b[0m\n",
            "\u001b[0;31mValueError\u001b[0m: If using all scalar values, you must pass an index"
          ]
        }
      ]
    },
    {
      "cell_type": "code",
      "metadata": {
        "id": "7OJVO2mW_dkX",
        "colab": {
          "base_uri": "https://localhost:8080/",
          "height": 639
        },
        "outputId": "4de4fd2e-4b9e-4d7e-c50c-351c970e9e95"
      },
      "source": [
        "import pandas as pd\n",
        "import numpy as np\n",
        "from sklearn import preprocessing\n",
        "\n",
        "X_raw = [[1, 2, 2, 6, 1], [2, 8, 2, 2, 1], [4, 10, 2, 6, 6]]\n",
        "print('Raw data are: ', X_raw)\n",
        "\n",
        "X = pd.DataFrame(X_raw)\n",
        "\n",
        "print('Before transform: \\n', X)\n",
        "\n",
        "from collections import defaultdict\n",
        "le_dict = defaultdict(LabelEncoder)\n",
        "\n",
        "# X.apply loops on colomns, so small x is the col\n",
        "X_ordinal = X.apply(lambda x: le_dict[x.name].fit_transform(x))\n",
        "\n",
        "print('After transform: \\n', X_ordinal)\n",
        "\n",
        "X_orig = X_ordinal.apply(lambda x: le_dict[x.name].inverse_transform(x))\n",
        "\n",
        "print('After inverse transform: \\n', X_orig)\n",
        "\n",
        "\n",
        "from sklearn.preprocessing import LabelBinarizer\n",
        "\n",
        "lb_dict = {}\n",
        "X_OHE = pd.DataFrame()\n",
        "for col in X_ordinal.columns:\n",
        "    lb = LabelBinarizer()\n",
        "    a = lb.fit_transform(X_ordinal[col])\n",
        "    X_OHE[col] = a\n",
        "    lb_dict[X_ordinal[col].name] = lb\n",
        "\n",
        "\n",
        "print('We can use the LabelBinarizer to perform the one-hot-encoding: \\n', X_OHE)\n",
        "\n",
        "for col in X_OHE.columns:\n",
        "\n",
        "    X_ordinal_orig[col] = lb_dict[X_OHE[col].name].inverse_transform(X_OHE[col])\n",
        "print('After inverse transform: \\n', X_ordinal_orig)"
      ],
      "execution_count": null,
      "outputs": [
        {
          "output_type": "stream",
          "text": [
            "Raw data are:  [[1, 2, 2, 6, 1], [2, 8, 2, 2, 1], [4, 10, 2, 6, 6]]\n",
            "Before transform: \n",
            "    0   1  2  3  4\n",
            "0  1   2  2  6  1\n",
            "1  2   8  2  2  1\n",
            "2  4  10  2  6  6\n",
            "After transform: \n",
            "    0  1  2  3  4\n",
            "0  0  0  0  1  0\n",
            "1  1  1  0  0  0\n",
            "2  2  2  0  1  1\n",
            "After inverse transform: \n",
            "    0   1  2  3  4\n",
            "0  1   2  2  6  1\n",
            "1  2   8  2  2  1\n",
            "2  4  10  2  6  6\n"
          ],
          "name": "stdout"
        },
        {
          "output_type": "error",
          "ename": "Exception",
          "evalue": "ignored",
          "traceback": [
            "\u001b[0;31m---------------------------------------------------------------------------\u001b[0m",
            "\u001b[0;31mException\u001b[0m                                 Traceback (most recent call last)",
            "\u001b[0;32m<ipython-input-37-6b85cb7be560>\u001b[0m in \u001b[0;36m<module>\u001b[0;34m()\u001b[0m\n\u001b[1;32m     30\u001b[0m     \u001b[0mlb\u001b[0m \u001b[0;34m=\u001b[0m \u001b[0mLabelBinarizer\u001b[0m\u001b[0;34m(\u001b[0m\u001b[0;34m)\u001b[0m\u001b[0;34m\u001b[0m\u001b[0;34m\u001b[0m\u001b[0m\n\u001b[1;32m     31\u001b[0m     \u001b[0ma\u001b[0m \u001b[0;34m=\u001b[0m \u001b[0mlb\u001b[0m\u001b[0;34m.\u001b[0m\u001b[0mfit_transform\u001b[0m\u001b[0;34m(\u001b[0m\u001b[0mX_ordinal\u001b[0m\u001b[0;34m[\u001b[0m\u001b[0mcol\u001b[0m\u001b[0;34m]\u001b[0m\u001b[0;34m)\u001b[0m\u001b[0;34m\u001b[0m\u001b[0;34m\u001b[0m\u001b[0m\n\u001b[0;32m---> 32\u001b[0;31m     \u001b[0mX_OHE\u001b[0m\u001b[0;34m[\u001b[0m\u001b[0mcol\u001b[0m\u001b[0;34m]\u001b[0m \u001b[0;34m=\u001b[0m \u001b[0ma\u001b[0m\u001b[0;34m\u001b[0m\u001b[0;34m\u001b[0m\u001b[0m\n\u001b[0m\u001b[1;32m     33\u001b[0m     \u001b[0mlb_dict\u001b[0m\u001b[0;34m[\u001b[0m\u001b[0mX_ordinal\u001b[0m\u001b[0;34m[\u001b[0m\u001b[0mcol\u001b[0m\u001b[0;34m]\u001b[0m\u001b[0;34m.\u001b[0m\u001b[0mname\u001b[0m\u001b[0;34m]\u001b[0m \u001b[0;34m=\u001b[0m \u001b[0mlb\u001b[0m\u001b[0;34m\u001b[0m\u001b[0;34m\u001b[0m\u001b[0m\n\u001b[1;32m     34\u001b[0m \u001b[0;34m\u001b[0m\u001b[0m\n",
            "\u001b[0;32m/usr/local/lib/python3.6/dist-packages/pandas/core/frame.py\u001b[0m in \u001b[0;36m__setitem__\u001b[0;34m(self, key, value)\u001b[0m\n\u001b[1;32m   2936\u001b[0m         \u001b[0;32melse\u001b[0m\u001b[0;34m:\u001b[0m\u001b[0;34m\u001b[0m\u001b[0;34m\u001b[0m\u001b[0m\n\u001b[1;32m   2937\u001b[0m             \u001b[0;31m# set column\u001b[0m\u001b[0;34m\u001b[0m\u001b[0;34m\u001b[0m\u001b[0;34m\u001b[0m\u001b[0m\n\u001b[0;32m-> 2938\u001b[0;31m             \u001b[0mself\u001b[0m\u001b[0;34m.\u001b[0m\u001b[0m_set_item\u001b[0m\u001b[0;34m(\u001b[0m\u001b[0mkey\u001b[0m\u001b[0;34m,\u001b[0m \u001b[0mvalue\u001b[0m\u001b[0;34m)\u001b[0m\u001b[0;34m\u001b[0m\u001b[0;34m\u001b[0m\u001b[0m\n\u001b[0m\u001b[1;32m   2939\u001b[0m \u001b[0;34m\u001b[0m\u001b[0m\n\u001b[1;32m   2940\u001b[0m     \u001b[0;32mdef\u001b[0m \u001b[0m_setitem_slice\u001b[0m\u001b[0;34m(\u001b[0m\u001b[0mself\u001b[0m\u001b[0;34m,\u001b[0m \u001b[0mkey\u001b[0m\u001b[0;34m,\u001b[0m \u001b[0mvalue\u001b[0m\u001b[0;34m)\u001b[0m\u001b[0;34m:\u001b[0m\u001b[0;34m\u001b[0m\u001b[0;34m\u001b[0m\u001b[0m\n",
            "\u001b[0;32m/usr/local/lib/python3.6/dist-packages/pandas/core/frame.py\u001b[0m in \u001b[0;36m_set_item\u001b[0;34m(self, key, value)\u001b[0m\n\u001b[1;32m   2997\u001b[0m         \"\"\"\n\u001b[1;32m   2998\u001b[0m \u001b[0;34m\u001b[0m\u001b[0m\n\u001b[0;32m-> 2999\u001b[0;31m         \u001b[0mself\u001b[0m\u001b[0;34m.\u001b[0m\u001b[0m_ensure_valid_index\u001b[0m\u001b[0;34m(\u001b[0m\u001b[0mvalue\u001b[0m\u001b[0;34m)\u001b[0m\u001b[0;34m\u001b[0m\u001b[0;34m\u001b[0m\u001b[0m\n\u001b[0m\u001b[1;32m   3000\u001b[0m         \u001b[0mvalue\u001b[0m \u001b[0;34m=\u001b[0m \u001b[0mself\u001b[0m\u001b[0;34m.\u001b[0m\u001b[0m_sanitize_column\u001b[0m\u001b[0;34m(\u001b[0m\u001b[0mkey\u001b[0m\u001b[0;34m,\u001b[0m \u001b[0mvalue\u001b[0m\u001b[0;34m)\u001b[0m\u001b[0;34m\u001b[0m\u001b[0;34m\u001b[0m\u001b[0m\n\u001b[1;32m   3001\u001b[0m         \u001b[0mNDFrame\u001b[0m\u001b[0;34m.\u001b[0m\u001b[0m_set_item\u001b[0m\u001b[0;34m(\u001b[0m\u001b[0mself\u001b[0m\u001b[0;34m,\u001b[0m \u001b[0mkey\u001b[0m\u001b[0;34m,\u001b[0m \u001b[0mvalue\u001b[0m\u001b[0;34m)\u001b[0m\u001b[0;34m\u001b[0m\u001b[0;34m\u001b[0m\u001b[0m\n",
            "\u001b[0;32m/usr/local/lib/python3.6/dist-packages/pandas/core/frame.py\u001b[0m in \u001b[0;36m_ensure_valid_index\u001b[0;34m(self, value)\u001b[0m\n\u001b[1;32m   3052\u001b[0m         \u001b[0;32mif\u001b[0m \u001b[0;32mnot\u001b[0m \u001b[0mlen\u001b[0m\u001b[0;34m(\u001b[0m\u001b[0mself\u001b[0m\u001b[0;34m.\u001b[0m\u001b[0mindex\u001b[0m\u001b[0;34m)\u001b[0m \u001b[0;32mand\u001b[0m \u001b[0mis_list_like\u001b[0m\u001b[0;34m(\u001b[0m\u001b[0mvalue\u001b[0m\u001b[0;34m)\u001b[0m \u001b[0;32mand\u001b[0m \u001b[0mlen\u001b[0m\u001b[0;34m(\u001b[0m\u001b[0mvalue\u001b[0m\u001b[0;34m)\u001b[0m\u001b[0;34m:\u001b[0m\u001b[0;34m\u001b[0m\u001b[0;34m\u001b[0m\u001b[0m\n\u001b[1;32m   3053\u001b[0m             \u001b[0;32mtry\u001b[0m\u001b[0;34m:\u001b[0m\u001b[0;34m\u001b[0m\u001b[0;34m\u001b[0m\u001b[0m\n\u001b[0;32m-> 3054\u001b[0;31m                 \u001b[0mvalue\u001b[0m \u001b[0;34m=\u001b[0m \u001b[0mSeries\u001b[0m\u001b[0;34m(\u001b[0m\u001b[0mvalue\u001b[0m\u001b[0;34m)\u001b[0m\u001b[0;34m\u001b[0m\u001b[0;34m\u001b[0m\u001b[0m\n\u001b[0m\u001b[1;32m   3055\u001b[0m             \u001b[0;32mexcept\u001b[0m \u001b[0;34m(\u001b[0m\u001b[0mValueError\u001b[0m\u001b[0;34m,\u001b[0m \u001b[0mNotImplementedError\u001b[0m\u001b[0;34m,\u001b[0m \u001b[0mTypeError\u001b[0m\u001b[0;34m)\u001b[0m\u001b[0;34m:\u001b[0m\u001b[0;34m\u001b[0m\u001b[0;34m\u001b[0m\u001b[0m\n\u001b[1;32m   3056\u001b[0m                 raise ValueError(\n",
            "\u001b[0;32m/usr/local/lib/python3.6/dist-packages/pandas/core/series.py\u001b[0m in \u001b[0;36m__init__\u001b[0;34m(self, data, index, dtype, name, copy, fastpath)\u001b[0m\n\u001b[1;32m    303\u001b[0m                     \u001b[0mdata\u001b[0m \u001b[0;34m=\u001b[0m \u001b[0mdata\u001b[0m\u001b[0;34m.\u001b[0m\u001b[0mcopy\u001b[0m\u001b[0;34m(\u001b[0m\u001b[0;34m)\u001b[0m\u001b[0;34m\u001b[0m\u001b[0;34m\u001b[0m\u001b[0m\n\u001b[1;32m    304\u001b[0m             \u001b[0;32melse\u001b[0m\u001b[0;34m:\u001b[0m\u001b[0;34m\u001b[0m\u001b[0;34m\u001b[0m\u001b[0m\n\u001b[0;32m--> 305\u001b[0;31m                 \u001b[0mdata\u001b[0m \u001b[0;34m=\u001b[0m \u001b[0msanitize_array\u001b[0m\u001b[0;34m(\u001b[0m\u001b[0mdata\u001b[0m\u001b[0;34m,\u001b[0m \u001b[0mindex\u001b[0m\u001b[0;34m,\u001b[0m \u001b[0mdtype\u001b[0m\u001b[0;34m,\u001b[0m \u001b[0mcopy\u001b[0m\u001b[0;34m,\u001b[0m \u001b[0mraise_cast_failure\u001b[0m\u001b[0;34m=\u001b[0m\u001b[0;32mTrue\u001b[0m\u001b[0;34m)\u001b[0m\u001b[0;34m\u001b[0m\u001b[0;34m\u001b[0m\u001b[0m\n\u001b[0m\u001b[1;32m    306\u001b[0m \u001b[0;34m\u001b[0m\u001b[0m\n\u001b[1;32m    307\u001b[0m                 \u001b[0mdata\u001b[0m \u001b[0;34m=\u001b[0m \u001b[0mSingleBlockManager\u001b[0m\u001b[0;34m(\u001b[0m\u001b[0mdata\u001b[0m\u001b[0;34m,\u001b[0m \u001b[0mindex\u001b[0m\u001b[0;34m,\u001b[0m \u001b[0mfastpath\u001b[0m\u001b[0;34m=\u001b[0m\u001b[0;32mTrue\u001b[0m\u001b[0;34m)\u001b[0m\u001b[0;34m\u001b[0m\u001b[0;34m\u001b[0m\u001b[0m\n",
            "\u001b[0;32m/usr/local/lib/python3.6/dist-packages/pandas/core/construction.py\u001b[0m in \u001b[0;36msanitize_array\u001b[0;34m(data, index, dtype, copy, raise_cast_failure)\u001b[0m\n\u001b[1;32m    480\u001b[0m     \u001b[0;32melif\u001b[0m \u001b[0msubarr\u001b[0m\u001b[0;34m.\u001b[0m\u001b[0mndim\u001b[0m \u001b[0;34m>\u001b[0m \u001b[0;36m1\u001b[0m\u001b[0;34m:\u001b[0m\u001b[0;34m\u001b[0m\u001b[0;34m\u001b[0m\u001b[0m\n\u001b[1;32m    481\u001b[0m         \u001b[0;32mif\u001b[0m \u001b[0misinstance\u001b[0m\u001b[0;34m(\u001b[0m\u001b[0mdata\u001b[0m\u001b[0;34m,\u001b[0m \u001b[0mnp\u001b[0m\u001b[0;34m.\u001b[0m\u001b[0mndarray\u001b[0m\u001b[0;34m)\u001b[0m\u001b[0;34m:\u001b[0m\u001b[0;34m\u001b[0m\u001b[0;34m\u001b[0m\u001b[0m\n\u001b[0;32m--> 482\u001b[0;31m             \u001b[0;32mraise\u001b[0m \u001b[0mException\u001b[0m\u001b[0;34m(\u001b[0m\u001b[0;34m\"Data must be 1-dimensional\"\u001b[0m\u001b[0;34m)\u001b[0m\u001b[0;34m\u001b[0m\u001b[0;34m\u001b[0m\u001b[0m\n\u001b[0m\u001b[1;32m    483\u001b[0m         \u001b[0;32melse\u001b[0m\u001b[0;34m:\u001b[0m\u001b[0;34m\u001b[0m\u001b[0;34m\u001b[0m\u001b[0m\n\u001b[1;32m    484\u001b[0m             \u001b[0msubarr\u001b[0m \u001b[0;34m=\u001b[0m \u001b[0mcom\u001b[0m\u001b[0;34m.\u001b[0m\u001b[0masarray_tuplesafe\u001b[0m\u001b[0;34m(\u001b[0m\u001b[0mdata\u001b[0m\u001b[0;34m,\u001b[0m \u001b[0mdtype\u001b[0m\u001b[0;34m=\u001b[0m\u001b[0mdtype\u001b[0m\u001b[0;34m)\u001b[0m\u001b[0;34m\u001b[0m\u001b[0;34m\u001b[0m\u001b[0m\n",
            "\u001b[0;31mException\u001b[0m: Data must be 1-dimensional"
          ]
        }
      ]
    },
    {
      "cell_type": "markdown",
      "metadata": {
        "id": "Y6oM-MG2_dkc"
      },
      "source": [
        "The error above is because we are trying to put 3 values (one hot encoding of 0--> 1,0,0) for each colomn.\n",
        "\n",
        "### sklearn provides a ready make class for OHE on features:"
      ]
    },
    {
      "cell_type": "code",
      "metadata": {
        "id": "bCCmZYe3_dkc",
        "colab": {
          "base_uri": "https://localhost:8080/",
          "height": 370
        },
        "outputId": "747451b9-8887-42ab-86a5-909b8b31bcc3"
      },
      "source": [
        "import pandas as pd\n",
        "import numpy as np\n",
        "from sklearn import preprocessing\n",
        "\n",
        "X_raw = [[1, 2, 2, 6, 1], [2, 8, 2, 2, 1], [4, 10, 2, 6, 6]]\n",
        "print('Raw data are: ', X_raw)\n",
        "\n",
        "X = pd.DataFrame(X_raw)\n",
        "\n",
        "print('Before transform: \\n', X)\n",
        "\n",
        "from collections import defaultdict\n",
        "le_dict = defaultdict(LabelEncoder)\n",
        "\n",
        "# X.apply loops on colomns, so small x is the col\n",
        "X_ordinal = X.apply(lambda x: le_dict[x.name].fit_transform(x))\n",
        "\n",
        "print('After transform: \\n', X_ordinal)\n",
        "\n",
        "X_orig = X_ordinal.apply(lambda x: le_dict[x.name].inverse_transform(x))\n",
        "\n",
        "print('After inverse transform: \\n', X_orig)\n",
        "\n",
        "\n",
        "\n",
        "\n",
        "enc = preprocessing.OneHotEncoder()\n",
        "X_OHE_ = enc.fit_transform(X_ordinal)\n",
        "X_OHE = X_OHE_.toarray()\n",
        "print(X_OHE.shape)\n",
        "print('The one-hot-encoding: \\n', X_OHE)\n",
        "\n"
      ],
      "execution_count": null,
      "outputs": [
        {
          "output_type": "stream",
          "text": [
            "Raw data are:  [[1, 2, 2, 6, 1], [2, 8, 2, 2, 1], [4, 10, 2, 6, 6]]\n",
            "Before transform: \n",
            "    0   1  2  3  4\n",
            "0  1   2  2  6  1\n",
            "1  2   8  2  2  1\n",
            "2  4  10  2  6  6\n",
            "After transform: \n",
            "    0  1  2  3  4\n",
            "0  0  0  0  1  0\n",
            "1  1  1  0  0  0\n",
            "2  2  2  0  1  1\n",
            "After inverse transform: \n",
            "    0   1  2  3  4\n",
            "0  1   2  2  6  1\n",
            "1  2   8  2  2  1\n",
            "2  4  10  2  6  6\n",
            "(3, 11)\n",
            "The one-hot-encoding: \n",
            " [[1. 0. 0. 1. 0. 0. 1. 0. 1. 1. 0.]\n",
            " [0. 1. 0. 0. 1. 0. 1. 1. 0. 1. 0.]\n",
            " [0. 0. 1. 0. 0. 1. 1. 0. 1. 0. 1.]]\n"
          ],
          "name": "stdout"
        }
      ]
    },
    {
      "cell_type": "markdown",
      "metadata": {
        "id": "u67u7moJ_dkj"
      },
      "source": [
        "### You don't even need to use LabelEncoder first!"
      ]
    },
    {
      "cell_type": "code",
      "metadata": {
        "id": "vnto3DTz_dkk",
        "colab": {
          "base_uri": "https://localhost:8080/",
          "height": 118
        },
        "outputId": "ee3ad3c4-6038-4ec7-e998-e63015195b5a"
      },
      "source": [
        "import pandas as pd\n",
        "import numpy as np\n",
        "from sklearn import preprocessing\n",
        "\n",
        "X_raw = [[1, 2, 2, 6, 1], [2, 8, 2, 2, 1], [4, 10, 2, 6, 6]]\n",
        "print('Raw data are: ', X_raw)\n",
        "\n",
        "\n",
        "\n",
        "enc = preprocessing.OneHotEncoder()\n",
        "X_OHE_ = enc.fit_transform(X_raw)\n",
        "X_OHE = X_OHE_.toarray()\n",
        "print(X_OHE.shape)\n",
        "print('The one-hot-encoding: \\n', X_OHE)\n",
        "\n"
      ],
      "execution_count": null,
      "outputs": [
        {
          "output_type": "stream",
          "text": [
            "Raw data are:  [[1, 2, 2, 6, 1], [2, 8, 2, 2, 1], [4, 10, 2, 6, 6]]\n",
            "(3, 11)\n",
            "The one-hot-encoding: \n",
            " [[1. 0. 0. 1. 0. 0. 1. 0. 1. 1. 0.]\n",
            " [0. 1. 0. 0. 1. 0. 1. 1. 0. 1. 0.]\n",
            " [0. 0. 1. 0. 0. 1. 1. 0. 1. 0. 1.]]\n"
          ],
          "name": "stdout"
        }
      ]
    },
    {
      "cell_type": "markdown",
      "metadata": {
        "id": "eisSo6Tg_dko"
      },
      "source": [
        "Note the shape is still 3 rows, but 11 colomns, since we 3 values for first and second feature/colomn, and only 2 (1 and 6) for the 3rd one."
      ]
    },
    {
      "cell_type": "markdown",
      "metadata": {
        "id": "h6rg_C_Q_dko"
      },
      "source": [
        "The inverse is not possible:"
      ]
    },
    {
      "cell_type": "code",
      "metadata": {
        "id": "rRpOIJRW_dko"
      },
      "source": [
        "X_orig_ordinal = enc.inverse_transform(X_OHE)"
      ],
      "execution_count": null,
      "outputs": []
    },
    {
      "cell_type": "markdown",
      "metadata": {
        "id": "W9ZkXD7p_dkq"
      },
      "source": [
        "## One hot encoding on categorial (names) data"
      ]
    },
    {
      "cell_type": "code",
      "metadata": {
        "id": "OPeaM3kR_dkr",
        "colab": {
          "base_uri": "https://localhost:8080/",
          "height": 118
        },
        "outputId": "69046c32-7609-4b6f-dd1c-fe42040893cb"
      },
      "source": [
        "import pandas as pd\n",
        "import numpy as np\n",
        "from sklearn import preprocessing\n",
        "\n",
        "X_raw = [[\"A\", \"D\", \"G\", \"A\", \"K\"], [\"B\", \"E\", \"H\", \"C\", \"L\"], [\"C\", \"F\", \"J\", \"B\", \"M\"]]\n",
        "print('Raw data are: ', X_raw)\n",
        "\n",
        "\n",
        "\n",
        "enc = preprocessing.OneHotEncoder()\n",
        "X_OHE_ = enc.fit_transform(X_raw)\n",
        "X_OHE = X_OHE_.toarray()\n",
        "print(X_OHE.shape)\n",
        "print('The one-hot-encoding: \\n', X_OHE)\n",
        "\n"
      ],
      "execution_count": null,
      "outputs": [
        {
          "output_type": "stream",
          "text": [
            "Raw data are:  [['A', 'D', 'G', 'A', 'K'], ['B', 'E', 'H', 'C', 'L'], ['C', 'F', 'J', 'B', 'M']]\n",
            "(3, 15)\n",
            "The one-hot-encoding: \n",
            " [[1. 0. 0. 1. 0. 0. 1. 0. 0. 1. 0. 0. 1. 0. 0.]\n",
            " [0. 1. 0. 0. 1. 0. 0. 1. 0. 0. 0. 1. 0. 1. 0.]\n",
            " [0. 0. 1. 0. 0. 1. 0. 0. 1. 0. 1. 0. 0. 0. 1.]]\n"
          ],
          "name": "stdout"
        }
      ]
    },
    {
      "cell_type": "markdown",
      "metadata": {
        "id": "pe41RJWv_dkt"
      },
      "source": [
        "It doesn't work without LabelEnbcoder first"
      ]
    },
    {
      "cell_type": "code",
      "metadata": {
        "id": "Faa2KQFu_dkt",
        "colab": {
          "base_uri": "https://localhost:8080/",
          "height": 370
        },
        "outputId": "8306f494-ad91-43d6-c5c1-26eb29a6bb8d"
      },
      "source": [
        "import pandas as pd\n",
        "import numpy as np\n",
        "from sklearn import preprocessing\n",
        "\n",
        "X_raw = [[\"A\", \"D\", \"G\", \"A\", \"K\"], [\"B\", \"E\", \"H\", \"C\", \"L\"], [\"C\", \"F\", \"J\", \"B\", \"M\"]]\n",
        "print('Raw data are: ', X_raw)\n",
        "\n",
        "X = pd.DataFrame(X_raw)\n",
        "\n",
        "print('Before transform: \\n', X)\n",
        "\n",
        "from collections import defaultdict\n",
        "le_dict = defaultdict(LabelEncoder)\n",
        "\n",
        "# X.apply loops on colomns, so small x is the col\n",
        "X_ordinal = X.apply(lambda x: le_dict[x.name].fit_transform(x))\n",
        "\n",
        "print('After transform: \\n', X_ordinal)\n",
        "\n",
        "X_orig = X_ordinal.apply(lambda x: le_dict[x.name].inverse_transform(x))\n",
        "\n",
        "print('After inverse transform: \\n', X_orig)\n",
        "\n",
        "\n",
        "\n",
        "\n",
        "enc = preprocessing.OneHotEncoder()\n",
        "X_OHE = enc.fit_transform(X_ordinal).toarray()\n",
        "print(X_OHE.shape)\n",
        "print('The one-hot-encoding: \\n', X_OHE)\n",
        "\n"
      ],
      "execution_count": null,
      "outputs": [
        {
          "output_type": "stream",
          "text": [
            "Raw data are:  [['A', 'D', 'G', 'A', 'K'], ['B', 'E', 'H', 'C', 'L'], ['C', 'F', 'J', 'B', 'M']]\n",
            "Before transform: \n",
            "    0  1  2  3  4\n",
            "0  A  D  G  A  K\n",
            "1  B  E  H  C  L\n",
            "2  C  F  J  B  M\n",
            "After transform: \n",
            "    0  1  2  3  4\n",
            "0  0  0  0  0  0\n",
            "1  1  1  1  2  1\n",
            "2  2  2  2  1  2\n",
            "After inverse transform: \n",
            "    0  1  2  3  4\n",
            "0  A  D  G  A  K\n",
            "1  B  E  H  C  L\n",
            "2  C  F  J  B  M\n",
            "(3, 15)\n",
            "The one-hot-encoding: \n",
            " [[1. 0. 0. 1. 0. 0. 1. 0. 0. 1. 0. 0. 1. 0. 0.]\n",
            " [0. 1. 0. 0. 1. 0. 0. 1. 0. 0. 0. 1. 0. 1. 0.]\n",
            " [0. 0. 1. 0. 0. 1. 0. 0. 1. 0. 1. 0. 0. 0. 1.]]\n"
          ],
          "name": "stdout"
        }
      ]
    },
    {
      "cell_type": "markdown",
      "metadata": {
        "id": "YgvN89fL_dkv"
      },
      "source": [
        "### But we may use DictVictorizer"
      ]
    },
    {
      "cell_type": "code",
      "metadata": {
        "id": "oZkwRxZ9_dkv",
        "colab": {
          "base_uri": "https://localhost:8080/",
          "height": 154
        },
        "outputId": "c8ce404f-fc42-4e4b-f5b5-00a47621c2ef"
      },
      "source": [
        "\n",
        "import pandas as pd\n",
        "import numpy as np\n",
        "from sklearn import preprocessing\n",
        "\n",
        "X_raw = [[\"A\", \"D\", \"G\", \"A\", \"K\"], [\"B\", \"E\", \"H\", \"C\", \"L\"], [\"C\", \"F\", \"J\", \"B\", \"M\"]]\n",
        "print('Raw data are: ', X_raw)\n",
        "\n",
        "\n",
        "X = pd.DataFrame(X_raw).to_dict( orient = 'records' )\n",
        "\n",
        "from sklearn.feature_extraction import DictVectorizer\n",
        "enc = DictVectorizer()\n",
        "X_OHE = enc.fit_transform(X).toarray()\n",
        "print(X_OHE.shape)\n",
        "print('The one-hot-encoding: \\n', X_OHE)\n",
        "\n",
        "print(enc.inverse_transform(X_OHE))\n",
        "\n",
        "\n",
        "\n",
        "\n",
        "\n"
      ],
      "execution_count": null,
      "outputs": [
        {
          "output_type": "stream",
          "text": [
            "Raw data are:  [['A', 'D', 'G', 'A', 'K'], ['B', 'E', 'H', 'C', 'L'], ['C', 'F', 'J', 'B', 'M']]\n",
            "(3, 15)\n",
            "The one-hot-encoding: \n",
            " [[1. 0. 0. 1. 0. 0. 1. 0. 0. 1. 0. 0. 1. 0. 0.]\n",
            " [0. 1. 0. 0. 1. 0. 0. 1. 0. 0. 0. 1. 0. 1. 0.]\n",
            " [0. 0. 1. 0. 0. 1. 0. 0. 1. 0. 1. 0. 0. 0. 1.]]\n",
            "[{'0=A': 1.0, '1=D': 1.0, '2=G': 1.0, '3=A': 1.0, '4=K': 1.0}, {'0=B': 1.0, '1=E': 1.0, '2=H': 1.0, '3=C': 1.0, '4=L': 1.0}, {'0=C': 1.0, '1=F': 1.0, '2=J': 1.0, '3=B': 1.0, '4=M': 1.0}]\n"
          ],
          "name": "stdout"
        }
      ]
    },
    {
      "cell_type": "markdown",
      "metadata": {
        "id": "gPxc3ZD9_dk0"
      },
      "source": [
        "Why it generates OHE directly?\n",
        "\n",
        "http://scikit-learn.org/stable/modules/generated/sklearn.feature_extraction.DictVectorizer.html#sklearn.feature_extraction.DictVectorizer\n",
        "    \n",
        "However, note that this transformer will only do a binary one-hot encoding when feature values are of type string."
      ]
    },
    {
      "cell_type": "markdown",
      "metadata": {
        "id": "YG1levGZ_dk0"
      },
      "source": [
        "If categorical features are represented as numeric values such as int, the DictVectorizer can be followed by OneHotEncoder to complete binary one-hot encoding."
      ]
    },
    {
      "cell_type": "code",
      "metadata": {
        "id": "ObCcTkna_dk3",
        "colab": {
          "base_uri": "https://localhost:8080/",
          "height": 101
        },
        "outputId": "3c1b070d-6ebe-4428-8923-5f7b2648742c"
      },
      "source": [
        "from sklearn.feature_extraction import DictVectorizer\n",
        "v = DictVectorizer(sparse=False)\n",
        "D = [{'foo': 1, 'bar': 2}, {'foo': 3, 'baz': 1}]\n",
        "X = v.fit_transform(D)\n",
        "print(X)\n",
        "\n",
        "\n",
        "enc = preprocessing.OneHotEncoder()\n",
        "X_OHE = enc.fit_transform(X).toarray()\n",
        "print('The one-hot-encoding: \\n', X_OHE)"
      ],
      "execution_count": null,
      "outputs": [
        {
          "output_type": "stream",
          "text": [
            "[[2. 0. 1.]\n",
            " [0. 1. 3.]]\n",
            "The one-hot-encoding: \n",
            " [[0. 1. 1. 0. 1. 0.]\n",
            " [1. 0. 0. 1. 0. 1.]]\n"
          ],
          "name": "stdout"
        }
      ]
    },
    {
      "cell_type": "markdown",
      "metadata": {
        "id": "w2fA_jmG_dk7"
      },
      "source": [
        "## Embedding categorial data\n",
        "The word embedding means to transform/embed an input representation into another space representation.\n",
        "\n",
        "In case of categorial variables, you can think of it as indexing a lookup table with the nominal values of the features, each indexed entry is a vector representing the embedding of this nominal integer in the new space.\n",
        "\n",
        "The table size shall be: [max_feature_nominal_value, embedding_vector_size]."
      ]
    },
    {
      "cell_type": "code",
      "metadata": {
        "id": "ZxmAfZLj_dk8",
        "colab": {
          "base_uri": "https://localhost:8080/",
          "height": 185
        },
        "outputId": "f8499760-232b-4201-9008-9698a79e8726"
      },
      "source": [
        "import pandas as pd\n",
        "import numpy as np\n",
        "from sklearn import preprocessing\n",
        "\n",
        "X_raw = [[\"A\", \"D\", \"G\", \"A\", \"K\"], [\"B\", \"E\", \"H\", \"C\", \"L\"], [\"C\", \"F\", \"J\", \"B\", \"M\"]]\n",
        "print('Raw data are: ', X_raw)\n",
        "\n",
        "X = pd.DataFrame(X_raw)\n",
        "\n",
        "print('Before transform: \\n', X)\n",
        "\n",
        "from collections import defaultdict\n",
        "le_dict = defaultdict(preprocessing.LabelEncoder)\n",
        "\n",
        "# X.apply loops on colomns, so small x is the col\n",
        "X_ordinal = X.apply(lambda x: le_dict[x.name].fit_transform(x))\n",
        "X = np.array(X_ordinal)\n",
        "print(X)\n",
        "print(X[:,4])"
      ],
      "execution_count": null,
      "outputs": [
        {
          "output_type": "stream",
          "text": [
            "Raw data are:  [['A', 'D', 'G', 'A', 'K'], ['B', 'E', 'H', 'C', 'L'], ['C', 'F', 'J', 'B', 'M']]\n",
            "Before transform: \n",
            "    0  1  2  3  4\n",
            "0  A  D  G  A  K\n",
            "1  B  E  H  C  L\n",
            "2  C  F  J  B  M\n",
            "[[0 0 0 0 0]\n",
            " [1 1 1 2 1]\n",
            " [2 2 2 1 2]]\n",
            "[0 1 2]\n"
          ],
          "name": "stdout"
        }
      ]
    },
    {
      "cell_type": "markdown",
      "metadata": {
        "id": "zHkgfAlc_dlA"
      },
      "source": [
        "### Keras model with Embedding\n",
        "Embedding is a ML concept. The LUT as described above can be though of as a weight matrix  [max_feature_nominal_value, embedding_vector_size], where the weights are learnable. They are initialized as randoms, and learnt as optimizer progresses.\n",
        "\n",
        "In Keras this can be achieved easily with Embedding layer:\n"
      ]
    },
    {
      "cell_type": "code",
      "metadata": {
        "id": "SqvHt_O9_dlA",
        "colab": {
          "base_uri": "https://localhost:8080/",
          "height": 403
        },
        "outputId": "6f6379fa-2804-44ad-dba7-10b87844f576"
      },
      "source": [
        "from keras.layers import Input, Dropout, Dense, BatchNormalization, Activation, GRU, Embedding, concatenate, Flatten, Lambda\n",
        "from keras.models import Model\n",
        "#params\n",
        "dr_r = 0.1\n",
        "\n",
        "#Inputs\n",
        "input_l = Input(shape=[1])\n",
        "\n",
        "print(input_l.shape)\n",
        "\n",
        "\n",
        "#Embeddings layers\n",
        "max_feature_nominal_value = 3\n",
        "embedding_vector_size = 50\n",
        "emb_category = Embedding(max_feature_nominal_value, embedding_vector_size, input_length=1)(input_l)\n",
        "print(emb_category.shape)\n",
        "# Embedding layer generates [batch_size, seq_lenght=input_length=1 in pur case, embedding_size=50 in out case]\n",
        "# So we have (?,1,50)--> generating output ?,1,1 not ?,1 for regression task. S owe need to flatten the ?,1,50 of embedding layer usiing Flatten layer\n",
        "\n",
        "main_l = Dropout(dr_r) (Dense(128) (Flatten()(emb_category)))\n",
        "\n",
        "\n",
        "#output\n",
        "output = Dense(1, activation=\"linear\") (main_l)\n",
        "\n",
        "#model\n",
        "model = Model(input_l, output)\n",
        "model.compile(loss=\"mse\", optimizer=\"adam\")\n",
        "model.summary()\n"
      ],
      "execution_count": null,
      "outputs": [
        {
          "output_type": "stream",
          "text": [
            "Using TensorFlow backend.\n"
          ],
          "name": "stderr"
        },
        {
          "output_type": "stream",
          "text": [
            "(None, 1)\n",
            "(None, 1, 50)\n",
            "Model: \"model_1\"\n",
            "_________________________________________________________________\n",
            "Layer (type)                 Output Shape              Param #   \n",
            "=================================================================\n",
            "input_1 (InputLayer)         (None, 1)                 0         \n",
            "_________________________________________________________________\n",
            "embedding_1 (Embedding)      (None, 1, 50)             150       \n",
            "_________________________________________________________________\n",
            "flatten_1 (Flatten)          (None, 50)                0         \n",
            "_________________________________________________________________\n",
            "dense_1 (Dense)              (None, 128)               6528      \n",
            "_________________________________________________________________\n",
            "dropout_1 (Dropout)          (None, 128)               0         \n",
            "_________________________________________________________________\n",
            "dense_2 (Dense)              (None, 1)                 129       \n",
            "=================================================================\n",
            "Total params: 6,807\n",
            "Trainable params: 6,807\n",
            "Non-trainable params: 0\n",
            "_________________________________________________________________\n"
          ],
          "name": "stdout"
        }
      ]
    },
    {
      "cell_type": "code",
      "metadata": {
        "id": "NWB73a8p_dlC",
        "colab": {
          "base_uri": "https://localhost:8080/",
          "height": 289
        },
        "outputId": "b1309f42-691f-468c-e919-0d0081ebb393"
      },
      "source": [
        "import numpy as np\n",
        "y = np.random.randn(len(X),)\n",
        "print(y.shape)\n",
        "X_ = X[:,0]\n",
        "print(X_.shape)# Note that, here we have 3, --> so 2dims, it's ok for Input([1]), but the 3 will be considered the num_batches\n",
        "#FITTING THE MODEL\n",
        "BATCH_SIZE = 1\n",
        "epochs = 5\n",
        "\n",
        "model.fit(X[:,0], y, epochs=epochs, batch_size=BATCH_SIZE, verbose=1)"
      ],
      "execution_count": null,
      "outputs": [
        {
          "output_type": "stream",
          "text": [
            "(3,)\n",
            "(3,)\n"
          ],
          "name": "stdout"
        },
        {
          "output_type": "stream",
          "text": [
            "/usr/local/lib/python3.6/dist-packages/tensorflow/python/framework/indexed_slices.py:434: UserWarning: Converting sparse IndexedSlices to a dense Tensor of unknown shape. This may consume a large amount of memory.\n",
            "  \"Converting sparse IndexedSlices to a dense Tensor of unknown shape. \"\n"
          ],
          "name": "stderr"
        },
        {
          "output_type": "stream",
          "text": [
            "Epoch 1/5\n",
            "3/3 [==============================] - 0s 109ms/step - loss: 0.9864\n",
            "Epoch 2/5\n",
            "3/3 [==============================] - 0s 3ms/step - loss: 0.9324\n",
            "Epoch 3/5\n",
            "3/3 [==============================] - 0s 3ms/step - loss: 0.8834\n",
            "Epoch 4/5\n",
            "3/3 [==============================] - 0s 2ms/step - loss: 0.8247\n",
            "Epoch 5/5\n",
            "3/3 [==============================] - 0s 4ms/step - loss: 0.7450\n"
          ],
          "name": "stdout"
        },
        {
          "output_type": "execute_result",
          "data": {
            "text/plain": [
              "<keras.callbacks.callbacks.History at 0x7fd195ac7d68>"
            ]
          },
          "metadata": {
            "tags": []
          },
          "execution_count": 47
        }
      ]
    },
    {
      "cell_type": "markdown",
      "metadata": {
        "id": "YQ3MxWxU_dlG"
      },
      "source": [
        "#### Note: we have 5 categorial features above, not one (each col is a feature, of max nominal value = 2, so 3 values (0,1,2))"
      ]
    },
    {
      "cell_type": "code",
      "metadata": {
        "id": "Zp1kq999_dlH",
        "colab": {
          "base_uri": "https://localhost:8080/",
          "height": 1000
        },
        "outputId": "7d2aaf51-191a-46d0-9a7d-3c48aba88b0d"
      },
      "source": [
        "from keras.layers import Input, Dropout, Dense, BatchNormalization, Activation, GRU, Embedding, concatenate, Flatten, Lambda\n",
        "from keras.models import Model\n",
        "import tensorflow as tf\n",
        "#params\n",
        "dr_r = 0.1\n",
        "\n",
        "#Inputs\n",
        "input_l = Input(shape=[5,1])\n",
        "print(input_l._keras_history)\n",
        "print(input_l.shape)\n",
        "\n",
        "#category0 = Input(shape=[1])\n",
        "#category0 = input_l[:,0]# --> This is invalid since category0 is not an output of keras layer anymore, so it doesnt have any of the keras layer attribs like _leras_history\n",
        "#print(category0.shape) #--> (?,) while it should be (?,1) so that Embedding layer can be indexed\n",
        "#category0 = tf.contrib.keras.backend.expand_dims(input_l[:,0])\n",
        "category0 = Lambda(lambda x: x[:,0])(input_l)\n",
        "print(category0._keras_history)\n",
        "print(category0.shape)\n",
        "category1 = Lambda(lambda x: x[:,1])(input_l)\n",
        "print(category1.shape)\n",
        "category2 = Lambda(lambda x: x[:,2])(input_l)\n",
        "category3 = Lambda(lambda x: x[:,3])(input_l)\n",
        "category4 = Lambda(lambda x: x[:,4])(input_l)\n",
        "\n",
        "#Embeddings layers\n",
        "max_feature_nominal_value = 3\n",
        "embedding_vector_size = 50\n",
        "emb_category0 = Embedding(max_feature_nominal_value, embedding_vector_size)(category0)\n",
        "print(emb_category0.shape)\n",
        "emb_category1 = Embedding(max_feature_nominal_value, embedding_vector_size)(category1)\n",
        "emb_category2 = Embedding(max_feature_nominal_value, embedding_vector_size)(category2)\n",
        "emb_category3 = Embedding(max_feature_nominal_value, embedding_vector_size)(category3)\n",
        "emb_category4 = Embedding(max_feature_nominal_value, embedding_vector_size)(category4)\n",
        "\n",
        "#main layer\n",
        "main_l = concatenate([\n",
        "   Flatten()(emb_category0) # Without flatten we add extra 1,50 dim due to input 5,1\n",
        "    , Flatten()(emb_category1)\n",
        "    , Flatten()(emb_category2)\n",
        "    , Flatten()(emb_category3)\n",
        "    , Flatten()(emb_category4)\n",
        "])\n",
        "print(main_l.shape)\n",
        "\n",
        "main_l = Dropout(dr_r) (Dense(128) (main_l))\n",
        "\n",
        "\n",
        "#output\n",
        "output = Dense(1, activation=\"linear\") (main_l)\n",
        "\n",
        "#model\n",
        "model = Model(input_l, output)\n",
        "model.compile(loss=\"mse\", optimizer=\"adam\")\n",
        "model.summary()\n"
      ],
      "execution_count": null,
      "outputs": [
        {
          "output_type": "stream",
          "text": [
            "(<keras.engine.input_layer.InputLayer object at 0x7fd1959ea4e0>, 0, 0)\n",
            "(None, 5, 1)\n",
            "(<keras.layers.core.Lambda object at 0x7fd1959ea518>, 0, 0)\n",
            "(None, 1)\n",
            "(None, 1)\n",
            "(None, 1, 50)\n",
            "(None, None)\n",
            "Model: \"model_2\"\n",
            "__________________________________________________________________________________________________\n",
            "Layer (type)                    Output Shape         Param #     Connected to                     \n",
            "==================================================================================================\n",
            "input_2 (InputLayer)            (None, 5, 1)         0                                            \n",
            "__________________________________________________________________________________________________\n",
            "lambda_1 (Lambda)               (None, 1)            0           input_2[0][0]                    \n",
            "__________________________________________________________________________________________________\n",
            "lambda_2 (Lambda)               (None, 1)            0           input_2[0][0]                    \n",
            "__________________________________________________________________________________________________\n",
            "lambda_3 (Lambda)               (None, 1)            0           input_2[0][0]                    \n",
            "__________________________________________________________________________________________________\n",
            "lambda_4 (Lambda)               (None, 1)            0           input_2[0][0]                    \n",
            "__________________________________________________________________________________________________\n",
            "lambda_5 (Lambda)               (None, 1)            0           input_2[0][0]                    \n",
            "__________________________________________________________________________________________________\n",
            "embedding_2 (Embedding)         (None, 1, 50)        150         lambda_1[0][0]                   \n",
            "__________________________________________________________________________________________________\n",
            "embedding_3 (Embedding)         (None, 1, 50)        150         lambda_2[0][0]                   \n",
            "__________________________________________________________________________________________________\n",
            "embedding_4 (Embedding)         (None, 1, 50)        150         lambda_3[0][0]                   \n",
            "__________________________________________________________________________________________________\n",
            "embedding_5 (Embedding)         (None, 1, 50)        150         lambda_4[0][0]                   \n",
            "__________________________________________________________________________________________________\n",
            "embedding_6 (Embedding)         (None, 1, 50)        150         lambda_5[0][0]                   \n",
            "__________________________________________________________________________________________________\n",
            "flatten_2 (Flatten)             (None, 50)           0           embedding_2[0][0]                \n",
            "__________________________________________________________________________________________________\n",
            "flatten_3 (Flatten)             (None, 50)           0           embedding_3[0][0]                \n",
            "__________________________________________________________________________________________________\n",
            "flatten_4 (Flatten)             (None, 50)           0           embedding_4[0][0]                \n",
            "__________________________________________________________________________________________________\n",
            "flatten_5 (Flatten)             (None, 50)           0           embedding_5[0][0]                \n",
            "__________________________________________________________________________________________________\n",
            "flatten_6 (Flatten)             (None, 50)           0           embedding_6[0][0]                \n",
            "__________________________________________________________________________________________________\n",
            "concatenate_1 (Concatenate)     (None, 250)          0           flatten_2[0][0]                  \n",
            "                                                                 flatten_3[0][0]                  \n",
            "                                                                 flatten_4[0][0]                  \n",
            "                                                                 flatten_5[0][0]                  \n",
            "                                                                 flatten_6[0][0]                  \n",
            "__________________________________________________________________________________________________\n",
            "dense_3 (Dense)                 (None, 128)          32128       concatenate_1[0][0]              \n",
            "__________________________________________________________________________________________________\n",
            "dropout_2 (Dropout)             (None, 128)          0           dense_3[0][0]                    \n",
            "__________________________________________________________________________________________________\n",
            "dense_4 (Dense)                 (None, 1)            129         dropout_2[0][0]                  \n",
            "==================================================================================================\n",
            "Total params: 33,007\n",
            "Trainable params: 33,007\n",
            "Non-trainable params: 0\n",
            "__________________________________________________________________________________________________\n"
          ],
          "name": "stdout"
        }
      ]
    },
    {
      "cell_type": "markdown",
      "metadata": {
        "id": "fZwJU9cW_dlI"
      },
      "source": [
        "## Now, let's generalize for any number of categorial variables"
      ]
    },
    {
      "cell_type": "code",
      "metadata": {
        "id": "haDVxI_R_dlI",
        "colab": {
          "base_uri": "https://localhost:8080/",
          "height": 1000
        },
        "outputId": "5b823e97-3edc-4c90-fdc3-e2a0d71f2134"
      },
      "source": [
        "from keras.layers import Input, Dropout, Dense, BatchNormalization, Activation, GRU, Embedding, concatenate, Flatten, Lambda\n",
        "from keras.models import Model\n",
        "import tensorflow as tf\n",
        "#params\n",
        "dr_r = 0.1\n",
        "\n",
        "#cat_vars = [{\"name\": \"a1\", \"max_feature_nominal_value\":3, \"emb_size\":50}, {\"name\": \"a2\", \"max_feature_nominal_value\":3, \"emb_size\":50}, {\"name\": \"a3\", \"max_feature_nominal_value\":3, \"emb_size\":50}, {\"name\": \"a4\", \"max_feature_nominal_value\":3, \"emb_size\":50}, {\"name\": \"a5\", \"max_feature_nominal_value\":3, \"emb_size\":50}]\n",
        "cat_vars = [(3,50), (3,50), (3,50), (3,50), (3,50)]\n",
        "#Inputs\n",
        "input_l = Input(shape=[len(cat_vars),1])\n",
        "print(input_l._keras_history)\n",
        "print(input_l.shape)\n",
        "\n",
        "category = []\n",
        "for i in range(len(cat_vars)):\n",
        "    category.append(Lambda(lambda x: x[:,i])(input_l))\n",
        "\n",
        "#Embeddings layers\n",
        "emb_category = []\n",
        "for i in range(len(cat_vars)):\n",
        "    emb_category.append(Embedding(cat_vars[i][0], cat_vars[i][1])(category[i]))\n",
        "\n",
        "\n",
        "#main layer\n",
        "main_l = Flatten()(emb_category[0])\n",
        "for i in range(len(cat_vars)-1):\n",
        "    main_l = concatenate([main_l, Flatten()(emb_category[i+1])])\n",
        "print(main_l.shape)\n",
        "\n",
        "main_l = Dropout(dr_r) (Dense(128) (main_l))\n",
        "\n",
        "\n",
        "#output\n",
        "output = Dense(1, activation=\"linear\") (main_l)\n",
        "\n",
        "#model\n",
        "model = Model(input_l, output)\n",
        "model.compile(loss=\"mse\", optimizer=\"adam\")\n",
        "model.summary()\n"
      ],
      "execution_count": null,
      "outputs": [
        {
          "output_type": "stream",
          "text": [
            "(<keras.engine.input_layer.InputLayer object at 0x7fd194c3e668>, 0, 0)\n",
            "(None, 5, 1)\n",
            "(None, None)\n",
            "Model: \"model_3\"\n",
            "__________________________________________________________________________________________________\n",
            "Layer (type)                    Output Shape         Param #     Connected to                     \n",
            "==================================================================================================\n",
            "input_3 (InputLayer)            (None, 5, 1)         0                                            \n",
            "__________________________________________________________________________________________________\n",
            "lambda_6 (Lambda)               (None, 1)            0           input_3[0][0]                    \n",
            "__________________________________________________________________________________________________\n",
            "lambda_7 (Lambda)               (None, 1)            0           input_3[0][0]                    \n",
            "__________________________________________________________________________________________________\n",
            "embedding_7 (Embedding)         (None, 1, 50)        150         lambda_6[0][0]                   \n",
            "__________________________________________________________________________________________________\n",
            "embedding_8 (Embedding)         (None, 1, 50)        150         lambda_7[0][0]                   \n",
            "__________________________________________________________________________________________________\n",
            "lambda_8 (Lambda)               (None, 1)            0           input_3[0][0]                    \n",
            "__________________________________________________________________________________________________\n",
            "flatten_7 (Flatten)             (None, 50)           0           embedding_7[0][0]                \n",
            "__________________________________________________________________________________________________\n",
            "flatten_8 (Flatten)             (None, 50)           0           embedding_8[0][0]                \n",
            "__________________________________________________________________________________________________\n",
            "embedding_9 (Embedding)         (None, 1, 50)        150         lambda_8[0][0]                   \n",
            "__________________________________________________________________________________________________\n",
            "lambda_9 (Lambda)               (None, 1)            0           input_3[0][0]                    \n",
            "__________________________________________________________________________________________________\n",
            "concatenate_2 (Concatenate)     (None, 100)          0           flatten_7[0][0]                  \n",
            "                                                                 flatten_8[0][0]                  \n",
            "__________________________________________________________________________________________________\n",
            "flatten_9 (Flatten)             (None, 50)           0           embedding_9[0][0]                \n",
            "__________________________________________________________________________________________________\n",
            "embedding_10 (Embedding)        (None, 1, 50)        150         lambda_9[0][0]                   \n",
            "__________________________________________________________________________________________________\n",
            "lambda_10 (Lambda)              (None, 1)            0           input_3[0][0]                    \n",
            "__________________________________________________________________________________________________\n",
            "concatenate_3 (Concatenate)     (None, 150)          0           concatenate_2[0][0]              \n",
            "                                                                 flatten_9[0][0]                  \n",
            "__________________________________________________________________________________________________\n",
            "flatten_10 (Flatten)            (None, 50)           0           embedding_10[0][0]               \n",
            "__________________________________________________________________________________________________\n",
            "embedding_11 (Embedding)        (None, 1, 50)        150         lambda_10[0][0]                  \n",
            "__________________________________________________________________________________________________\n",
            "concatenate_4 (Concatenate)     (None, 200)          0           concatenate_3[0][0]              \n",
            "                                                                 flatten_10[0][0]                 \n",
            "__________________________________________________________________________________________________\n",
            "flatten_11 (Flatten)            (None, 50)           0           embedding_11[0][0]               \n",
            "__________________________________________________________________________________________________\n",
            "concatenate_5 (Concatenate)     (None, 250)          0           concatenate_4[0][0]              \n",
            "                                                                 flatten_11[0][0]                 \n",
            "__________________________________________________________________________________________________\n",
            "dense_5 (Dense)                 (None, 128)          32128       concatenate_5[0][0]              \n",
            "__________________________________________________________________________________________________\n",
            "dropout_3 (Dropout)             (None, 128)          0           dense_5[0][0]                    \n",
            "__________________________________________________________________________________________________\n",
            "dense_6 (Dense)                 (None, 1)            129         dropout_3[0][0]                  \n",
            "==================================================================================================\n",
            "Total params: 33,007\n",
            "Trainable params: 33,007\n",
            "Non-trainable params: 0\n",
            "__________________________________________________________________________________________________\n"
          ],
          "name": "stdout"
        }
      ]
    },
    {
      "cell_type": "code",
      "metadata": {
        "id": "Ng5pD8pk_dlK",
        "colab": {
          "base_uri": "https://localhost:8080/",
          "height": 306
        },
        "outputId": "b11a02e2-63e0-41f1-e7fb-0d0724647ed1"
      },
      "source": [
        "import numpy as np\n",
        "y = np.random.randn(len(X),)\n",
        "print(y.shape)\n",
        "print(X.shape) # (3,5) missing (3,5,1) since Input is (5,1) measn ?,5,1 when we add batch size\n",
        "#X = np.reshape(X, [X.shape[0], X.shape[1], 1])\n",
        "X = np.expand_dims(X,axis=-1)\n",
        "print(X.shape)\n",
        "#FITTING THE MODEL\n",
        "BATCH_SIZE = 1\n",
        "epochs = 5\n",
        "\n",
        "model.fit(X, y, epochs=epochs, batch_size=BATCH_SIZE, verbose=1)"
      ],
      "execution_count": null,
      "outputs": [
        {
          "output_type": "stream",
          "text": [
            "(3,)\n",
            "(3, 5)\n",
            "(3, 5, 1)\n"
          ],
          "name": "stdout"
        },
        {
          "output_type": "stream",
          "text": [
            "/usr/local/lib/python3.6/dist-packages/tensorflow/python/framework/indexed_slices.py:434: UserWarning: Converting sparse IndexedSlices to a dense Tensor of unknown shape. This may consume a large amount of memory.\n",
            "  \"Converting sparse IndexedSlices to a dense Tensor of unknown shape. \"\n"
          ],
          "name": "stderr"
        },
        {
          "output_type": "stream",
          "text": [
            "Epoch 1/5\n",
            "3/3 [==============================] - 0s 56ms/step - loss: 1.5336\n",
            "Epoch 2/5\n",
            "3/3 [==============================] - 0s 2ms/step - loss: 1.1500\n",
            "Epoch 3/5\n",
            "3/3 [==============================] - 0s 3ms/step - loss: 0.9394\n",
            "Epoch 4/5\n",
            "3/3 [==============================] - 0s 3ms/step - loss: 0.6152\n",
            "Epoch 5/5\n",
            "3/3 [==============================] - 0s 3ms/step - loss: 0.4486\n"
          ],
          "name": "stdout"
        },
        {
          "output_type": "execute_result",
          "data": {
            "text/plain": [
              "<keras.callbacks.callbacks.History at 0x7fd194c134a8>"
            ]
          },
          "metadata": {
            "tags": []
          },
          "execution_count": 50
        }
      ]
    },
    {
      "cell_type": "code",
      "metadata": {
        "id": "EaAtEKWP_dlM"
      },
      "source": [],
      "execution_count": null,
      "outputs": []
    },
    {
      "cell_type": "markdown",
      "metadata": {
        "id": "M8HMDJqJ_dlO"
      },
      "source": [
        "# Estimator object"
      ]
    },
    {
      "cell_type": "markdown",
      "metadata": {
        "id": "ZHMPBHEW_dlO"
      },
      "source": [
        "### Fitting data: the main API implemented by scikit-learn is that of the estimator.\n",
        "\n",
        "An estimator is any object that learns from data; it may be a classification, regression or clustering algorithm or a transformer that extracts/filters useful features from raw data.\n",
        "\n",
        "All estimator objects expose a fit method that takes a dataset (usually a 2-d array) (n_samples, n_features):"
      ]
    },
    {
      "cell_type": "markdown",
      "metadata": {
        "id": "zE1NY81q_dlP"
      },
      "source": [
        "### Estimator parameters:\n",
        "All the parameters of an estimator can be set when it is instantiated or by modifying the corresponding attribute:"
      ]
    },
    {
      "cell_type": "markdown",
      "metadata": {
        "id": "MaJrtrKq_dlP"
      },
      "source": [
        "# Model Selection"
      ]
    },
    {
      "cell_type": "markdown",
      "metadata": {
        "id": "KDkAXf0E_dlP"
      },
      "source": [
        "## How to evaluate a model?"
      ]
    },
    {
      "cell_type": "markdown",
      "metadata": {
        "id": "b2I2-SPC_dlP"
      },
      "source": [
        " Every estimator exposes a score method that can judge the quality of the fit (or the prediction) on new data.\n",
        "\n",
        " Each estimator provides a special score function.\n",
        "\n",
        " For example, SVC (http://scikit-learn.org/stable/modules/generated/sklearn.svm.SVC.html):\n",
        "\n",
        " score(X, y[, sample_weight])\tReturns the mean accuracy on the given test data and labels.\n",
        "\n",
        " The score method is normally the accuracy of prediction."
      ]
    },
    {
      "cell_type": "code",
      "metadata": {
        "id": "0dkpKTy1_dlQ",
        "colab": {
          "base_uri": "https://localhost:8080/",
          "height": 34
        },
        "outputId": "eca32336-bcc7-4572-dc40-280a6fedbdb6"
      },
      "source": [
        "from sklearn import datasets, svm\n",
        "digits = datasets.load_digits()\n",
        "X_digits = digits.data\n",
        "y_digits = digits.target\n",
        "svc = svm.SVC(C=1, kernel='linear')\n",
        "svc.fit(X_digits[:-100], y_digits[:-100])\n",
        "svc.score(X_digits[-100:], y_digits[-100:])"
      ],
      "execution_count": null,
      "outputs": [
        {
          "output_type": "execute_result",
          "data": {
            "text/plain": [
              "0.98"
            ]
          },
          "metadata": {
            "tags": []
          },
          "execution_count": 51
        }
      ]
    },
    {
      "cell_type": "markdown",
      "metadata": {
        "id": "A42hkwxo_dlR"
      },
      "source": [
        "Accuracy might not be the best measure (for unbalanced classes data). A dataset of 1000 examples of class A and 10 examples of class B will have 99% accuacy by only predicting any given example as coming from class A:\n",
        "    \n",
        "    Accuracy = 1000/(1000 + 10) = 0.99\n",
        "    \n",
        "In this case you might want to score different metrics like precision, recall of F1 score.\n",
        "\n",
        "You can find many different metrics functions under sklearn.metrics: http://scikit-learn.org/stable/modules/model_evaluation.html"
      ]
    },
    {
      "cell_type": "code",
      "metadata": {
        "id": "kdpyHsUk_dlS",
        "colab": {
          "base_uri": "https://localhost:8080/",
          "height": 34
        },
        "outputId": "be1125eb-a9fb-4a4a-efe1-d98eb633d22f"
      },
      "source": [
        "from sklearn.metrics import precision_recall_fscore_support\n",
        "y_true = y_digits[-100:]\n",
        "y_pred = svc.predict(X_digits[-100:])\n",
        "precision_recall_fscore_support(y_true, y_pred, average='macro')"
      ],
      "execution_count": null,
      "outputs": [
        {
          "output_type": "execute_result",
          "data": {
            "text/plain": [
              "(0.9818181818181818, 0.9800000000000001, 0.9793650793650794, None)"
            ]
          },
          "metadata": {
            "tags": []
          },
          "execution_count": 52
        }
      ]
    },
    {
      "cell_type": "markdown",
      "metadata": {
        "id": "z4_iW5Be_dlT"
      },
      "source": [
        "Note precision, recall and F1 are defined for binary classes. In case of multi-classes you have to take an average. Different settings of averages exist: http://scikit-learn.org/stable/modules/generated/sklearn.metrics.precision_recall_fscore_support.html:\n",
        "\n",
        "\n",
        "average : string, [None (default), ‘binary’, ‘micro’, ‘macro’, ‘samples’, ‘weighted’]\n",
        "\n",
        "If None, the scores for each class are returned. Otherwise, this determines the type of averaging performed on the data:\n",
        "\n",
        "'binary':\n",
        "\n",
        "Only report results for the class specified by pos_label. This is applicable only if targets (y_{true,pred}) are binary.\n",
        "\n",
        "'micro':\n",
        "\n",
        "Calculate metrics globally by counting the total true positives, false negatives and false positives.\n",
        "\n",
        "'macro':\n",
        "\n",
        "Calculate metrics for each label, and find their unweighted mean. This does not take label imbalance into account.\n",
        "\n",
        "'weighted':\n",
        "\n",
        "Calculate metrics for each label, and find their average, weighted by support (the number of true instances for each label). This alters ‘macro’ to account for label imbalance; it can result in an F-score that is not between precision and recall.\n",
        "\n",
        "'samples':\n",
        "\n",
        "Calculate metrics for each instance, and find their average (only meaningful for multilabel classification where this differs from accuracy_score)."
      ]
    },
    {
      "cell_type": "markdown",
      "metadata": {
        "id": "F7aRqOYv_dlT"
      },
      "source": [
        "## Cross validation"
      ]
    },
    {
      "cell_type": "markdown",
      "metadata": {
        "id": "xMJ5CDDb_dlW"
      },
      "source": [
        "The score function works on test set. Sometimes the total data you have is small; so holding aside a test set will reduce the training data, and the test size will not be statistically significant.\n",
        "\n",
        "In this case, it is recommended to split the dataset into different cuts (K folds), each cut will split the data in say K-1 folds train and 1 fold test, which is now called development or dev set. This will create K different datasets with different K splits.\n",
        "\n",
        "The best practice is to average the evaluation score over the K splits.\n",
        "\n"
      ]
    },
    {
      "cell_type": "code",
      "metadata": {
        "id": "8sJkF6Bw_dlW",
        "colab": {
          "base_uri": "https://localhost:8080/",
          "height": 84
        },
        "outputId": "acc05a39-af31-4f11-88b1-25a2c987bf38"
      },
      "source": [
        "from sklearn.model_selection import KFold, cross_val_score\n",
        "X = [\"a\", \"a\", \"b\", \"c\", \"c\", \"c\"]\n",
        "K = 3\n",
        "k_fold = KFold(n_splits=K)\n",
        "print(k_fold)\n",
        "for train_indices, test_indices in k_fold.split(X):\n",
        "     print('Train: %s | test: %s' % (train_indices, test_indices))"
      ],
      "execution_count": null,
      "outputs": [
        {
          "output_type": "stream",
          "text": [
            "KFold(n_splits=3, random_state=None, shuffle=False)\n",
            "Train: [2 3 4 5] | test: [0 1]\n",
            "Train: [0 1 4 5] | test: [2 3]\n",
            "Train: [0 1 2 3] | test: [4 5]\n"
          ],
          "name": "stdout"
        }
      ]
    },
    {
      "cell_type": "markdown",
      "metadata": {
        "id": "mK48At0T_dlZ"
      },
      "source": [
        "Now let's apply it to SVC example of digits:"
      ]
    },
    {
      "cell_type": "code",
      "metadata": {
        "id": "kgxkOtF1_dlZ",
        "colab": {
          "base_uri": "https://localhost:8080/",
          "height": 67
        },
        "outputId": "2c72e91e-924e-4a61-f47d-b653ae2fb43d"
      },
      "source": [
        "for train, test in k_fold.split(X_digits):\n",
        "    print(svc.fit(X_digits[train], y_digits[train]).score(X_digits[test], y_digits[test]))\n",
        ""
      ],
      "execution_count": null,
      "outputs": [
        {
          "output_type": "stream",
          "text": [
            "0.9348914858096828\n",
            "0.9565943238731218\n",
            "0.9398998330550918\n"
          ],
          "name": "stdout"
        }
      ]
    },
    {
      "cell_type": "markdown",
      "metadata": {
        "id": "SDEqYvIy_dlb"
      },
      "source": [
        "This prints the score for the 3 folds, which we can average.\n",
        "\n",
        "\n",
        "    \n"
      ]
    },
    {
      "cell_type": "markdown",
      "metadata": {
        "id": "VlKdZ5r6_dlb"
      },
      "source": [
        "There's a helper function for the above for loop:"
      ]
    },
    {
      "cell_type": "code",
      "metadata": {
        "id": "xKvn75fV_dlc",
        "colab": {
          "base_uri": "https://localhost:8080/",
          "height": 34
        },
        "outputId": "b8bdefc7-1bb8-4893-9111-a859067d4923"
      },
      "source": [
        "cross_val_score(svc, X_digits, y_digits, cv=k_fold, n_jobs=-1)"
      ],
      "execution_count": null,
      "outputs": [
        {
          "output_type": "execute_result",
          "data": {
            "text/plain": [
              "array([0.93489149, 0.95659432, 0.93989983])"
            ]
          },
          "metadata": {
            "tags": []
          },
          "execution_count": 55
        }
      ]
    },
    {
      "cell_type": "markdown",
      "metadata": {
        "id": "Mz1WNjdA_dld"
      },
      "source": [
        "n_jobs=-1 means that the computation will be dispatched on all the CPUs of the computer."
      ]
    },
    {
      "cell_type": "markdown",
      "metadata": {
        "id": "z0u_ORs8_dle"
      },
      "source": [
        "There are many methods for CV splits. Check under (Cross-validation generators, http://scikit-learn.org/stable/tutorial/statistical_inference/model_selection.html)"
      ]
    },
    {
      "cell_type": "markdown",
      "metadata": {
        "id": "0A9RyLNE_dle"
      },
      "source": [
        "### Which model to use?\n",
        "\n",
        "Note that: to this, we have to fit 3 models to 3 different datasets.\n",
        "\n",
        "We cannot use any of them. Keep in mind the CV methods are either for evaluation, or for hyper params tuning.\n",
        "\n",
        "For hyper params tuning case, once we decide on the best model, we train based on ALL the training data."
      ]
    },
    {
      "cell_type": "markdown",
      "metadata": {
        "id": "r-2xBP2v_dle"
      },
      "source": [
        "### Cross validation and hyper params tuning\n",
        "\n",
        "The KFolds can also serve for hyper-parameters tuning.\n",
        "\n",
        "In general the test set MUST remain unseen during the whole training process.\n",
        "\n",
        "We cannot tune any parameter OR hyper parameter according to our performance on the test set. Otherwise, the model might memorize or ovefit the test set.\n",
        "\n",
        "However, we have many hyper params values to choose from.\n",
        "\n",
        "For each setting, we learn from train set, then we want to evaluate on unseen data, which cannot be the test data. So we have a third dataset called dev set.\n",
        "\n",
        "Now we can formulate hte hyper params tunining as a search problem in different settings:\n",
        "\n",
        "For each setting, we learn from train set, and evaulate on dev set. Then we may change the value of the hyper params according to how well we did on the dev set and re-train and evaluate again and so on.\n",
        "\n",
        "If the dataset is small, we may use cross-valiation as a means to have more representative train and dev sets for hyper params tuning."
      ]
    },
    {
      "cell_type": "markdown",
      "metadata": {
        "id": "cTJWNv3n_dlf"
      },
      "source": [
        "#### Grid-search and cross-validated estimators¶"
      ]
    },
    {
      "cell_type": "markdown",
      "metadata": {
        "id": "8bxvC78S_dlg"
      },
      "source": [
        "scikit-learn provides an object that, given data, computes the score during the fit of an estimator on a parameter grid and chooses the parameters to maximize the cross-validation score. This object takes an estimator during the construction and exposes an estimator API:"
      ]
    },
    {
      "cell_type": "code",
      "metadata": {
        "id": "E8deuqiN_dlg",
        "colab": {
          "base_uri": "https://localhost:8080/",
          "height": 34
        },
        "outputId": "548a9c6a-f722-4ba4-8ee6-b831fe3ae4e3"
      },
      "source": [
        "from sklearn.model_selection import GridSearchCV, cross_val_score\n",
        "Cs = np.logspace(-6, -1, 10)\n",
        "clf = GridSearchCV(estimator=svc, param_grid=dict(C=Cs), n_jobs=-1)\n",
        "clf.fit(X_digits[:1000], y_digits[:1000])\n",
        "\n",
        "clf.best_score_\n",
        "\n",
        "clf.best_estimator_.C\n",
        "\n",
        "\n",
        "# Prediction performance on test set is not as good as on train set\n",
        "clf.score(X_digits[1000:], y_digits[1000:])"
      ],
      "execution_count": null,
      "outputs": [
        {
          "output_type": "execute_result",
          "data": {
            "text/plain": [
              "0.946047678795483"
            ]
          },
          "metadata": {
            "tags": []
          },
          "execution_count": 56
        }
      ]
    },
    {
      "cell_type": "markdown",
      "metadata": {
        "id": "196K4MW2_dlj"
      },
      "source": [
        "The default is K=3 folds. You can override this by passing a cv object"
      ]
    },
    {
      "cell_type": "code",
      "metadata": {
        "id": "kk0Iocdm_dlj",
        "colab": {
          "base_uri": "https://localhost:8080/",
          "height": 34
        },
        "outputId": "62f82330-cdd3-4a22-b5e4-60953072388a"
      },
      "source": [
        "from sklearn.model_selection import GridSearchCV, cross_val_score\n",
        "Cs = np.logspace(-6, -1, 10)\n",
        "\n",
        "K = 10\n",
        "k_fold = KFold(n_splits=K)\n",
        "\n",
        "\n",
        "clf = GridSearchCV(estimator=svc, cv=k_fold, param_grid=dict(C=Cs), n_jobs=-1)\n",
        "clf.fit(X_digits[:1000], y_digits[:1000])\n",
        "\n",
        "clf.best_score_\n",
        "\n",
        "clf.best_estimator_.C\n",
        "\n",
        "\n",
        "# Prediction performance on test set is not as good as on train set\n",
        "clf.score(X_digits[1000:], y_digits[1000:])"
      ],
      "execution_count": null,
      "outputs": [
        {
          "output_type": "execute_result",
          "data": {
            "text/plain": [
              "0.946047678795483"
            ]
          },
          "metadata": {
            "tags": []
          },
          "execution_count": 57
        }
      ]
    },
    {
      "cell_type": "markdown",
      "metadata": {
        "id": "aFmxyF_T_dll"
      },
      "source": [
        "## Nested CV"
      ]
    },
    {
      "cell_type": "markdown",
      "metadata": {
        "id": "icYGWbUB_dll"
      },
      "source": [
        "What if you want to cross validate the model after grid search is performed?"
      ]
    },
    {
      "cell_type": "code",
      "metadata": {
        "id": "l4C5EG9k_dlm",
        "colab": {
          "base_uri": "https://localhost:8080/",
          "height": 34
        },
        "outputId": "c1bb906a-1aa6-4a91-a651-14b7e07c014b"
      },
      "source": [
        "K = 4\n",
        "k_fold = KFold(n_splits=K)\n",
        "cross_val_score(clf, X_digits, y_digits, cv=k_fold)"
      ],
      "execution_count": null,
      "outputs": [
        {
          "output_type": "execute_result",
          "data": {
            "text/plain": [
              "array([0.95777778, 0.94654788, 0.98663697, 0.93986637])"
            ]
          },
          "metadata": {
            "tags": []
          },
          "execution_count": 58
        }
      ]
    },
    {
      "cell_type": "markdown",
      "metadata": {
        "id": "Ny33mC07_dls"
      },
      "source": [
        "# Pipelining in sklear"
      ]
    },
    {
      "cell_type": "markdown",
      "metadata": {
        "id": "bUY5p8GG_dls"
      },
      "source": [
        "We have seen that some estimators can transform data and that some estimators can predict variables.\n",
        "\n",
        "You may need to pre-process, then fit a classifier. This whole pipeline is you estimator, that you want to pass for GridSearch for example.\n",
        "\n",
        "\n",
        "We can also create combined estimators:"
      ]
    },
    {
      "cell_type": "code",
      "metadata": {
        "id": "u8y2L710_dlt",
        "colab": {
          "base_uri": "https://localhost:8080/",
          "height": 1000
        },
        "outputId": "8991507c-68f7-42a2-91b4-4f644d23097c"
      },
      "source": [
        "import numpy as np\n",
        "import matplotlib.pyplot as plt\n",
        "\n",
        "from sklearn import linear_model, decomposition, datasets\n",
        "from sklearn.pipeline import Pipeline\n",
        "from sklearn.model_selection import GridSearchCV\n",
        "\n",
        "logistic = linear_model.LogisticRegression()\n",
        "\n",
        "pca = decomposition.PCA()\n",
        "pipe = Pipeline(steps=[('pca', pca), ('logistic', logistic)])\n",
        "\n",
        "digits = datasets.load_digits()\n",
        "X_digits = digits.data\n",
        "y_digits = digits.target\n",
        "\n",
        "# Plot the PCA spectrum\n",
        "pca.fit(X_digits)\n",
        "\n",
        "plt.figure(1, figsize=(4, 3))\n",
        "plt.clf()\n",
        "plt.axes([.2, .2, .7, .7])\n",
        "plt.plot(pca.explained_variance_, linewidth=2)\n",
        "plt.axis('tight')\n",
        "plt.xlabel('n_components')\n",
        "plt.ylabel('explained_variance_')\n",
        "\n",
        "# Prediction\n",
        "n_components = [20, 40, 64]\n",
        "Cs = np.logspace(-4, 4, 3)\n",
        "\n",
        "# Parameters of pipelines can be set using ‘__’ separated parameter names:\n",
        "estimator = GridSearchCV(pipe,\n",
        "                         dict(pca__n_components=n_components,\n",
        "                              logistic__C=Cs))\n",
        "estimator.fit(X_digits, y_digits)\n",
        "\n",
        "plt.axvline(estimator.best_estimator_.named_steps['pca'].n_components,\n",
        "            linestyle=':', label='n_components chosen')\n",
        "plt.legend(prop=dict(size=12))\n",
        "plt.show()"
      ],
      "execution_count": null,
      "outputs": [
        {
          "output_type": "stream",
          "text": [
            "/usr/local/lib/python3.6/dist-packages/sklearn/linear_model/_logistic.py:940: ConvergenceWarning: lbfgs failed to converge (status=1):\n",
            "STOP: TOTAL NO. of ITERATIONS REACHED LIMIT.\n",
            "\n",
            "Increase the number of iterations (max_iter) or scale the data as shown in:\n",
            "    https://scikit-learn.org/stable/modules/preprocessing.html\n",
            "Please also refer to the documentation for alternative solver options:\n",
            "    https://scikit-learn.org/stable/modules/linear_model.html#logistic-regression\n",
            "  extra_warning_msg=_LOGISTIC_SOLVER_CONVERGENCE_MSG)\n",
            "/usr/local/lib/python3.6/dist-packages/sklearn/linear_model/_logistic.py:940: ConvergenceWarning: lbfgs failed to converge (status=1):\n",
            "STOP: TOTAL NO. of ITERATIONS REACHED LIMIT.\n",
            "\n",
            "Increase the number of iterations (max_iter) or scale the data as shown in:\n",
            "    https://scikit-learn.org/stable/modules/preprocessing.html\n",
            "Please also refer to the documentation for alternative solver options:\n",
            "    https://scikit-learn.org/stable/modules/linear_model.html#logistic-regression\n",
            "  extra_warning_msg=_LOGISTIC_SOLVER_CONVERGENCE_MSG)\n",
            "/usr/local/lib/python3.6/dist-packages/sklearn/linear_model/_logistic.py:940: ConvergenceWarning: lbfgs failed to converge (status=1):\n",
            "STOP: TOTAL NO. of ITERATIONS REACHED LIMIT.\n",
            "\n",
            "Increase the number of iterations (max_iter) or scale the data as shown in:\n",
            "    https://scikit-learn.org/stable/modules/preprocessing.html\n",
            "Please also refer to the documentation for alternative solver options:\n",
            "    https://scikit-learn.org/stable/modules/linear_model.html#logistic-regression\n",
            "  extra_warning_msg=_LOGISTIC_SOLVER_CONVERGENCE_MSG)\n",
            "/usr/local/lib/python3.6/dist-packages/sklearn/linear_model/_logistic.py:940: ConvergenceWarning: lbfgs failed to converge (status=1):\n",
            "STOP: TOTAL NO. of ITERATIONS REACHED LIMIT.\n",
            "\n",
            "Increase the number of iterations (max_iter) or scale the data as shown in:\n",
            "    https://scikit-learn.org/stable/modules/preprocessing.html\n",
            "Please also refer to the documentation for alternative solver options:\n",
            "    https://scikit-learn.org/stable/modules/linear_model.html#logistic-regression\n",
            "  extra_warning_msg=_LOGISTIC_SOLVER_CONVERGENCE_MSG)\n",
            "/usr/local/lib/python3.6/dist-packages/sklearn/linear_model/_logistic.py:940: ConvergenceWarning: lbfgs failed to converge (status=1):\n",
            "STOP: TOTAL NO. of ITERATIONS REACHED LIMIT.\n",
            "\n",
            "Increase the number of iterations (max_iter) or scale the data as shown in:\n",
            "    https://scikit-learn.org/stable/modules/preprocessing.html\n",
            "Please also refer to the documentation for alternative solver options:\n",
            "    https://scikit-learn.org/stable/modules/linear_model.html#logistic-regression\n",
            "  extra_warning_msg=_LOGISTIC_SOLVER_CONVERGENCE_MSG)\n",
            "/usr/local/lib/python3.6/dist-packages/sklearn/linear_model/_logistic.py:940: ConvergenceWarning: lbfgs failed to converge (status=1):\n",
            "STOP: TOTAL NO. of ITERATIONS REACHED LIMIT.\n",
            "\n",
            "Increase the number of iterations (max_iter) or scale the data as shown in:\n",
            "    https://scikit-learn.org/stable/modules/preprocessing.html\n",
            "Please also refer to the documentation for alternative solver options:\n",
            "    https://scikit-learn.org/stable/modules/linear_model.html#logistic-regression\n",
            "  extra_warning_msg=_LOGISTIC_SOLVER_CONVERGENCE_MSG)\n",
            "/usr/local/lib/python3.6/dist-packages/sklearn/linear_model/_logistic.py:940: ConvergenceWarning: lbfgs failed to converge (status=1):\n",
            "STOP: TOTAL NO. of ITERATIONS REACHED LIMIT.\n",
            "\n",
            "Increase the number of iterations (max_iter) or scale the data as shown in:\n",
            "    https://scikit-learn.org/stable/modules/preprocessing.html\n",
            "Please also refer to the documentation for alternative solver options:\n",
            "    https://scikit-learn.org/stable/modules/linear_model.html#logistic-regression\n",
            "  extra_warning_msg=_LOGISTIC_SOLVER_CONVERGENCE_MSG)\n",
            "/usr/local/lib/python3.6/dist-packages/sklearn/linear_model/_logistic.py:940: ConvergenceWarning: lbfgs failed to converge (status=1):\n",
            "STOP: TOTAL NO. of ITERATIONS REACHED LIMIT.\n",
            "\n",
            "Increase the number of iterations (max_iter) or scale the data as shown in:\n",
            "    https://scikit-learn.org/stable/modules/preprocessing.html\n",
            "Please also refer to the documentation for alternative solver options:\n",
            "    https://scikit-learn.org/stable/modules/linear_model.html#logistic-regression\n",
            "  extra_warning_msg=_LOGISTIC_SOLVER_CONVERGENCE_MSG)\n",
            "/usr/local/lib/python3.6/dist-packages/sklearn/linear_model/_logistic.py:940: ConvergenceWarning: lbfgs failed to converge (status=1):\n",
            "STOP: TOTAL NO. of ITERATIONS REACHED LIMIT.\n",
            "\n",
            "Increase the number of iterations (max_iter) or scale the data as shown in:\n",
            "    https://scikit-learn.org/stable/modules/preprocessing.html\n",
            "Please also refer to the documentation for alternative solver options:\n",
            "    https://scikit-learn.org/stable/modules/linear_model.html#logistic-regression\n",
            "  extra_warning_msg=_LOGISTIC_SOLVER_CONVERGENCE_MSG)\n",
            "/usr/local/lib/python3.6/dist-packages/sklearn/linear_model/_logistic.py:940: ConvergenceWarning: lbfgs failed to converge (status=1):\n",
            "STOP: TOTAL NO. of ITERATIONS REACHED LIMIT.\n",
            "\n",
            "Increase the number of iterations (max_iter) or scale the data as shown in:\n",
            "    https://scikit-learn.org/stable/modules/preprocessing.html\n",
            "Please also refer to the documentation for alternative solver options:\n",
            "    https://scikit-learn.org/stable/modules/linear_model.html#logistic-regression\n",
            "  extra_warning_msg=_LOGISTIC_SOLVER_CONVERGENCE_MSG)\n",
            "/usr/local/lib/python3.6/dist-packages/sklearn/linear_model/_logistic.py:940: ConvergenceWarning: lbfgs failed to converge (status=1):\n",
            "STOP: TOTAL NO. of ITERATIONS REACHED LIMIT.\n",
            "\n",
            "Increase the number of iterations (max_iter) or scale the data as shown in:\n",
            "    https://scikit-learn.org/stable/modules/preprocessing.html\n",
            "Please also refer to the documentation for alternative solver options:\n",
            "    https://scikit-learn.org/stable/modules/linear_model.html#logistic-regression\n",
            "  extra_warning_msg=_LOGISTIC_SOLVER_CONVERGENCE_MSG)\n",
            "/usr/local/lib/python3.6/dist-packages/sklearn/linear_model/_logistic.py:940: ConvergenceWarning: lbfgs failed to converge (status=1):\n",
            "STOP: TOTAL NO. of ITERATIONS REACHED LIMIT.\n",
            "\n",
            "Increase the number of iterations (max_iter) or scale the data as shown in:\n",
            "    https://scikit-learn.org/stable/modules/preprocessing.html\n",
            "Please also refer to the documentation for alternative solver options:\n",
            "    https://scikit-learn.org/stable/modules/linear_model.html#logistic-regression\n",
            "  extra_warning_msg=_LOGISTIC_SOLVER_CONVERGENCE_MSG)\n",
            "/usr/local/lib/python3.6/dist-packages/sklearn/linear_model/_logistic.py:940: ConvergenceWarning: lbfgs failed to converge (status=1):\n",
            "STOP: TOTAL NO. of ITERATIONS REACHED LIMIT.\n",
            "\n",
            "Increase the number of iterations (max_iter) or scale the data as shown in:\n",
            "    https://scikit-learn.org/stable/modules/preprocessing.html\n",
            "Please also refer to the documentation for alternative solver options:\n",
            "    https://scikit-learn.org/stable/modules/linear_model.html#logistic-regression\n",
            "  extra_warning_msg=_LOGISTIC_SOLVER_CONVERGENCE_MSG)\n",
            "/usr/local/lib/python3.6/dist-packages/sklearn/linear_model/_logistic.py:940: ConvergenceWarning: lbfgs failed to converge (status=1):\n",
            "STOP: TOTAL NO. of ITERATIONS REACHED LIMIT.\n",
            "\n",
            "Increase the number of iterations (max_iter) or scale the data as shown in:\n",
            "    https://scikit-learn.org/stable/modules/preprocessing.html\n",
            "Please also refer to the documentation for alternative solver options:\n",
            "    https://scikit-learn.org/stable/modules/linear_model.html#logistic-regression\n",
            "  extra_warning_msg=_LOGISTIC_SOLVER_CONVERGENCE_MSG)\n",
            "/usr/local/lib/python3.6/dist-packages/sklearn/linear_model/_logistic.py:940: ConvergenceWarning: lbfgs failed to converge (status=1):\n",
            "STOP: TOTAL NO. of ITERATIONS REACHED LIMIT.\n",
            "\n",
            "Increase the number of iterations (max_iter) or scale the data as shown in:\n",
            "    https://scikit-learn.org/stable/modules/preprocessing.html\n",
            "Please also refer to the documentation for alternative solver options:\n",
            "    https://scikit-learn.org/stable/modules/linear_model.html#logistic-regression\n",
            "  extra_warning_msg=_LOGISTIC_SOLVER_CONVERGENCE_MSG)\n",
            "/usr/local/lib/python3.6/dist-packages/sklearn/linear_model/_logistic.py:940: ConvergenceWarning: lbfgs failed to converge (status=1):\n",
            "STOP: TOTAL NO. of ITERATIONS REACHED LIMIT.\n",
            "\n",
            "Increase the number of iterations (max_iter) or scale the data as shown in:\n",
            "    https://scikit-learn.org/stable/modules/preprocessing.html\n",
            "Please also refer to the documentation for alternative solver options:\n",
            "    https://scikit-learn.org/stable/modules/linear_model.html#logistic-regression\n",
            "  extra_warning_msg=_LOGISTIC_SOLVER_CONVERGENCE_MSG)\n",
            "/usr/local/lib/python3.6/dist-packages/sklearn/linear_model/_logistic.py:940: ConvergenceWarning: lbfgs failed to converge (status=1):\n",
            "STOP: TOTAL NO. of ITERATIONS REACHED LIMIT.\n",
            "\n",
            "Increase the number of iterations (max_iter) or scale the data as shown in:\n",
            "    https://scikit-learn.org/stable/modules/preprocessing.html\n",
            "Please also refer to the documentation for alternative solver options:\n",
            "    https://scikit-learn.org/stable/modules/linear_model.html#logistic-regression\n",
            "  extra_warning_msg=_LOGISTIC_SOLVER_CONVERGENCE_MSG)\n",
            "/usr/local/lib/python3.6/dist-packages/sklearn/linear_model/_logistic.py:940: ConvergenceWarning: lbfgs failed to converge (status=1):\n",
            "STOP: TOTAL NO. of ITERATIONS REACHED LIMIT.\n",
            "\n",
            "Increase the number of iterations (max_iter) or scale the data as shown in:\n",
            "    https://scikit-learn.org/stable/modules/preprocessing.html\n",
            "Please also refer to the documentation for alternative solver options:\n",
            "    https://scikit-learn.org/stable/modules/linear_model.html#logistic-regression\n",
            "  extra_warning_msg=_LOGISTIC_SOLVER_CONVERGENCE_MSG)\n",
            "/usr/local/lib/python3.6/dist-packages/sklearn/linear_model/_logistic.py:940: ConvergenceWarning: lbfgs failed to converge (status=1):\n",
            "STOP: TOTAL NO. of ITERATIONS REACHED LIMIT.\n",
            "\n",
            "Increase the number of iterations (max_iter) or scale the data as shown in:\n",
            "    https://scikit-learn.org/stable/modules/preprocessing.html\n",
            "Please also refer to the documentation for alternative solver options:\n",
            "    https://scikit-learn.org/stable/modules/linear_model.html#logistic-regression\n",
            "  extra_warning_msg=_LOGISTIC_SOLVER_CONVERGENCE_MSG)\n",
            "/usr/local/lib/python3.6/dist-packages/sklearn/linear_model/_logistic.py:940: ConvergenceWarning: lbfgs failed to converge (status=1):\n",
            "STOP: TOTAL NO. of ITERATIONS REACHED LIMIT.\n",
            "\n",
            "Increase the number of iterations (max_iter) or scale the data as shown in:\n",
            "    https://scikit-learn.org/stable/modules/preprocessing.html\n",
            "Please also refer to the documentation for alternative solver options:\n",
            "    https://scikit-learn.org/stable/modules/linear_model.html#logistic-regression\n",
            "  extra_warning_msg=_LOGISTIC_SOLVER_CONVERGENCE_MSG)\n",
            "/usr/local/lib/python3.6/dist-packages/sklearn/linear_model/_logistic.py:940: ConvergenceWarning: lbfgs failed to converge (status=1):\n",
            "STOP: TOTAL NO. of ITERATIONS REACHED LIMIT.\n",
            "\n",
            "Increase the number of iterations (max_iter) or scale the data as shown in:\n",
            "    https://scikit-learn.org/stable/modules/preprocessing.html\n",
            "Please also refer to the documentation for alternative solver options:\n",
            "    https://scikit-learn.org/stable/modules/linear_model.html#logistic-regression\n",
            "  extra_warning_msg=_LOGISTIC_SOLVER_CONVERGENCE_MSG)\n",
            "/usr/local/lib/python3.6/dist-packages/sklearn/linear_model/_logistic.py:940: ConvergenceWarning: lbfgs failed to converge (status=1):\n",
            "STOP: TOTAL NO. of ITERATIONS REACHED LIMIT.\n",
            "\n",
            "Increase the number of iterations (max_iter) or scale the data as shown in:\n",
            "    https://scikit-learn.org/stable/modules/preprocessing.html\n",
            "Please also refer to the documentation for alternative solver options:\n",
            "    https://scikit-learn.org/stable/modules/linear_model.html#logistic-regression\n",
            "  extra_warning_msg=_LOGISTIC_SOLVER_CONVERGENCE_MSG)\n",
            "/usr/local/lib/python3.6/dist-packages/sklearn/linear_model/_logistic.py:940: ConvergenceWarning: lbfgs failed to converge (status=1):\n",
            "STOP: TOTAL NO. of ITERATIONS REACHED LIMIT.\n",
            "\n",
            "Increase the number of iterations (max_iter) or scale the data as shown in:\n",
            "    https://scikit-learn.org/stable/modules/preprocessing.html\n",
            "Please also refer to the documentation for alternative solver options:\n",
            "    https://scikit-learn.org/stable/modules/linear_model.html#logistic-regression\n",
            "  extra_warning_msg=_LOGISTIC_SOLVER_CONVERGENCE_MSG)\n",
            "/usr/local/lib/python3.6/dist-packages/sklearn/linear_model/_logistic.py:940: ConvergenceWarning: lbfgs failed to converge (status=1):\n",
            "STOP: TOTAL NO. of ITERATIONS REACHED LIMIT.\n",
            "\n",
            "Increase the number of iterations (max_iter) or scale the data as shown in:\n",
            "    https://scikit-learn.org/stable/modules/preprocessing.html\n",
            "Please also refer to the documentation for alternative solver options:\n",
            "    https://scikit-learn.org/stable/modules/linear_model.html#logistic-regression\n",
            "  extra_warning_msg=_LOGISTIC_SOLVER_CONVERGENCE_MSG)\n",
            "/usr/local/lib/python3.6/dist-packages/sklearn/linear_model/_logistic.py:940: ConvergenceWarning: lbfgs failed to converge (status=1):\n",
            "STOP: TOTAL NO. of ITERATIONS REACHED LIMIT.\n",
            "\n",
            "Increase the number of iterations (max_iter) or scale the data as shown in:\n",
            "    https://scikit-learn.org/stable/modules/preprocessing.html\n",
            "Please also refer to the documentation for alternative solver options:\n",
            "    https://scikit-learn.org/stable/modules/linear_model.html#logistic-regression\n",
            "  extra_warning_msg=_LOGISTIC_SOLVER_CONVERGENCE_MSG)\n",
            "/usr/local/lib/python3.6/dist-packages/sklearn/linear_model/_logistic.py:940: ConvergenceWarning: lbfgs failed to converge (status=1):\n",
            "STOP: TOTAL NO. of ITERATIONS REACHED LIMIT.\n",
            "\n",
            "Increase the number of iterations (max_iter) or scale the data as shown in:\n",
            "    https://scikit-learn.org/stable/modules/preprocessing.html\n",
            "Please also refer to the documentation for alternative solver options:\n",
            "    https://scikit-learn.org/stable/modules/linear_model.html#logistic-regression\n",
            "  extra_warning_msg=_LOGISTIC_SOLVER_CONVERGENCE_MSG)\n",
            "/usr/local/lib/python3.6/dist-packages/sklearn/linear_model/_logistic.py:940: ConvergenceWarning: lbfgs failed to converge (status=1):\n",
            "STOP: TOTAL NO. of ITERATIONS REACHED LIMIT.\n",
            "\n",
            "Increase the number of iterations (max_iter) or scale the data as shown in:\n",
            "    https://scikit-learn.org/stable/modules/preprocessing.html\n",
            "Please also refer to the documentation for alternative solver options:\n",
            "    https://scikit-learn.org/stable/modules/linear_model.html#logistic-regression\n",
            "  extra_warning_msg=_LOGISTIC_SOLVER_CONVERGENCE_MSG)\n",
            "/usr/local/lib/python3.6/dist-packages/sklearn/linear_model/_logistic.py:940: ConvergenceWarning: lbfgs failed to converge (status=1):\n",
            "STOP: TOTAL NO. of ITERATIONS REACHED LIMIT.\n",
            "\n",
            "Increase the number of iterations (max_iter) or scale the data as shown in:\n",
            "    https://scikit-learn.org/stable/modules/preprocessing.html\n",
            "Please also refer to the documentation for alternative solver options:\n",
            "    https://scikit-learn.org/stable/modules/linear_model.html#logistic-regression\n",
            "  extra_warning_msg=_LOGISTIC_SOLVER_CONVERGENCE_MSG)\n"
          ],
          "name": "stderr"
        },
        {
          "output_type": "display_data",
          "data": {
            "image/png": "[encoded data removed]",
            "text/plain": [
              "<Figure size 288x216 with 1 Axes>"
            ]
          },
          "metadata": {
            "tags": [],
            "needs_background": "light"
          }
        }
      ]
    },
    {
      "cell_type": "markdown",
      "metadata": {
        "id": "J56JSxBx_dlz"
      },
      "source": [
        "# Full example on face recognition:"
      ]
    },
    {
      "cell_type": "code",
      "metadata": {
        "id": "baH1R6cz_dl0",
        "colab": {
          "base_uri": "https://localhost:8080/",
          "height": 1000
        },
        "outputId": "22bd4c49-f3ec-4f6d-a060-1413f58bce64"
      },
      "source": [
        "\"\"\"\n",
        "===================================================\n",
        "Faces recognition example using eigenfaces and SVMs\n",
        "===================================================\n",
        "\n",
        "The dataset used in this example is a preprocessed excerpt of the\n",
        "\"Labeled Faces in the Wild\", aka LFW_:\n",
        "\n",
        "  http://vis-www.cs.umass.edu/lfw/lfw-funneled.tgz (233MB)\n",
        "\n",
        ".. _LFW: http://vis-www.cs.umass.edu/lfw/\n",
        "\n",
        "Expected results for the top 5 most represented people in the dataset:\n",
        "\n",
        "================== ============ ======= ========== =======\n",
        "                   precision    recall  f1-score   support\n",
        "================== ============ ======= ========== =======\n",
        "     Ariel Sharon       0.67      0.92      0.77        13\n",
        "     Colin Powell       0.75      0.78      0.76        60\n",
        "  Donald Rumsfeld       0.78      0.67      0.72        27\n",
        "    George W Bush       0.86      0.86      0.86       146\n",
        "Gerhard Schroeder       0.76      0.76      0.76        25\n",
        "      Hugo Chavez       0.67      0.67      0.67        15\n",
        "       Tony Blair       0.81      0.69      0.75        36\n",
        "\n",
        "      avg / total       0.80      0.80      0.80       322\n",
        "================== ============ ======= ========== =======\n",
        "\n",
        "\"\"\"\n",
        "from __future__ import print_function\n",
        "\n",
        "from time import time\n",
        "import logging\n",
        "import matplotlib.pyplot as plt\n",
        "\n",
        "from sklearn.model_selection import train_test_split\n",
        "from sklearn.model_selection import GridSearchCV\n",
        "from sklearn.datasets import fetch_lfw_people\n",
        "from sklearn.metrics import classification_report\n",
        "from sklearn.metrics import confusion_matrix\n",
        "from sklearn.decomposition import PCA\n",
        "from sklearn.svm import SVC\n",
        "\n",
        "\n",
        "print(__doc__)\n",
        "\n",
        "# Display progress logs on stdout\n",
        "logging.basicConfig(level=logging.INFO, format='%(asctime)s %(message)s')\n",
        "\n",
        "\n",
        "# #############################################################################\n",
        "# Download the data, if not already on disk and load it as numpy arrays\n",
        "\n",
        "lfw_people = fetch_lfw_people(min_faces_per_person=70, resize=0.4)\n",
        "\n",
        "# introspect the images arrays to find the shapes (for plotting)\n",
        "n_samples, h, w = lfw_people.images.shape\n",
        "\n",
        "# for machine learning we use the 2 data directly (as relative pixel\n",
        "# positions info is ignored by this model)\n",
        "X = lfw_people.data\n",
        "n_features = X.shape[1]\n",
        "\n",
        "# the label to predict is the id of the person\n",
        "y = lfw_people.target\n",
        "target_names = lfw_people.target_names\n",
        "n_classes = target_names.shape[0]\n",
        "\n",
        "print(\"Total dataset size:\")\n",
        "print(\"n_samples: %d\" % n_samples)\n",
        "print(\"n_features: %d\" % n_features)\n",
        "print(\"n_classes: %d\" % n_classes)\n",
        "\n",
        "\n",
        "# #############################################################################\n",
        "# Split into a training set and a test set using a stratified k fold\n",
        "\n",
        "# split into a training and testing set\n",
        "X_train, X_test, y_train, y_test = train_test_split(\n",
        "    X, y, test_size=0.25, random_state=42)\n",
        "\n",
        "\n",
        "# #############################################################################\n",
        "# Compute a PCA (eigenfaces) on the face dataset (treated as unlabeled\n",
        "# dataset): unsupervised feature extraction / dimensionality reduction\n",
        "n_components = 150\n",
        "\n",
        "print(\"Extracting the top %d eigenfaces from %d faces\"\n",
        "      % (n_components, X_train.shape[0]))\n",
        "t0 = time()\n",
        "pca = PCA(n_components=n_components, svd_solver='randomized',\n",
        "          whiten=True).fit(X_train)\n",
        "print(\"done in %0.3fs\" % (time() - t0))\n",
        "\n",
        "eigenfaces = pca.components_.reshape((n_components, h, w))\n",
        "\n",
        "print(\"Projecting the input data on the eigenfaces orthonormal basis\")\n",
        "t0 = time()\n",
        "X_train_pca = pca.transform(X_train)\n",
        "X_test_pca = pca.transform(X_test)\n",
        "print(\"done in %0.3fs\" % (time() - t0))\n",
        "\n",
        "\n",
        "# #############################################################################\n",
        "# Train a SVM classification model\n",
        "\n",
        "print(\"Fitting the classifier to the training set\")\n",
        "t0 = time()\n",
        "param_grid = {'C': [1e3, 5e3, 1e4, 5e4, 1e5],\n",
        "              'gamma': [0.0001, 0.0005, 0.001, 0.005, 0.01, 0.1], }\n",
        "clf = GridSearchCV(SVC(kernel='rbf', class_weight='balanced'), param_grid)\n",
        "clf = clf.fit(X_train_pca, y_train)\n",
        "print(\"done in %0.3fs\" % (time() - t0))\n",
        "print(\"Best estimator found by grid search:\")\n",
        "print(clf.best_estimator_)\n",
        "\n",
        "\n",
        "# #############################################################################\n",
        "# Quantitative evaluation of the model quality on the test set\n",
        "\n",
        "print(\"Predicting people's names on the test set\")\n",
        "t0 = time()\n",
        "y_pred = clf.predict(X_test_pca)\n",
        "print(\"done in %0.3fs\" % (time() - t0))\n",
        "\n",
        "print(classification_report(y_test, y_pred, target_names=target_names))\n",
        "print(confusion_matrix(y_test, y_pred, labels=range(n_classes)))\n",
        "\n",
        "\n",
        "# #############################################################################\n",
        "# Qualitative evaluation of the predictions using matplotlib\n",
        "\n",
        "def plot_gallery(images, titles, h, w, n_row=3, n_col=4):\n",
        "    \"\"\"Helper function to plot a gallery of portraits\"\"\"\n",
        "    plt.figure(figsize=(1.8 * n_col, 2.4 * n_row))\n",
        "    plt.subplots_adjust(bottom=0, left=.01, right=.99, top=.90, hspace=.35)\n",
        "    for i in range(n_row * n_col):\n",
        "        plt.subplot(n_row, n_col, i + 1)\n",
        "        plt.imshow(images[i].reshape((h, w)), cmap=plt.cm.gray)\n",
        "        plt.title(titles[i], size=12)\n",
        "        plt.xticks(())\n",
        "        plt.yticks(())\n",
        "\n",
        "\n",
        "# plot the result of the prediction on a portion of the test set\n",
        "\n",
        "def title(y_pred, y_test, target_names, i):\n",
        "    pred_name = target_names[y_pred[i]].rsplit(' ', 1)[-1]\n",
        "    true_name = target_names[y_test[i]].rsplit(' ', 1)[-1]\n",
        "    return 'predicted: %s\\ntrue:      %s' % (pred_name, true_name)\n",
        "\n",
        "prediction_titles = [title(y_pred, y_test, target_names, i)\n",
        "                     for i in range(y_pred.shape[0])]\n",
        "\n",
        "plot_gallery(X_test, prediction_titles, h, w)\n",
        "\n",
        "# plot the gallery of the most significative eigenfaces\n",
        "\n",
        "eigenface_titles = [\"eigenface %d\" % i for i in range(eigenfaces.shape[0])]\n",
        "plot_gallery(eigenfaces, eigenface_titles, h, w)\n",
        "\n",
        "plt.show()"
      ],
      "execution_count": null,
      "outputs": [
        {
          "output_type": "stream",
          "text": [
            "Downloading LFW metadata: https://ndownloader.figshare.com/files/5976012\n",
            "2020-04-25 06:22:38,674 Downloading LFW metadata: https://ndownloader.figshare.com/files/5976012\n"
          ],
          "name": "stderr"
        },
        {
          "output_type": "stream",
          "text": [
            "\n",
            "===================================================\n",
            "Faces recognition example using eigenfaces and SVMs\n",
            "===================================================\n",
            "\n",
            "The dataset used in this example is a preprocessed excerpt of the\n",
            "\"Labeled Faces in the Wild\", aka LFW_:\n",
            "\n",
            "  http://vis-www.cs.umass.edu/lfw/lfw-funneled.tgz (233MB)\n",
            "\n",
            ".. _LFW: http://vis-www.cs.umass.edu/lfw/\n",
            "\n",
            "Expected results for the top 5 most represented people in the dataset:\n",
            "\n",
            "================== ============ ======= ========== =======\n",
            "                   precision    recall  f1-score   support\n",
            "================== ============ ======= ========== =======\n",
            "     Ariel Sharon       0.67      0.92      0.77        13\n",
            "     Colin Powell       0.75      0.78      0.76        60\n",
            "  Donald Rumsfeld       0.78      0.67      0.72        27\n",
            "    George W Bush       0.86      0.86      0.86       146\n",
            "Gerhard Schroeder       0.76      0.76      0.76        25\n",
            "      Hugo Chavez       0.67      0.67      0.67        15\n",
            "       Tony Blair       0.81      0.69      0.75        36\n",
            "\n",
            "      avg / total       0.80      0.80      0.80       322\n",
            "================== ============ ======= ========== =======\n",
            "\n",
            "\n"
          ],
          "name": "stdout"
        },
        {
          "output_type": "stream",
          "text": [
            "Downloading LFW metadata: https://ndownloader.figshare.com/files/5976009\n",
            "2020-04-25 06:22:39,715 Downloading LFW metadata: https://ndownloader.figshare.com/files/5976009\n",
            "Downloading LFW metadata: https://ndownloader.figshare.com/files/5976006\n",
            "2020-04-25 06:22:40,628 Downloading LFW metadata: https://ndownloader.figshare.com/files/5976006\n",
            "Downloading LFW data (~200MB): https://ndownloader.figshare.com/files/5976015\n",
            "2020-04-25 06:22:41,790 Downloading LFW data (~200MB): https://ndownloader.figshare.com/files/5976015\n"
          ],
          "name": "stderr"
        },
        {
          "output_type": "stream",
          "text": [
            "Total dataset size:\n",
            "n_samples: 1288\n",
            "n_features: 1850\n",
            "n_classes: 7\n",
            "Extracting the top 150 eigenfaces from 966 faces\n",
            "done in 0.215s\n",
            "Projecting the input data on the eigenfaces orthonormal basis\n",
            "done in 0.023s\n",
            "Fitting the classifier to the training set\n",
            "done in 45.079s\n",
            "Best estimator found by grid search:\n",
            "SVC(C=1000.0, break_ties=False, cache_size=200, class_weight='balanced',\n",
            "    coef0=0.0, decision_function_shape='ovr', degree=3, gamma=0.005,\n",
            "    kernel='rbf', max_iter=-1, probability=False, random_state=None,\n",
            "    shrinking=True, tol=0.001, verbose=False)\n",
            "Predicting people's names on the test set\n",
            "done in 0.076s\n",
            "                   precision    recall  f1-score   support\n",
            "\n",
            "     Ariel Sharon       0.86      0.46      0.60        13\n",
            "     Colin Powell       0.81      0.87      0.84        60\n",
            "  Donald Rumsfeld       0.86      0.67      0.75        27\n",
            "    George W Bush       0.83      0.98      0.90       146\n",
            "Gerhard Schroeder       0.95      0.76      0.84        25\n",
            "      Hugo Chavez       1.00      0.53      0.70        15\n",
            "       Tony Blair       0.97      0.78      0.86        36\n",
            "\n",
            "         accuracy                           0.85       322\n",
            "        macro avg       0.90      0.72      0.78       322\n",
            "     weighted avg       0.86      0.85      0.84       322\n",
            "\n",
            "[[  6   2   0   5   0   0   0]\n",
            " [  1  52   1   6   0   0   0]\n",
            " [  0   1  18   8   0   0   0]\n",
            " [  0   3   0 143   0   0   0]\n",
            " [  0   1   0   4  19   0   1]\n",
            " [  0   4   0   2   1   8   0]\n",
            " [  0   1   2   5   0   0  28]]\n"
          ],
          "name": "stdout"
        },
        {
          "output_type": "display_data",
          "data": {
            "image/png": "[encoded data removed]",
            "text/plain": [
              "<Figure size 518.4x518.4 with 12 Axes>"
            ]
          },
          "metadata": {
            "tags": []
          }
        },
        {
          "output_type": "display_data",
          "data": {
            "image/png": "[encoded data removed]",
            "text/plain": [
              "<Figure size 518.4x518.4 with 12 Axes>"
            ]
          },
          "metadata": {
            "tags": []
          }
        }
      ]
    },
    {
      "cell_type": "markdown",
      "metadata": {
        "id": "NxjIYQFK_dl2"
      },
      "source": [
        "## sklearn FeatureUnion"
      ]
    },
    {
      "cell_type": "markdown",
      "metadata": {
        "id": "WKJLFVbA_dl2"
      },
      "source": [
        "https://www.kaggle.com/ahmadelsallab/gru-ridge-ridgecv-ftrl-lgb/edit"
      ]
    },
    {
      "cell_type": "code",
      "metadata": {
        "id": "24pzacfp_dl2",
        "colab": {
          "base_uri": "https://localhost:8080/"
        },
        "outputId": "c280476a-eacf-40f3-c0e1-9c609eca42bb"
      },
      "source": [
        "'''\n",
        "vectorizer = FeatureUnion([\n",
        "    ('name', CountVectorizer(\n",
        "        ngram_range=(1, 2),\n",
        "        max_features=50000,\n",
        "        preprocessor=build_preprocessor('name'))),\n",
        "#     ('category_name', CountVectorizer(\n",
        "#         token_pattern='.+',\n",
        "#         preprocessor=build_preprocessor('category_name'))),\n",
        "    ('subcat_0', CountVectorizer(\n",
        "        token_pattern='.+',\n",
        "        preprocessor=build_preprocessor('subcat_0'))),\n",
        "    ('subcat_1', CountVectorizer(\n",
        "        token_pattern='.+',\n",
        "        preprocessor=build_preprocessor('subcat_1'))),\n",
        "    ('subcat_2', CountVectorizer(\n",
        "        token_pattern='.+',\n",
        "        preprocessor=build_preprocessor('subcat_2'))),\n",
        "    ('brand_name', CountVectorizer(\n",
        "        token_pattern='.+',\n",
        "        preprocessor=build_preprocessor('brand_name'))),\n",
        "    ('shipping', CountVectorizer(\n",
        "        token_pattern='\\d+',\n",
        "        preprocessor=build_preprocessor('shipping'))),\n",
        "    ('item_condition_id', CountVectorizer(\n",
        "        token_pattern='\\d+',\n",
        "        preprocessor=build_preprocessor('item_condition_id'))),\n",
        "    ('desc_len', CountVectorizer(\n",
        "        token_pattern='\\d+',\n",
        "        preprocessor=build_preprocessor('desc_len'))),\n",
        "    ('name_len', CountVectorizer(\n",
        "        token_pattern='\\d+',\n",
        "        preprocessor=build_preprocessor('name_len'))),\n",
        "    ('item_description', TfidfVectorizer(\n",
        "        ngram_range=(1, 3),\n",
        "        max_features=100000,\n",
        "        preprocessor=build_preprocessor('item_description'))),\n",
        "])\n",
        "\n",
        "X = vectorizer.fit_transform(full_df.values)\n",
        "'''"
      ],
      "execution_count": null,
      "outputs": [
        {
          "output_type": "execute_result",
          "data": {
            "text/plain": [
              "\"\\nvectorizer = FeatureUnion([\\n    ('name', CountVectorizer(\\n        ngram_range=(1, 2),\\n        max_features=50000,\\n        preprocessor=build_preprocessor('name'))),\\n#     ('category_name', CountVectorizer(\\n#         token_pattern='.+',\\n#         preprocessor=build_preprocessor('category_name'))),\\n    ('subcat_0', CountVectorizer(\\n        token_pattern='.+',\\n        preprocessor=build_preprocessor('subcat_0'))),\\n    ('subcat_1', CountVectorizer(\\n        token_pattern='.+',\\n        preprocessor=build_preprocessor('subcat_1'))),\\n    ('subcat_2', CountVectorizer(\\n        token_pattern='.+',\\n        preprocessor=build_preprocessor('subcat_2'))),\\n    ('brand_name', CountVectorizer(\\n        token_pattern='.+',\\n        preprocessor=build_preprocessor('brand_name'))),\\n    ('shipping', CountVectorizer(\\n        token_pattern='\\\\d+',\\n        preprocessor=build_preprocessor('shipping'))),\\n    ('item_condition_id', CountVectorizer(\\n        token_pattern='\\\\d+',\\n        preprocessor=build_preprocessor('item_condition_id'))),\\n    ('desc_len', CountVectorizer(\\n        token_pattern='\\\\d+',\\n        preprocessor=build_preprocessor('desc_len'))),\\n    ('name_len', CountVectorizer(\\n        token_pattern='\\\\d+',\\n        preprocessor=build_preprocessor('name_len'))),\\n    ('item_description', TfidfVectorizer(\\n        ngram_range=(1, 3),\\n        max_features=100000,\\n        preprocessor=build_preprocessor('item_description'))),\\n])\\n\\nX = vectorizer.fit_transform(full_df.values)\\n\""
            ]
          },
          "metadata": {
            "tags": []
          },
          "execution_count": 61
        }
      ]
    },
    {
      "cell_type": "markdown",
      "metadata": {
        "id": "yYj8joy0_dl4"
      },
      "source": [
        "# References\n",
        "http://scikit-learn.org/stable/tutorial/basic/tutorial.html"
      ]
    }
  ]
}